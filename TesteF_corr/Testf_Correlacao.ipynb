{
  "nbformat": 4,
  "nbformat_minor": 0,
  "metadata": {
    "colab": {
      "name": "Testf_Correlacao.ipynb",
      "provenance": [],
      "collapsed_sections": []
    },
    "kernelspec": {
      "name": "python3",
      "display_name": "Python 3"
    },
    "language_info": {
      "name": "python"
    }
  },
  "cells": [
    {
      "cell_type": "markdown",
      "metadata": {
        "id": "29SsD7pIB80f"
      },
      "source": [
        "# Teste F e Correlação"
      ]
    },
    {
      "cell_type": "markdown",
      "metadata": {
        "id": "f803wjjeB_Kb"
      },
      "source": [
        "## Módulos"
      ]
    },
    {
      "cell_type": "code",
      "metadata": {
        "id": "Dp6ESpgoB_OD"
      },
      "source": [
        "import numpy as np\n",
        "import pandas as pd\n",
        "import seaborn as sns\n",
        "import matplotlib.pyplot as plt"
      ],
      "execution_count": null,
      "outputs": []
    },
    {
      "cell_type": "code",
      "metadata": {
        "id": "OMoxP252FEah"
      },
      "source": [
        "from scipy.stats import f, f_oneway"
      ],
      "execution_count": null,
      "outputs": []
    },
    {
      "cell_type": "markdown",
      "metadata": {
        "id": "hmyMnyl3B_Rx"
      },
      "source": [
        "## Carregar dados"
      ]
    },
    {
      "cell_type": "code",
      "metadata": {
        "id": "zFRiyBQEB_Vr"
      },
      "source": [
        "dados_salarios = pd.read_csv('dados_salarios.csv')"
      ],
      "execution_count": null,
      "outputs": []
    },
    {
      "cell_type": "code",
      "metadata": {
        "id": "07FohQFSB_Y0"
      },
      "source": [
        "dados_dietas = pd.read_csv('dados_dietas.csv', sep = ';')"
      ],
      "execution_count": null,
      "outputs": []
    },
    {
      "cell_type": "code",
      "metadata": {
        "id": "1TBkNvc1BJql"
      },
      "source": [
        "dados_preco_quant = pd.read_csv('exemplo_preco_quant.csv', sep = ';')"
      ],
      "execution_count": null,
      "outputs": []
    },
    {
      "cell_type": "markdown",
      "metadata": {
        "id": "zksGivhDB_cK"
      },
      "source": [
        "## Exemplo slide 9"
      ]
    },
    {
      "cell_type": "markdown",
      "metadata": {
        "id": "nvSkEGHiHIoV"
      },
      "source": [
        "- Medidas descritivas"
      ]
    },
    {
      "cell_type": "code",
      "metadata": {
        "colab": {
          "base_uri": "https://localhost:8080/",
          "height": 111
        },
        "id": "L40N8D59HJy4",
        "outputId": "2cf0b008-b836-4aec-f734-190904ecc4c1"
      },
      "source": [
        "dados_salarios.groupby('cidade') \\\n",
        "              .agg(media_salarios = pd.NamedAgg('salarios', 'mean'),\n",
        "                   dp_salarios = pd.NamedAgg('salarios', 'std'),\n",
        "                   n = pd.NamedAgg('salarios', 'size')) \\\n",
        "              .reset_index() "
      ],
      "execution_count": null,
      "outputs": [
        {
          "output_type": "execute_result",
          "data": {
            "text/html": [
              "<div>\n",
              "<style scoped>\n",
              "    .dataframe tbody tr th:only-of-type {\n",
              "        vertical-align: middle;\n",
              "    }\n",
              "\n",
              "    .dataframe tbody tr th {\n",
              "        vertical-align: top;\n",
              "    }\n",
              "\n",
              "    .dataframe thead th {\n",
              "        text-align: right;\n",
              "    }\n",
              "</style>\n",
              "<table border=\"1\" class=\"dataframe\">\n",
              "  <thead>\n",
              "    <tr style=\"text-align: right;\">\n",
              "      <th></th>\n",
              "      <th>cidade</th>\n",
              "      <th>media_salarios</th>\n",
              "      <th>dp_salarios</th>\n",
              "      <th>n</th>\n",
              "    </tr>\n",
              "  </thead>\n",
              "  <tbody>\n",
              "    <tr>\n",
              "      <th>0</th>\n",
              "      <td>A</td>\n",
              "      <td>2964.052109</td>\n",
              "      <td>1117.505582</td>\n",
              "      <td>10</td>\n",
              "    </tr>\n",
              "    <tr>\n",
              "      <th>1</th>\n",
              "      <td>B</td>\n",
              "      <td>2432.859069</td>\n",
              "      <td>1342.126772</td>\n",
              "      <td>15</td>\n",
              "    </tr>\n",
              "  </tbody>\n",
              "</table>\n",
              "</div>"
            ],
            "text/plain": [
              "  cidade  media_salarios  dp_salarios   n\n",
              "0      A     2964.052109  1117.505582  10\n",
              "1      B     2432.859069  1342.126772  15"
            ]
          },
          "metadata": {},
          "execution_count": 9
        }
      ]
    },
    {
      "cell_type": "markdown",
      "metadata": {
        "id": "n6kFjMpJHKHt"
      },
      "source": [
        "- Realizar teste F"
      ]
    },
    {
      "cell_type": "code",
      "metadata": {
        "id": "_Z-kLLKzB_fp"
      },
      "source": [
        "salarios_cidade_a = dados_salarios[dados_salarios['cidade'] == 'A']['salarios']\n",
        "salarios_cidade_b = dados_salarios[dados_salarios['cidade'] == 'B']['salarios']"
      ],
      "execution_count": null,
      "outputs": []
    },
    {
      "cell_type": "code",
      "metadata": {
        "colab": {
          "base_uri": "https://localhost:8080/"
        },
        "id": "l8U80nz3B_jJ",
        "outputId": "1bb31d61-34ca-4653-f230-5bad9198ecb8"
      },
      "source": [
        "f_valor = np.var(salarios_cidade_a, ddof=1) / np.var(salarios_cidade_b, ddof=1)\n",
        "f_valor"
      ],
      "execution_count": null,
      "outputs": [
        {
          "output_type": "execute_result",
          "data": {
            "text/plain": [
              "0.6932858292724237"
            ]
          },
          "metadata": {},
          "execution_count": 11
        }
      ]
    },
    {
      "cell_type": "code",
      "metadata": {
        "colab": {
          "base_uri": "https://localhost:8080/"
        },
        "id": "J7twaCQbG6UX",
        "outputId": "0dde872d-5e8c-4e11-cdb4-200206025f3b"
      },
      "source": [
        "gl_a = len(salarios_cidade_a) - 1\n",
        "gl_b = len(salarios_cidade_b) - 1\n",
        "gl_a, gl_b"
      ],
      "execution_count": null,
      "outputs": [
        {
          "output_type": "execute_result",
          "data": {
            "text/plain": [
              "(9, 14)"
            ]
          },
          "metadata": {},
          "execution_count": 12
        }
      ]
    },
    {
      "cell_type": "code",
      "metadata": {
        "id": "tBAD0RNMJ-u5"
      },
      "source": [
        "def f_p_value(f_statistic, df_n, df_d, test_type):\n",
        "  \n",
        "  '''test_type: greater, less, two.sided'''\n",
        "  \n",
        "  if test_type == 'greater':\n",
        "    return 1 - f.cdf(f_valor, df_n, df_d)\n",
        "  elif test_type == 'less':\n",
        "    return f.cdf(f_valor, df_n, df_d)\n",
        "  elif test_type == 'two.sided':\n",
        "    p1 = f.cdf(f_valor, df_n, df_d)\n",
        "    p2 = 1 - f.cdf(f_valor, df_n, df_d)\n",
        "    return np.min([p1, p2])*2\n",
        "  else:\n",
        "    raise TypeError(\"'test_type' only accept options: 'greater', 'less' or 'two.sided'\")"
      ],
      "execution_count": null,
      "outputs": []
    },
    {
      "cell_type": "code",
      "metadata": {
        "id": "-hI-ed1rRYRg"
      },
      "source": [
        "p = f_p_value(f_valor, gl_a, gl_b, 'two.sided')"
      ],
      "execution_count": null,
      "outputs": []
    },
    {
      "cell_type": "code",
      "metadata": {
        "colab": {
          "base_uri": "https://localhost:8080/"
        },
        "id": "dczPYlRgRYV1",
        "outputId": "a5fe694e-5692-4150-8bb2-59fb71d8fd7a"
      },
      "source": [
        "# resumo do teste\n",
        "f_valor, p"
      ],
      "execution_count": null,
      "outputs": [
        {
          "output_type": "execute_result",
          "data": {
            "text/plain": [
              "(0.6932858292724237, 0.5895222755367536)"
            ]
          },
          "metadata": {},
          "execution_count": 15
        }
      ]
    },
    {
      "cell_type": "markdown",
      "metadata": {
        "id": "QIBtPPXzRYaq"
      },
      "source": [
        "## Exemplo Slide 15"
      ]
    },
    {
      "cell_type": "markdown",
      "metadata": {
        "id": "2Y3iOTRnB_5y"
      },
      "source": [
        "- Medidas descritivas"
      ]
    },
    {
      "cell_type": "code",
      "metadata": {
        "colab": {
          "base_uri": "https://localhost:8080/",
          "height": 173
        },
        "id": "EHpIoXhNUZjH",
        "outputId": "17c865c7-6c9f-4946-b379-01ce4990d35e"
      },
      "source": [
        "dados_dietas.groupby('dieta') \\\n",
        "              .agg(media_perdapeso = pd.NamedAgg('perda_peso_kg', 'mean'),\n",
        "                   dp_perdapeso = pd.NamedAgg('perda_peso_kg', 'std'),\n",
        "                   n = pd.NamedAgg('perda_peso_kg', 'size')) \\\n",
        "              .reset_index() "
      ],
      "execution_count": null,
      "outputs": [
        {
          "output_type": "execute_result",
          "data": {
            "text/html": [
              "<div>\n",
              "<style scoped>\n",
              "    .dataframe tbody tr th:only-of-type {\n",
              "        vertical-align: middle;\n",
              "    }\n",
              "\n",
              "    .dataframe tbody tr th {\n",
              "        vertical-align: top;\n",
              "    }\n",
              "\n",
              "    .dataframe thead th {\n",
              "        text-align: right;\n",
              "    }\n",
              "</style>\n",
              "<table border=\"1\" class=\"dataframe\">\n",
              "  <thead>\n",
              "    <tr style=\"text-align: right;\">\n",
              "      <th></th>\n",
              "      <th>dieta</th>\n",
              "      <th>media_perdapeso</th>\n",
              "      <th>dp_perdapeso</th>\n",
              "      <th>n</th>\n",
              "    </tr>\n",
              "  </thead>\n",
              "  <tbody>\n",
              "    <tr>\n",
              "      <th>0</th>\n",
              "      <td>baixa_caloria</td>\n",
              "      <td>6.6</td>\n",
              "      <td>2.302173</td>\n",
              "      <td>5</td>\n",
              "    </tr>\n",
              "    <tr>\n",
              "      <th>1</th>\n",
              "      <td>baixa_gordura</td>\n",
              "      <td>3.0</td>\n",
              "      <td>1.581139</td>\n",
              "      <td>5</td>\n",
              "    </tr>\n",
              "    <tr>\n",
              "      <th>2</th>\n",
              "      <td>baixo_carboidrato</td>\n",
              "      <td>3.4</td>\n",
              "      <td>1.140175</td>\n",
              "      <td>5</td>\n",
              "    </tr>\n",
              "    <tr>\n",
              "      <th>3</th>\n",
              "      <td>grupo_controle</td>\n",
              "      <td>1.2</td>\n",
              "      <td>1.643168</td>\n",
              "      <td>5</td>\n",
              "    </tr>\n",
              "  </tbody>\n",
              "</table>\n",
              "</div>"
            ],
            "text/plain": [
              "               dieta  media_perdapeso  dp_perdapeso  n\n",
              "0      baixa_caloria              6.6      2.302173  5\n",
              "1      baixa_gordura              3.0      1.581139  5\n",
              "2  baixo_carboidrato              3.4      1.140175  5\n",
              "3     grupo_controle              1.2      1.643168  5"
            ]
          },
          "metadata": {},
          "execution_count": 86
        }
      ]
    },
    {
      "cell_type": "markdown",
      "metadata": {
        "id": "BYEZStRRUZnF"
      },
      "source": [
        "- Gráfico comparativo"
      ]
    },
    {
      "cell_type": "code",
      "metadata": {
        "colab": {
          "base_uri": "https://localhost:8080/",
          "height": 320
        },
        "id": "RdSlfYU4UZqV",
        "outputId": "d2513810-3e0e-4644-9259-5bd665df3b34"
      },
      "source": [
        "dados_dietas.boxplot(column='perda_peso_kg', by = 'dieta')"
      ],
      "execution_count": null,
      "outputs": [
        {
          "output_type": "execute_result",
          "data": {
            "text/plain": [
              "<matplotlib.axes._subplots.AxesSubplot at 0x7fd8996c7290>"
            ]
          },
          "metadata": {},
          "execution_count": 16
        },
        {
          "output_type": "display_data",
          "data": {
            "image/png": "[encoded data removed]",
            "text/plain": [
              "<Figure size 432x288 with 1 Axes>"
            ]
          },
          "metadata": {
            "needs_background": "light"
          }
        }
      ]
    },
    {
      "cell_type": "markdown",
      "metadata": {
        "id": "rqBNCD4zW6XW"
      },
      "source": [
        "- Realizar teste"
      ]
    },
    {
      "cell_type": "code",
      "metadata": {
        "id": "FsjcG4riXE29"
      },
      "source": [
        "dados_baixa_cal = dados_dietas[dados_dietas['dieta'] == 'baixa_caloria']['perda_peso_kg']\n",
        "dados_baixa_gor = dados_dietas[dados_dietas['dieta'] == 'baixa_gordura']['perda_peso_kg']\n",
        "dados_baixo_cab = dados_dietas[dados_dietas['dieta'] == 'baixo_carboidrato']['perda_peso_kg']\n",
        "dados_controle = dados_dietas[dados_dietas['dieta'] == 'grupo_controle']['perda_peso_kg']"
      ],
      "execution_count": null,
      "outputs": []
    },
    {
      "cell_type": "code",
      "metadata": {
        "colab": {
          "base_uri": "https://localhost:8080/"
        },
        "id": "9w1efsqIW6Yz",
        "outputId": "29307f6d-4831-433e-9d6b-05faba9f46ed"
      },
      "source": [
        "f_oneway(dados_baixa_cal, dados_baixa_gor, dados_baixo_cab, dados_controle)"
      ],
      "execution_count": null,
      "outputs": [
        {
          "output_type": "execute_result",
          "data": {
            "text/plain": [
              "F_onewayResult(statistic=8.559322033898304, pvalue=0.0012777417892066623)"
            ]
          },
          "metadata": {},
          "execution_count": 18
        }
      ]
    },
    {
      "cell_type": "markdown",
      "metadata": {
        "id": "KGm5FG0lUZuf"
      },
      "source": [
        "## Exemplo Slide 19"
      ]
    },
    {
      "cell_type": "markdown",
      "metadata": {
        "id": "uhQ3gEDIZX-b"
      },
      "source": [
        "- Gráfico para verificar a relação"
      ]
    },
    {
      "cell_type": "code",
      "metadata": {
        "colab": {
          "base_uri": "https://localhost:8080/",
          "height": 401
        },
        "id": "aEQl3MmkZYGT",
        "outputId": "5748512d-18b0-44a4-ec61-7849dfe51616"
      },
      "source": [
        "sns.lmplot(x = 'Preco', y = 'Quantidade', \n",
        "           data = dados_preco_quant, fit_reg=True)"
      ],
      "execution_count": null,
      "outputs": [
        {
          "output_type": "execute_result",
          "data": {
            "text/plain": [
              "<seaborn.axisgrid.FacetGrid at 0x7f656af6c310>"
            ]
          },
          "metadata": {},
          "execution_count": 13
        },
        {
          "output_type": "display_data",
          "data": {
            "image/png": "[encoded data removed]",
            "text/plain": [
              "<Figure size 360x360 with 1 Axes>"
            ]
          },
          "metadata": {
            "needs_background": "light"
          }
        }
      ]
    },
    {
      "cell_type": "markdown",
      "metadata": {
        "id": "H6IHAQqoCcHu"
      },
      "source": [
        "- Obter a correlação"
      ]
    },
    {
      "cell_type": "code",
      "metadata": {
        "colab": {
          "base_uri": "https://localhost:8080/",
          "height": 111
        },
        "id": "RjgVK6syCcMB",
        "outputId": "7840f723-d684-486f-dd18-5bc5a92d861c"
      },
      "source": [
        "dados_preco_quant.corr()"
      ],
      "execution_count": null,
      "outputs": [
        {
          "output_type": "execute_result",
          "data": {
            "text/html": [
              "<div>\n",
              "<style scoped>\n",
              "    .dataframe tbody tr th:only-of-type {\n",
              "        vertical-align: middle;\n",
              "    }\n",
              "\n",
              "    .dataframe tbody tr th {\n",
              "        vertical-align: top;\n",
              "    }\n",
              "\n",
              "    .dataframe thead th {\n",
              "        text-align: right;\n",
              "    }\n",
              "</style>\n",
              "<table border=\"1\" class=\"dataframe\">\n",
              "  <thead>\n",
              "    <tr style=\"text-align: right;\">\n",
              "      <th></th>\n",
              "      <th>Preco</th>\n",
              "      <th>Quantidade</th>\n",
              "    </tr>\n",
              "  </thead>\n",
              "  <tbody>\n",
              "    <tr>\n",
              "      <th>Preco</th>\n",
              "      <td>1.000000</td>\n",
              "      <td>-0.800847</td>\n",
              "    </tr>\n",
              "    <tr>\n",
              "      <th>Quantidade</th>\n",
              "      <td>-0.800847</td>\n",
              "      <td>1.000000</td>\n",
              "    </tr>\n",
              "  </tbody>\n",
              "</table>\n",
              "</div>"
            ],
            "text/plain": [
              "               Preco  Quantidade\n",
              "Preco       1.000000   -0.800847\n",
              "Quantidade -0.800847    1.000000"
            ]
          },
          "metadata": {},
          "execution_count": 14
        }
      ]
    }
  ]
}