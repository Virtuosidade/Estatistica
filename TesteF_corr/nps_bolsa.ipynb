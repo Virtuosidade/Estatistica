{
  "nbformat": 4,
  "nbformat_minor": 0,
  "metadata": {
    "colab": {
      "name": "exemplo_nps_bolsa.ipynb",
      "provenance": [],
      "collapsed_sections": []
    },
    "kernelspec": {
      "name": "python3",
      "display_name": "Python 3"
    },
    "language_info": {
      "name": "python"
    }
  },
  "cells": [
    {
      "cell_type": "markdown",
      "metadata": {
        "id": "P7Wx0tScDoyM"
      },
      "source": [
        "# Exemplos NPS e Bolsa de valores"
      ]
    },
    {
      "cell_type": "markdown",
      "metadata": {
        "id": "ANkBajRzDp-M"
      },
      "source": [
        "## Módulos"
      ]
    },
    {
      "cell_type": "code",
      "metadata": {
        "id": "6_3KXZRRDqCL"
      },
      "source": [
        "import numpy as np\n",
        "import pandas as pd\n",
        "import seaborn as sns\n",
        "import matplotlib.pyplot as plt"
      ],
      "execution_count": 1,
      "outputs": []
    },
    {
      "cell_type": "code",
      "metadata": {
        "id": "PwyMqovJDqGO"
      },
      "source": [
        "from scipy.stats import f_oneway"
      ],
      "execution_count": 2,
      "outputs": []
    },
    {
      "cell_type": "markdown",
      "metadata": {
        "id": "0phvksCADqKF"
      },
      "source": [
        "## Dados"
      ]
    },
    {
      "cell_type": "code",
      "metadata": {
        "id": "vzydmzGnDqNk"
      },
      "source": [
        "dados_nps = pd.read_csv('nps_example.csv', sep = ';')"
      ],
      "execution_count": 5,
      "outputs": []
    },
    {
      "cell_type": "code",
      "metadata": {
        "id": "vvYbOsxrDqQs"
      },
      "source": [
        "dados_bolsa = pd.read_csv('dados_bolsa.csv', sep = ';', decimal = ',')"
      ],
      "execution_count": 8,
      "outputs": []
    },
    {
      "cell_type": "markdown",
      "metadata": {
        "id": "g5I_3IWtISY5"
      },
      "source": [
        "## Análise NPS"
      ]
    },
    {
      "cell_type": "markdown",
      "metadata": {
        "id": "QqI90ojAJhhJ"
      },
      "source": [
        "- Verificar se todas as respostas estão completas"
      ]
    },
    {
      "cell_type": "code",
      "metadata": {
        "colab": {
          "base_uri": "https://localhost:8080/",
          "height": 142
        },
        "id": "Hw0gipmWISdQ",
        "outputId": "68ebe1a8-a433-440c-ba4b-3020011963a5"
      },
      "source": [
        "dados_nps.groupby('response_status') \\\n",
        "         .size() \\\n",
        "         .to_frame('n') \\\n",
        "         .reset_index()"
      ],
      "execution_count": 13,
      "outputs": [
        {
          "output_type": "execute_result",
          "data": {
            "text/html": [
              "<div>\n",
              "<style scoped>\n",
              "    .dataframe tbody tr th:only-of-type {\n",
              "        vertical-align: middle;\n",
              "    }\n",
              "\n",
              "    .dataframe tbody tr th {\n",
              "        vertical-align: top;\n",
              "    }\n",
              "\n",
              "    .dataframe thead th {\n",
              "        text-align: right;\n",
              "    }\n",
              "</style>\n",
              "<table border=\"1\" class=\"dataframe\">\n",
              "  <thead>\n",
              "    <tr style=\"text-align: right;\">\n",
              "      <th></th>\n",
              "      <th>response_status</th>\n",
              "      <th>n</th>\n",
              "    </tr>\n",
              "  </thead>\n",
              "  <tbody>\n",
              "    <tr>\n",
              "      <th>0</th>\n",
              "      <td>Complete</td>\n",
              "      <td>2281</td>\n",
              "    </tr>\n",
              "    <tr>\n",
              "      <th>1</th>\n",
              "      <td>Incomplete</td>\n",
              "      <td>265</td>\n",
              "    </tr>\n",
              "    <tr>\n",
              "      <th>2</th>\n",
              "      <td>Terminated</td>\n",
              "      <td>33</td>\n",
              "    </tr>\n",
              "  </tbody>\n",
              "</table>\n",
              "</div>"
            ],
            "text/plain": [
              "  response_status     n\n",
              "0        Complete  2281\n",
              "1      Incomplete   265\n",
              "2      Terminated    33"
            ]
          },
          "metadata": {},
          "execution_count": 13
        }
      ]
    },
    {
      "cell_type": "code",
      "metadata": {
        "colab": {
          "base_uri": "https://localhost:8080/",
          "height": 419
        },
        "id": "TaBvq44IKD-I",
        "outputId": "d3cd096d-de6e-4352-a6e2-d8497d371a16"
      },
      "source": [
        "dados_nps[dados_nps['nps_score'].isnull()]"
      ],
      "execution_count": 14,
      "outputs": [
        {
          "output_type": "execute_result",
          "data": {
            "text/html": [
              "<div>\n",
              "<style scoped>\n",
              "    .dataframe tbody tr th:only-of-type {\n",
              "        vertical-align: middle;\n",
              "    }\n",
              "\n",
              "    .dataframe tbody tr th {\n",
              "        vertical-align: top;\n",
              "    }\n",
              "\n",
              "    .dataframe thead th {\n",
              "        text-align: right;\n",
              "    }\n",
              "</style>\n",
              "<table border=\"1\" class=\"dataframe\">\n",
              "  <thead>\n",
              "    <tr style=\"text-align: right;\">\n",
              "      <th></th>\n",
              "      <th>id</th>\n",
              "      <th>response_status</th>\n",
              "      <th>how_long_listening</th>\n",
              "      <th>age</th>\n",
              "      <th>nps_score</th>\n",
              "      <th>gender</th>\n",
              "    </tr>\n",
              "  </thead>\n",
              "  <tbody>\n",
              "    <tr>\n",
              "      <th>17</th>\n",
              "      <td>11706467</td>\n",
              "      <td>Incomplete</td>\n",
              "      <td>Less than 6 months</td>\n",
              "      <td>18-24</td>\n",
              "      <td>NaN</td>\n",
              "      <td>NaN</td>\n",
              "    </tr>\n",
              "    <tr>\n",
              "      <th>31</th>\n",
              "      <td>11706938</td>\n",
              "      <td>Incomplete</td>\n",
              "      <td>1 year to less than 3 years</td>\n",
              "      <td>25-34</td>\n",
              "      <td>NaN</td>\n",
              "      <td>NaN</td>\n",
              "    </tr>\n",
              "    <tr>\n",
              "      <th>32</th>\n",
              "      <td>11706979</td>\n",
              "      <td>Incomplete</td>\n",
              "      <td>6 months to less than a year</td>\n",
              "      <td>25-34</td>\n",
              "      <td>NaN</td>\n",
              "      <td>NaN</td>\n",
              "    </tr>\n",
              "    <tr>\n",
              "      <th>43</th>\n",
              "      <td>11707426</td>\n",
              "      <td>Incomplete</td>\n",
              "      <td>6 months to less than a year</td>\n",
              "      <td>25-34</td>\n",
              "      <td>NaN</td>\n",
              "      <td>NaN</td>\n",
              "    </tr>\n",
              "    <tr>\n",
              "      <th>48</th>\n",
              "      <td>11707719</td>\n",
              "      <td>Incomplete</td>\n",
              "      <td>3 years to less than 5 years</td>\n",
              "      <td>35-44</td>\n",
              "      <td>NaN</td>\n",
              "      <td>NaN</td>\n",
              "    </tr>\n",
              "    <tr>\n",
              "      <th>...</th>\n",
              "      <td>...</td>\n",
              "      <td>...</td>\n",
              "      <td>...</td>\n",
              "      <td>...</td>\n",
              "      <td>...</td>\n",
              "      <td>...</td>\n",
              "    </tr>\n",
              "    <tr>\n",
              "      <th>2546</th>\n",
              "      <td>13093216</td>\n",
              "      <td>Incomplete</td>\n",
              "      <td>6 months to less than a year</td>\n",
              "      <td>35-44</td>\n",
              "      <td>NaN</td>\n",
              "      <td>NaN</td>\n",
              "    </tr>\n",
              "    <tr>\n",
              "      <th>2556</th>\n",
              "      <td>13278063</td>\n",
              "      <td>Incomplete</td>\n",
              "      <td>3 years to less than 5 years</td>\n",
              "      <td>18-24</td>\n",
              "      <td>NaN</td>\n",
              "      <td>NaN</td>\n",
              "    </tr>\n",
              "    <tr>\n",
              "      <th>2570</th>\n",
              "      <td>13565327</td>\n",
              "      <td>Complete</td>\n",
              "      <td>1 year to less than 3 years</td>\n",
              "      <td>45-54</td>\n",
              "      <td>NaN</td>\n",
              "      <td>Female</td>\n",
              "    </tr>\n",
              "    <tr>\n",
              "      <th>2572</th>\n",
              "      <td>13601847</td>\n",
              "      <td>Incomplete</td>\n",
              "      <td>3 years to less than 5 years</td>\n",
              "      <td>25-34</td>\n",
              "      <td>NaN</td>\n",
              "      <td>NaN</td>\n",
              "    </tr>\n",
              "    <tr>\n",
              "      <th>2575</th>\n",
              "      <td>13652344</td>\n",
              "      <td>Incomplete</td>\n",
              "      <td>1 year to less than 3 years</td>\n",
              "      <td>35-44</td>\n",
              "      <td>NaN</td>\n",
              "      <td>NaN</td>\n",
              "    </tr>\n",
              "  </tbody>\n",
              "</table>\n",
              "<p>298 rows × 6 columns</p>\n",
              "</div>"
            ],
            "text/plain": [
              "            id response_status  ... nps_score  gender\n",
              "17    11706467      Incomplete  ...       NaN     NaN\n",
              "31    11706938      Incomplete  ...       NaN     NaN\n",
              "32    11706979      Incomplete  ...       NaN     NaN\n",
              "43    11707426      Incomplete  ...       NaN     NaN\n",
              "48    11707719      Incomplete  ...       NaN     NaN\n",
              "...        ...             ...  ...       ...     ...\n",
              "2546  13093216      Incomplete  ...       NaN     NaN\n",
              "2556  13278063      Incomplete  ...       NaN     NaN\n",
              "2570  13565327        Complete  ...       NaN  Female\n",
              "2572  13601847      Incomplete  ...       NaN     NaN\n",
              "2575  13652344      Incomplete  ...       NaN     NaN\n",
              "\n",
              "[298 rows x 6 columns]"
            ]
          },
          "metadata": {},
          "execution_count": 14
        }
      ]
    },
    {
      "cell_type": "markdown",
      "metadata": {
        "id": "r1-jgrTkIShZ"
      },
      "source": [
        "- Filtrar somente respostas completas"
      ]
    },
    {
      "cell_type": "code",
      "metadata": {
        "id": "naa-gN6hISlI"
      },
      "source": [
        "dados_nps_filtrados = dados_nps[(dados_nps['response_status'] == 'Complete') & \\\n",
        "                                (dados_nps['nps_score'].notna())]"
      ],
      "execution_count": 19,
      "outputs": []
    },
    {
      "cell_type": "markdown",
      "metadata": {
        "id": "YDWk6V2dJ7M4"
      },
      "source": [
        "- Análise descritiva"
      ]
    },
    {
      "cell_type": "code",
      "metadata": {
        "colab": {
          "base_uri": "https://localhost:8080/",
          "height": 266
        },
        "id": "WhtofMAXJ7Rp",
        "outputId": "4c8f970d-6798-48b4-9fc9-eb9e56d1a4b4"
      },
      "source": [
        "dados_nps_filtrados.groupby('age') \\\n",
        "                   .agg(media_nps = pd.NamedAgg('nps_score', 'mean'),\n",
        "                        dp_nps = pd.NamedAgg('nps_score', 'std'),\n",
        "                        n = pd.NamedAgg('nps_score', 'size')) \\\n",
        "                   .reset_index()"
      ],
      "execution_count": 21,
      "outputs": [
        {
          "output_type": "execute_result",
          "data": {
            "text/html": [
              "<div>\n",
              "<style scoped>\n",
              "    .dataframe tbody tr th:only-of-type {\n",
              "        vertical-align: middle;\n",
              "    }\n",
              "\n",
              "    .dataframe tbody tr th {\n",
              "        vertical-align: top;\n",
              "    }\n",
              "\n",
              "    .dataframe thead th {\n",
              "        text-align: right;\n",
              "    }\n",
              "</style>\n",
              "<table border=\"1\" class=\"dataframe\">\n",
              "  <thead>\n",
              "    <tr style=\"text-align: right;\">\n",
              "      <th></th>\n",
              "      <th>age</th>\n",
              "      <th>media_nps</th>\n",
              "      <th>dp_nps</th>\n",
              "      <th>n</th>\n",
              "    </tr>\n",
              "  </thead>\n",
              "  <tbody>\n",
              "    <tr>\n",
              "      <th>0</th>\n",
              "      <td>18-24</td>\n",
              "      <td>9.464539</td>\n",
              "      <td>1.116275</td>\n",
              "      <td>282</td>\n",
              "    </tr>\n",
              "    <tr>\n",
              "      <th>1</th>\n",
              "      <td>25-34</td>\n",
              "      <td>9.694828</td>\n",
              "      <td>0.957639</td>\n",
              "      <td>580</td>\n",
              "    </tr>\n",
              "    <tr>\n",
              "      <th>2</th>\n",
              "      <td>35-44</td>\n",
              "      <td>9.707612</td>\n",
              "      <td>0.979501</td>\n",
              "      <td>578</td>\n",
              "    </tr>\n",
              "    <tr>\n",
              "      <th>3</th>\n",
              "      <td>45-54</td>\n",
              "      <td>9.719039</td>\n",
              "      <td>0.928254</td>\n",
              "      <td>541</td>\n",
              "    </tr>\n",
              "    <tr>\n",
              "      <th>4</th>\n",
              "      <td>55-64</td>\n",
              "      <td>9.733871</td>\n",
              "      <td>0.923020</td>\n",
              "      <td>248</td>\n",
              "    </tr>\n",
              "    <tr>\n",
              "      <th>5</th>\n",
              "      <td>65-74</td>\n",
              "      <td>9.423077</td>\n",
              "      <td>1.361560</td>\n",
              "      <td>26</td>\n",
              "    </tr>\n",
              "    <tr>\n",
              "      <th>6</th>\n",
              "      <td>75+</td>\n",
              "      <td>8.000000</td>\n",
              "      <td>0.000000</td>\n",
              "      <td>2</td>\n",
              "    </tr>\n",
              "  </tbody>\n",
              "</table>\n",
              "</div>"
            ],
            "text/plain": [
              "     age  media_nps    dp_nps    n\n",
              "0  18-24   9.464539  1.116275  282\n",
              "1  25-34   9.694828  0.957639  580\n",
              "2  35-44   9.707612  0.979501  578\n",
              "3  45-54   9.719039  0.928254  541\n",
              "4  55-64   9.733871  0.923020  248\n",
              "5  65-74   9.423077  1.361560   26\n",
              "6    75+   8.000000  0.000000    2"
            ]
          },
          "metadata": {},
          "execution_count": 21
        }
      ]
    },
    {
      "cell_type": "markdown",
      "metadata": {
        "id": "eFw2vT53J7Uk"
      },
      "source": [
        "- Filtrar os 75+, pq somente possui 2 linhas"
      ]
    },
    {
      "cell_type": "code",
      "metadata": {
        "id": "HVc6cSxtLd_i"
      },
      "source": [
        "dados_nps_filtrados_aj = dados_nps_filtrados[dados_nps_filtrados['age'] != '75+']"
      ],
      "execution_count": 23,
      "outputs": []
    },
    {
      "cell_type": "code",
      "metadata": {
        "colab": {
          "base_uri": "https://localhost:8080/",
          "height": 235
        },
        "id": "p98jl1G-LeDS",
        "outputId": "4f683610-c887-4774-9965-4fac887098b6"
      },
      "source": [
        "dados_nps_filtrados_aj.groupby('age') \\\n",
        "                      .agg(media_nps = pd.NamedAgg('nps_score', 'mean'),\n",
        "                           dp_nps = pd.NamedAgg('nps_score', 'std'),\n",
        "                           n = pd.NamedAgg('nps_score', 'size')) \\\n",
        "                      .reset_index()"
      ],
      "execution_count": 24,
      "outputs": [
        {
          "output_type": "execute_result",
          "data": {
            "text/html": [
              "<div>\n",
              "<style scoped>\n",
              "    .dataframe tbody tr th:only-of-type {\n",
              "        vertical-align: middle;\n",
              "    }\n",
              "\n",
              "    .dataframe tbody tr th {\n",
              "        vertical-align: top;\n",
              "    }\n",
              "\n",
              "    .dataframe thead th {\n",
              "        text-align: right;\n",
              "    }\n",
              "</style>\n",
              "<table border=\"1\" class=\"dataframe\">\n",
              "  <thead>\n",
              "    <tr style=\"text-align: right;\">\n",
              "      <th></th>\n",
              "      <th>age</th>\n",
              "      <th>media_nps</th>\n",
              "      <th>dp_nps</th>\n",
              "      <th>n</th>\n",
              "    </tr>\n",
              "  </thead>\n",
              "  <tbody>\n",
              "    <tr>\n",
              "      <th>0</th>\n",
              "      <td>18-24</td>\n",
              "      <td>9.464539</td>\n",
              "      <td>1.116275</td>\n",
              "      <td>282</td>\n",
              "    </tr>\n",
              "    <tr>\n",
              "      <th>1</th>\n",
              "      <td>25-34</td>\n",
              "      <td>9.694828</td>\n",
              "      <td>0.957639</td>\n",
              "      <td>580</td>\n",
              "    </tr>\n",
              "    <tr>\n",
              "      <th>2</th>\n",
              "      <td>35-44</td>\n",
              "      <td>9.707612</td>\n",
              "      <td>0.979501</td>\n",
              "      <td>578</td>\n",
              "    </tr>\n",
              "    <tr>\n",
              "      <th>3</th>\n",
              "      <td>45-54</td>\n",
              "      <td>9.719039</td>\n",
              "      <td>0.928254</td>\n",
              "      <td>541</td>\n",
              "    </tr>\n",
              "    <tr>\n",
              "      <th>4</th>\n",
              "      <td>55-64</td>\n",
              "      <td>9.733871</td>\n",
              "      <td>0.923020</td>\n",
              "      <td>248</td>\n",
              "    </tr>\n",
              "    <tr>\n",
              "      <th>5</th>\n",
              "      <td>65-74</td>\n",
              "      <td>9.423077</td>\n",
              "      <td>1.361560</td>\n",
              "      <td>26</td>\n",
              "    </tr>\n",
              "  </tbody>\n",
              "</table>\n",
              "</div>"
            ],
            "text/plain": [
              "     age  media_nps    dp_nps    n\n",
              "0  18-24   9.464539  1.116275  282\n",
              "1  25-34   9.694828  0.957639  580\n",
              "2  35-44   9.707612  0.979501  578\n",
              "3  45-54   9.719039  0.928254  541\n",
              "4  55-64   9.733871  0.923020  248\n",
              "5  65-74   9.423077  1.361560   26"
            ]
          },
          "metadata": {},
          "execution_count": 24
        }
      ]
    },
    {
      "cell_type": "markdown",
      "metadata": {
        "id": "2A70eTRQLeG_"
      },
      "source": [
        "- Teste f"
      ]
    },
    {
      "cell_type": "code",
      "metadata": {
        "id": "0pYns6ghISsK"
      },
      "source": [
        "dados_18_24 = dados_nps_filtrados_aj[dados_nps_filtrados_aj['age'] == '18-24']['nps_score']\n",
        "dados_25_34 = dados_nps_filtrados_aj[dados_nps_filtrados_aj['age'] == '25-34']['nps_score']\n",
        "dados_35_44 = dados_nps_filtrados_aj[dados_nps_filtrados_aj['age'] == '35-44']['nps_score']\n",
        "dados_45_54 = dados_nps_filtrados_aj[dados_nps_filtrados_aj['age'] == '45-54']['nps_score']\n",
        "dados_55_64 = dados_nps_filtrados_aj[dados_nps_filtrados_aj['age'] == '55-64']['nps_score']\n",
        "dados_65_74 = dados_nps_filtrados_aj[dados_nps_filtrados_aj['age'] == '65-74']['nps_score']"
      ],
      "execution_count": 27,
      "outputs": []
    },
    {
      "cell_type": "code",
      "metadata": {
        "colab": {
          "base_uri": "https://localhost:8080/"
        },
        "id": "FP82KXbHMKg5",
        "outputId": "afbe5216-2d81-4afd-fdb6-b544923dbb58"
      },
      "source": [
        "f_oneway(dados_18_24, \n",
        "         dados_25_34, \n",
        "         dados_35_44, \n",
        "         dados_45_54,\n",
        "         dados_55_64,\n",
        "         dados_65_74)"
      ],
      "execution_count": 28,
      "outputs": [
        {
          "output_type": "execute_result",
          "data": {
            "text/plain": [
              "F_onewayResult(statistic=3.5221660981040768, pvalue=0.0035606861304276695)"
            ]
          },
          "metadata": {},
          "execution_count": 28
        }
      ]
    },
    {
      "cell_type": "markdown",
      "metadata": {
        "id": "Glj8immaMKk5"
      },
      "source": [
        "## Análise correlação bolsa"
      ]
    },
    {
      "cell_type": "markdown",
      "metadata": {
        "id": "lL9HEc7gNsM3"
      },
      "source": [
        "- Filtrar missings"
      ]
    },
    {
      "cell_type": "code",
      "metadata": {
        "colab": {
          "base_uri": "https://localhost:8080/",
          "height": 419
        },
        "id": "meak2C1jNgE_",
        "outputId": "d0515113-2339-4673-fd08-43873e3e5ede"
      },
      "source": [
        "dados_bolsa[dados_bolsa.isnull()]"
      ],
      "execution_count": 31,
      "outputs": [
        {
          "output_type": "execute_result",
          "data": {
            "text/html": [
              "<div>\n",
              "<style scoped>\n",
              "    .dataframe tbody tr th:only-of-type {\n",
              "        vertical-align: middle;\n",
              "    }\n",
              "\n",
              "    .dataframe tbody tr th {\n",
              "        vertical-align: top;\n",
              "    }\n",
              "\n",
              "    .dataframe thead th {\n",
              "        text-align: right;\n",
              "    }\n",
              "</style>\n",
              "<table border=\"1\" class=\"dataframe\">\n",
              "  <thead>\n",
              "    <tr style=\"text-align: right;\">\n",
              "      <th></th>\n",
              "      <th>data</th>\n",
              "      <th>petr4</th>\n",
              "      <th>bbdc3</th>\n",
              "      <th>vale5</th>\n",
              "      <th>ambv4</th>\n",
              "      <th>itub4</th>\n",
              "    </tr>\n",
              "  </thead>\n",
              "  <tbody>\n",
              "    <tr>\n",
              "      <th>0</th>\n",
              "      <td>NaN</td>\n",
              "      <td>NaN</td>\n",
              "      <td>NaN</td>\n",
              "      <td>NaN</td>\n",
              "      <td>NaN</td>\n",
              "      <td>NaN</td>\n",
              "    </tr>\n",
              "    <tr>\n",
              "      <th>1</th>\n",
              "      <td>NaN</td>\n",
              "      <td>NaN</td>\n",
              "      <td>NaN</td>\n",
              "      <td>NaN</td>\n",
              "      <td>NaN</td>\n",
              "      <td>NaN</td>\n",
              "    </tr>\n",
              "    <tr>\n",
              "      <th>2</th>\n",
              "      <td>NaN</td>\n",
              "      <td>NaN</td>\n",
              "      <td>NaN</td>\n",
              "      <td>NaN</td>\n",
              "      <td>NaN</td>\n",
              "      <td>NaN</td>\n",
              "    </tr>\n",
              "    <tr>\n",
              "      <th>3</th>\n",
              "      <td>NaN</td>\n",
              "      <td>NaN</td>\n",
              "      <td>NaN</td>\n",
              "      <td>NaN</td>\n",
              "      <td>NaN</td>\n",
              "      <td>NaN</td>\n",
              "    </tr>\n",
              "    <tr>\n",
              "      <th>4</th>\n",
              "      <td>NaN</td>\n",
              "      <td>NaN</td>\n",
              "      <td>NaN</td>\n",
              "      <td>NaN</td>\n",
              "      <td>NaN</td>\n",
              "      <td>NaN</td>\n",
              "    </tr>\n",
              "    <tr>\n",
              "      <th>...</th>\n",
              "      <td>...</td>\n",
              "      <td>...</td>\n",
              "      <td>...</td>\n",
              "      <td>...</td>\n",
              "      <td>...</td>\n",
              "      <td>...</td>\n",
              "    </tr>\n",
              "    <tr>\n",
              "      <th>1773</th>\n",
              "      <td>NaN</td>\n",
              "      <td>NaN</td>\n",
              "      <td>NaN</td>\n",
              "      <td>NaN</td>\n",
              "      <td>NaN</td>\n",
              "      <td>NaN</td>\n",
              "    </tr>\n",
              "    <tr>\n",
              "      <th>1774</th>\n",
              "      <td>NaN</td>\n",
              "      <td>NaN</td>\n",
              "      <td>NaN</td>\n",
              "      <td>NaN</td>\n",
              "      <td>NaN</td>\n",
              "      <td>NaN</td>\n",
              "    </tr>\n",
              "    <tr>\n",
              "      <th>1775</th>\n",
              "      <td>NaN</td>\n",
              "      <td>NaN</td>\n",
              "      <td>NaN</td>\n",
              "      <td>NaN</td>\n",
              "      <td>NaN</td>\n",
              "      <td>NaN</td>\n",
              "    </tr>\n",
              "    <tr>\n",
              "      <th>1776</th>\n",
              "      <td>NaN</td>\n",
              "      <td>NaN</td>\n",
              "      <td>NaN</td>\n",
              "      <td>NaN</td>\n",
              "      <td>NaN</td>\n",
              "      <td>NaN</td>\n",
              "    </tr>\n",
              "    <tr>\n",
              "      <th>1777</th>\n",
              "      <td>NaN</td>\n",
              "      <td>NaN</td>\n",
              "      <td>NaN</td>\n",
              "      <td>NaN</td>\n",
              "      <td>NaN</td>\n",
              "      <td>NaN</td>\n",
              "    </tr>\n",
              "  </tbody>\n",
              "</table>\n",
              "<p>1778 rows × 6 columns</p>\n",
              "</div>"
            ],
            "text/plain": [
              "     data  petr4  bbdc3  vale5  ambv4  itub4\n",
              "0     NaN    NaN    NaN    NaN    NaN    NaN\n",
              "1     NaN    NaN    NaN    NaN    NaN    NaN\n",
              "2     NaN    NaN    NaN    NaN    NaN    NaN\n",
              "3     NaN    NaN    NaN    NaN    NaN    NaN\n",
              "4     NaN    NaN    NaN    NaN    NaN    NaN\n",
              "...   ...    ...    ...    ...    ...    ...\n",
              "1773  NaN    NaN    NaN    NaN    NaN    NaN\n",
              "1774  NaN    NaN    NaN    NaN    NaN    NaN\n",
              "1775  NaN    NaN    NaN    NaN    NaN    NaN\n",
              "1776  NaN    NaN    NaN    NaN    NaN    NaN\n",
              "1777  NaN    NaN    NaN    NaN    NaN    NaN\n",
              "\n",
              "[1778 rows x 6 columns]"
            ]
          },
          "metadata": {},
          "execution_count": 31
        }
      ]
    },
    {
      "cell_type": "code",
      "metadata": {
        "id": "T3kj8NheNgIf"
      },
      "source": [
        "dados_bolsa_filtrados = dados_bolsa.dropna()"
      ],
      "execution_count": 32,
      "outputs": []
    },
    {
      "cell_type": "markdown",
      "metadata": {
        "id": "41qD6sXcNgMQ"
      },
      "source": [
        "- Correlação"
      ]
    },
    {
      "cell_type": "code",
      "metadata": {
        "colab": {
          "base_uri": "https://localhost:8080/",
          "height": 204
        },
        "id": "xN0I753JNgPk",
        "outputId": "9d6fa7a8-faa2-46ed-dc48-6ca0af372fb4"
      },
      "source": [
        "dados_bolsa_filtrados.corr()"
      ],
      "execution_count": 33,
      "outputs": [
        {
          "output_type": "execute_result",
          "data": {
            "text/html": [
              "<div>\n",
              "<style scoped>\n",
              "    .dataframe tbody tr th:only-of-type {\n",
              "        vertical-align: middle;\n",
              "    }\n",
              "\n",
              "    .dataframe tbody tr th {\n",
              "        vertical-align: top;\n",
              "    }\n",
              "\n",
              "    .dataframe thead th {\n",
              "        text-align: right;\n",
              "    }\n",
              "</style>\n",
              "<table border=\"1\" class=\"dataframe\">\n",
              "  <thead>\n",
              "    <tr style=\"text-align: right;\">\n",
              "      <th></th>\n",
              "      <th>petr4</th>\n",
              "      <th>bbdc3</th>\n",
              "      <th>vale5</th>\n",
              "      <th>ambv4</th>\n",
              "      <th>itub4</th>\n",
              "    </tr>\n",
              "  </thead>\n",
              "  <tbody>\n",
              "    <tr>\n",
              "      <th>petr4</th>\n",
              "      <td>1.000000</td>\n",
              "      <td>0.539247</td>\n",
              "      <td>0.724023</td>\n",
              "      <td>0.392074</td>\n",
              "      <td>0.593834</td>\n",
              "    </tr>\n",
              "    <tr>\n",
              "      <th>bbdc3</th>\n",
              "      <td>0.539247</td>\n",
              "      <td>1.000000</td>\n",
              "      <td>0.592143</td>\n",
              "      <td>0.470529</td>\n",
              "      <td>0.778506</td>\n",
              "    </tr>\n",
              "    <tr>\n",
              "      <th>vale5</th>\n",
              "      <td>0.724023</td>\n",
              "      <td>0.592143</td>\n",
              "      <td>1.000000</td>\n",
              "      <td>0.482919</td>\n",
              "      <td>0.642838</td>\n",
              "    </tr>\n",
              "    <tr>\n",
              "      <th>ambv4</th>\n",
              "      <td>0.392074</td>\n",
              "      <td>0.470529</td>\n",
              "      <td>0.482919</td>\n",
              "      <td>1.000000</td>\n",
              "      <td>0.488886</td>\n",
              "    </tr>\n",
              "    <tr>\n",
              "      <th>itub4</th>\n",
              "      <td>0.593834</td>\n",
              "      <td>0.778506</td>\n",
              "      <td>0.642838</td>\n",
              "      <td>0.488886</td>\n",
              "      <td>1.000000</td>\n",
              "    </tr>\n",
              "  </tbody>\n",
              "</table>\n",
              "</div>"
            ],
            "text/plain": [
              "          petr4     bbdc3     vale5     ambv4     itub4\n",
              "petr4  1.000000  0.539247  0.724023  0.392074  0.593834\n",
              "bbdc3  0.539247  1.000000  0.592143  0.470529  0.778506\n",
              "vale5  0.724023  0.592143  1.000000  0.482919  0.642838\n",
              "ambv4  0.392074  0.470529  0.482919  1.000000  0.488886\n",
              "itub4  0.593834  0.778506  0.642838  0.488886  1.000000"
            ]
          },
          "metadata": {},
          "execution_count": 33
        }
      ]
    },
    {
      "cell_type": "code",
      "metadata": {
        "id": "lt2rbf6eMKoz"
      },
      "source": [
        "corr = dados_bolsa_filtrados.corr()"
      ],
      "execution_count": 35,
      "outputs": []
    },
    {
      "cell_type": "code",
      "metadata": {
        "colab": {
          "base_uri": "https://localhost:8080/",
          "height": 145
        },
        "id": "gT9l7p-MOfEH",
        "outputId": "81b06615-6a7f-4c57-eb29-d8067cac4910"
      },
      "source": [
        "corr.style.background_gradient(cmap='coolwarm').set_precision(2)"
      ],
      "execution_count": 36,
      "outputs": [
        {
          "output_type": "execute_result",
          "data": {
            "text/html": [
              "<style  type=\"text/css\" >\n",
              "#T_d147039a_0f88_11ec_9154_0242ac1c0002row0_col0,#T_d147039a_0f88_11ec_9154_0242ac1c0002row1_col1,#T_d147039a_0f88_11ec_9154_0242ac1c0002row2_col2,#T_d147039a_0f88_11ec_9154_0242ac1c0002row3_col3,#T_d147039a_0f88_11ec_9154_0242ac1c0002row4_col4{\n",
              "            background-color:  #b40426;\n",
              "            color:  #f1f1f1;\n",
              "        }#T_d147039a_0f88_11ec_9154_0242ac1c0002row0_col1,#T_d147039a_0f88_11ec_9154_0242ac1c0002row1_col3{\n",
              "            background-color:  #6384eb;\n",
              "            color:  #000000;\n",
              "        }#T_d147039a_0f88_11ec_9154_0242ac1c0002row0_col2{\n",
              "            background-color:  #d4dbe6;\n",
              "            color:  #000000;\n",
              "        }#T_d147039a_0f88_11ec_9154_0242ac1c0002row0_col3,#T_d147039a_0f88_11ec_9154_0242ac1c0002row3_col0,#T_d147039a_0f88_11ec_9154_0242ac1c0002row3_col1,#T_d147039a_0f88_11ec_9154_0242ac1c0002row3_col2,#T_d147039a_0f88_11ec_9154_0242ac1c0002row3_col4{\n",
              "            background-color:  #3b4cc0;\n",
              "            color:  #f1f1f1;\n",
              "        }#T_d147039a_0f88_11ec_9154_0242ac1c0002row0_col4{\n",
              "            background-color:  #7da0f9;\n",
              "            color:  #000000;\n",
              "        }#T_d147039a_0f88_11ec_9154_0242ac1c0002row1_col0{\n",
              "            background-color:  #89acfd;\n",
              "            color:  #000000;\n",
              "        }#T_d147039a_0f88_11ec_9154_0242ac1c0002row1_col2{\n",
              "            background-color:  #80a3fa;\n",
              "            color:  #000000;\n",
              "        }#T_d147039a_0f88_11ec_9154_0242ac1c0002row1_col4{\n",
              "            background-color:  #edd2c3;\n",
              "            color:  #000000;\n",
              "        }#T_d147039a_0f88_11ec_9154_0242ac1c0002row2_col0{\n",
              "            background-color:  #e8d6cc;\n",
              "            color:  #000000;\n",
              "        }#T_d147039a_0f88_11ec_9154_0242ac1c0002row2_col1{\n",
              "            background-color:  #85a8fc;\n",
              "            color:  #000000;\n",
              "        }#T_d147039a_0f88_11ec_9154_0242ac1c0002row2_col3{\n",
              "            background-color:  #6a8bef;\n",
              "            color:  #000000;\n",
              "        }#T_d147039a_0f88_11ec_9154_0242ac1c0002row2_col4{\n",
              "            background-color:  #9fbfff;\n",
              "            color:  #000000;\n",
              "        }#T_d147039a_0f88_11ec_9154_0242ac1c0002row4_col0{\n",
              "            background-color:  #a9c6fd;\n",
              "            color:  #000000;\n",
              "        }#T_d147039a_0f88_11ec_9154_0242ac1c0002row4_col1{\n",
              "            background-color:  #efcfbf;\n",
              "            color:  #000000;\n",
              "        }#T_d147039a_0f88_11ec_9154_0242ac1c0002row4_col2{\n",
              "            background-color:  #a2c1ff;\n",
              "            color:  #000000;\n",
              "        }#T_d147039a_0f88_11ec_9154_0242ac1c0002row4_col3{\n",
              "            background-color:  #6c8ff1;\n",
              "            color:  #000000;\n",
              "        }</style><table id=\"T_d147039a_0f88_11ec_9154_0242ac1c0002\" ><thead>    <tr>        <th class=\"blank level0\" ></th>        <th class=\"col_heading level0 col0\" >petr4</th>        <th class=\"col_heading level0 col1\" >bbdc3</th>        <th class=\"col_heading level0 col2\" >vale5</th>        <th class=\"col_heading level0 col3\" >ambv4</th>        <th class=\"col_heading level0 col4\" >itub4</th>    </tr></thead><tbody>\n",
              "                <tr>\n",
              "                        <th id=\"T_d147039a_0f88_11ec_9154_0242ac1c0002level0_row0\" class=\"row_heading level0 row0\" >petr4</th>\n",
              "                        <td id=\"T_d147039a_0f88_11ec_9154_0242ac1c0002row0_col0\" class=\"data row0 col0\" >1.00</td>\n",
              "                        <td id=\"T_d147039a_0f88_11ec_9154_0242ac1c0002row0_col1\" class=\"data row0 col1\" >0.54</td>\n",
              "                        <td id=\"T_d147039a_0f88_11ec_9154_0242ac1c0002row0_col2\" class=\"data row0 col2\" >0.72</td>\n",
              "                        <td id=\"T_d147039a_0f88_11ec_9154_0242ac1c0002row0_col3\" class=\"data row0 col3\" >0.39</td>\n",
              "                        <td id=\"T_d147039a_0f88_11ec_9154_0242ac1c0002row0_col4\" class=\"data row0 col4\" >0.59</td>\n",
              "            </tr>\n",
              "            <tr>\n",
              "                        <th id=\"T_d147039a_0f88_11ec_9154_0242ac1c0002level0_row1\" class=\"row_heading level0 row1\" >bbdc3</th>\n",
              "                        <td id=\"T_d147039a_0f88_11ec_9154_0242ac1c0002row1_col0\" class=\"data row1 col0\" >0.54</td>\n",
              "                        <td id=\"T_d147039a_0f88_11ec_9154_0242ac1c0002row1_col1\" class=\"data row1 col1\" >1.00</td>\n",
              "                        <td id=\"T_d147039a_0f88_11ec_9154_0242ac1c0002row1_col2\" class=\"data row1 col2\" >0.59</td>\n",
              "                        <td id=\"T_d147039a_0f88_11ec_9154_0242ac1c0002row1_col3\" class=\"data row1 col3\" >0.47</td>\n",
              "                        <td id=\"T_d147039a_0f88_11ec_9154_0242ac1c0002row1_col4\" class=\"data row1 col4\" >0.78</td>\n",
              "            </tr>\n",
              "            <tr>\n",
              "                        <th id=\"T_d147039a_0f88_11ec_9154_0242ac1c0002level0_row2\" class=\"row_heading level0 row2\" >vale5</th>\n",
              "                        <td id=\"T_d147039a_0f88_11ec_9154_0242ac1c0002row2_col0\" class=\"data row2 col0\" >0.72</td>\n",
              "                        <td id=\"T_d147039a_0f88_11ec_9154_0242ac1c0002row2_col1\" class=\"data row2 col1\" >0.59</td>\n",
              "                        <td id=\"T_d147039a_0f88_11ec_9154_0242ac1c0002row2_col2\" class=\"data row2 col2\" >1.00</td>\n",
              "                        <td id=\"T_d147039a_0f88_11ec_9154_0242ac1c0002row2_col3\" class=\"data row2 col3\" >0.48</td>\n",
              "                        <td id=\"T_d147039a_0f88_11ec_9154_0242ac1c0002row2_col4\" class=\"data row2 col4\" >0.64</td>\n",
              "            </tr>\n",
              "            <tr>\n",
              "                        <th id=\"T_d147039a_0f88_11ec_9154_0242ac1c0002level0_row3\" class=\"row_heading level0 row3\" >ambv4</th>\n",
              "                        <td id=\"T_d147039a_0f88_11ec_9154_0242ac1c0002row3_col0\" class=\"data row3 col0\" >0.39</td>\n",
              "                        <td id=\"T_d147039a_0f88_11ec_9154_0242ac1c0002row3_col1\" class=\"data row3 col1\" >0.47</td>\n",
              "                        <td id=\"T_d147039a_0f88_11ec_9154_0242ac1c0002row3_col2\" class=\"data row3 col2\" >0.48</td>\n",
              "                        <td id=\"T_d147039a_0f88_11ec_9154_0242ac1c0002row3_col3\" class=\"data row3 col3\" >1.00</td>\n",
              "                        <td id=\"T_d147039a_0f88_11ec_9154_0242ac1c0002row3_col4\" class=\"data row3 col4\" >0.49</td>\n",
              "            </tr>\n",
              "            <tr>\n",
              "                        <th id=\"T_d147039a_0f88_11ec_9154_0242ac1c0002level0_row4\" class=\"row_heading level0 row4\" >itub4</th>\n",
              "                        <td id=\"T_d147039a_0f88_11ec_9154_0242ac1c0002row4_col0\" class=\"data row4 col0\" >0.59</td>\n",
              "                        <td id=\"T_d147039a_0f88_11ec_9154_0242ac1c0002row4_col1\" class=\"data row4 col1\" >0.78</td>\n",
              "                        <td id=\"T_d147039a_0f88_11ec_9154_0242ac1c0002row4_col2\" class=\"data row4 col2\" >0.64</td>\n",
              "                        <td id=\"T_d147039a_0f88_11ec_9154_0242ac1c0002row4_col3\" class=\"data row4 col3\" >0.49</td>\n",
              "                        <td id=\"T_d147039a_0f88_11ec_9154_0242ac1c0002row4_col4\" class=\"data row4 col4\" >1.00</td>\n",
              "            </tr>\n",
              "    </tbody></table>"
            ],
            "text/plain": [
              "<pandas.io.formats.style.Styler at 0x7f078045d390>"
            ]
          },
          "metadata": {},
          "execution_count": 36
        }
      ]
    },
    {
      "cell_type": "code",
      "metadata": {
        "id": "HGm6FF5wOfIP"
      },
      "source": [
        ""
      ],
      "execution_count": null,
      "outputs": []
    }
  ]
}