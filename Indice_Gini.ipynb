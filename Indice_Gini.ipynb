{
  "nbformat": 4,
  "nbformat_minor": 0,
  "metadata": {
    "colab": {
      "name": "Indice_Gini.pynb",
      "provenance": [],
      "collapsed_sections": [],
      "include_colab_link": true
    },
    "kernelspec": {
      "name": "python3",
      "display_name": "Python 3"
    },
    "language_info": {
      "name": "python"
    }
  },
  "cells": [
    {
      "cell_type": "markdown",
      "metadata": {
        "id": "view-in-github",
        "colab_type": "text"
      },
      "source": [
        "<a href=\"https://colab.research.google.com/github/Virtuosidade/Estatistica/blob/main/Indice_Gini.ipynb\" target=\"_parent\"><img src=\"https://colab.research.google.com/assets/colab-badge.svg\" alt=\"Open In Colab\"/></a>"
      ]
    },
    {
      "cell_type": "markdown",
      "metadata": {
        "id": "cTtfyrFMPPVn"
      },
      "source": [
        "# Índice de Gini"
      ]
    },
    {
      "cell_type": "markdown",
      "metadata": {
        "id": "FzssH-7bWAuV"
      },
      "source": [
        "## Modulos"
      ]
    },
    {
      "cell_type": "code",
      "metadata": {
        "id": "C9bUjz-2WAy1",
        "colab": {
          "base_uri": "https://localhost:8080/"
        },
        "outputId": "acf1cacd-14df-4e27-f877-462306ade0cf"
      },
      "source": [
        "import numpy as np\n",
        "import pandas as pd\n",
        "import matplotlib.pyplot as plt\n",
        "import sympy as sp\n",
        "import statsmodels.formula.api as sm"
      ],
      "execution_count": null,
      "outputs": [
        {
          "output_type": "stream",
          "text": [
            "/usr/local/lib/python3.7/dist-packages/statsmodels/tools/_testing.py:19: FutureWarning: pandas.util.testing is deprecated. Use the functions in the public API at pandas.testing instead.\n",
            "  import pandas.util.testing as tm\n"
          ],
          "name": "stderr"
        }
      ]
    },
    {
      "cell_type": "markdown",
      "metadata": {
        "id": "c4QZefTGWA2g"
      },
      "source": [
        "## Carregar dados"
      ]
    },
    {
      "cell_type": "code",
      "metadata": {
        "id": "eJmtQJWDWA6o"
      },
      "source": [
        "dados_municipios = pd.read_csv('dados_renda_municipios.csv')"
      ],
      "execution_count": null,
      "outputs": []
    },
    {
      "cell_type": "markdown",
      "metadata": {
        "id": "irp0fdz2WA-p"
      },
      "source": [
        "## Selecionar Estados"
      ]
    },
    {
      "cell_type": "code",
      "metadata": {
        "id": "-DR3iTsha0I2"
      },
      "source": [
        "estado_1 = 'Alagoas'\n",
        "estado_2 = 'Sergipe'"
      ],
      "execution_count": null,
      "outputs": []
    },
    {
      "cell_type": "code",
      "metadata": {
        "id": "GJo-4Z2ga0NW"
      },
      "source": [
        "dados_estado_1 = dados_municipios[dados_municipios['UF'] == estado_1]\n",
        "dados_estado_2 = dados_municipios[dados_municipios['UF'] == estado_2]"
      ],
      "execution_count": null,
      "outputs": []
    },
    {
      "cell_type": "code",
      "metadata": {
        "id": "UzVljW0ka0Vc"
      },
      "source": [
        "dados_estado_1 = dados_estado_1.sort_values('RDPC').reset_index(drop=True)\n",
        "dados_estado_2 = dados_estado_2.sort_values('RDPC').reset_index(drop=True)"
      ],
      "execution_count": null,
      "outputs": []
    },
    {
      "cell_type": "markdown",
      "metadata": {
        "id": "EgXRp2Foa0Yy"
      },
      "source": [
        "## Construir as curvas"
      ]
    },
    {
      "cell_type": "markdown",
      "metadata": {
        "id": "eubviJK2m_ml"
      },
      "source": [
        "- Estado 1"
      ]
    },
    {
      "cell_type": "code",
      "metadata": {
        "id": "fJsVLK_hrgZG"
      },
      "source": [
        "total = np.sum(dados_estado_1['RDPC'].values)"
      ],
      "execution_count": null,
      "outputs": []
    },
    {
      "cell_type": "code",
      "metadata": {
        "id": "1GRBuxEga0ct"
      },
      "source": [
        "p_renda_estado_1 = np.append(np.array([0]), np.cumsum(dados_estado_1['RDPC'].values)/total   )  "
      ],
      "execution_count": null,
      "outputs": []
    },
    {
      "cell_type": "code",
      "metadata": {
        "id": "VPJ6rY7Fa0hF"
      },
      "source": [
        "p_familias_estado_1 = np.linspace(0, 1, len(p_renda_estado_1))"
      ],
      "execution_count": null,
      "outputs": []
    },
    {
      "cell_type": "code",
      "metadata": {
        "id": "q3YmNzyalEFB"
      },
      "source": [
        "df_estado_1 = pd.DataFrame({'p_familias_estado_1': p_familias_estado_1, \n",
        "                            'p_renda_estado_1':p_renda_estado_1})"
      ],
      "execution_count": null,
      "outputs": []
    },
    {
      "cell_type": "markdown",
      "metadata": {
        "id": "Isbh1QaDWBCH"
      },
      "source": [
        "- Estado 2"
      ]
    },
    {
      "cell_type": "code",
      "metadata": {
        "id": "WO7KrfE4uih1"
      },
      "source": [
        "total = np.sum(dados_estado_2['RDPC'].values)"
      ],
      "execution_count": null,
      "outputs": []
    },
    {
      "cell_type": "code",
      "metadata": {
        "id": "LNr76TbUmOAU"
      },
      "source": [
        "p_renda_estado_2 = np.append(np.array([0]), np.cumsum(dados_estado_2['RDPC'].values/total))"
      ],
      "execution_count": null,
      "outputs": []
    },
    {
      "cell_type": "code",
      "metadata": {
        "id": "rgicpCo9mOFU"
      },
      "source": [
        "p_familias_estado_2 = np.linspace(0, 1, len(p_renda_estado_2))"
      ],
      "execution_count": null,
      "outputs": []
    },
    {
      "cell_type": "code",
      "metadata": {
        "id": "ut3hlLOTmOJc"
      },
      "source": [
        "df_estado_2 = pd.DataFrame({'p_familias_estado_2': p_familias_estado_2, \n",
        "                            'p_renda_estado_2':p_renda_estado_2})"
      ],
      "execution_count": null,
      "outputs": []
    },
    {
      "cell_type": "markdown",
      "metadata": {
        "id": "k2mWLjtQmONO"
      },
      "source": [
        "## Curvas Brutas"
      ]
    },
    {
      "cell_type": "code",
      "metadata": {
        "colab": {
          "base_uri": "https://localhost:8080/",
          "height": 283
        },
        "id": "HneI9uSNtk1V",
        "outputId": "d490ada5-222c-4656-ef63-20827fe33052"
      },
      "source": [
        "fig, ax = plt.subplots()\n",
        "ax.plot(df_estado_1['p_familias_estado_1'], df_estado_1['p_renda_estado_1'], label=estado_1)\n",
        "ax.plot([0, 1], [0, 1], 'r--', label='Linha Referencia')\n",
        "ax.legend()"
      ],
      "execution_count": null,
      "outputs": [
        {
          "output_type": "execute_result",
          "data": {
            "text/plain": [
              "<matplotlib.legend.Legend at 0x7f44516613d0>"
            ]
          },
          "metadata": {
            "tags": []
          },
          "execution_count": 15
        },
        {
          "output_type": "display_data",
          "data": {
            "image/png": "[encoded data removed]",
            "text/plain": [
              "<Figure size 432x288 with 1 Axes>"
            ]
          },
          "metadata": {
            "tags": [],
            "needs_background": "light"
          }
        }
      ]
    },
    {
      "cell_type": "code",
      "metadata": {
        "colab": {
          "base_uri": "https://localhost:8080/",
          "height": 283
        },
        "id": "aRJziBzDn3ur",
        "outputId": "1b0a12a0-0636-41e5-e32f-f9e0337d6efd"
      },
      "source": [
        "fig, ax = plt.subplots()\n",
        "ax.plot(df_estado_2['p_familias_estado_2'], df_estado_2['p_renda_estado_2'], label=estado_2)\n",
        "ax.plot([0, 1], [0, 1], 'r--', label='Linha Referencia')\n",
        "ax.legend()"
      ],
      "execution_count": null,
      "outputs": [
        {
          "output_type": "execute_result",
          "data": {
            "text/plain": [
              "<matplotlib.legend.Legend at 0x7f445115dad0>"
            ]
          },
          "metadata": {
            "tags": []
          },
          "execution_count": 16
        },
        {
          "output_type": "display_data",
          "data": {
            "image/png": "[encoded data removed]",
            "text/plain": [
              "<Figure size 432x288 with 1 Axes>"
            ]
          },
          "metadata": {
            "tags": [],
            "needs_background": "light"
          }
        }
      ]
    },
    {
      "cell_type": "markdown",
      "metadata": {
        "id": "x-fsOLjcn3y4"
      },
      "source": [
        "## Ajustar a curva e obter a integral"
      ]
    },
    {
      "cell_type": "markdown",
      "metadata": {
        "id": "7jAFnW3Sn325"
      },
      "source": [
        "- Curva estado 1"
      ]
    },
    {
      "cell_type": "code",
      "metadata": {
        "id": "8LpC8anfxuoc"
      },
      "source": [
        "modelo_1 = sm.ols(formula= 'p_renda_estado_1 ~ p_familias_estado_1 + np.power(p_familias_estado_1, 2)', \n",
        "                  data= df_estado_1).fit()"
      ],
      "execution_count": null,
      "outputs": []
    },
    {
      "cell_type": "code",
      "metadata": {
        "colab": {
          "base_uri": "https://localhost:8080/",
          "height": 465
        },
        "id": "zW_2-aqKyvjN",
        "outputId": "be893134-244e-4d15-ab4f-0cad60c080ee"
      },
      "source": [
        "modelo_1.summary()"
      ],
      "execution_count": null,
      "outputs": [
        {
          "output_type": "execute_result",
          "data": {
            "text/html": [
              "<table class=\"simpletable\">\n",
              "<caption>OLS Regression Results</caption>\n",
              "<tr>\n",
              "  <th>Dep. Variable:</th>    <td>p_renda_estado_1</td> <th>  R-squared:         </th> <td>   0.999</td> \n",
              "</tr>\n",
              "<tr>\n",
              "  <th>Model:</th>                   <td>OLS</td>       <th>  Adj. R-squared:    </th> <td>   0.999</td> \n",
              "</tr>\n",
              "<tr>\n",
              "  <th>Method:</th>             <td>Least Squares</td>  <th>  F-statistic:       </th> <td>9.712e+04</td>\n",
              "</tr>\n",
              "<tr>\n",
              "  <th>Date:</th>             <td>Sun, 16 May 2021</td> <th>  Prob (F-statistic):</th> <td>3.73e-165</td>\n",
              "</tr>\n",
              "<tr>\n",
              "  <th>Time:</th>                 <td>17:18:28</td>     <th>  Log-Likelihood:    </th> <td>  374.85</td> \n",
              "</tr>\n",
              "<tr>\n",
              "  <th>No. Observations:</th>      <td>   103</td>      <th>  AIC:               </th> <td>  -743.7</td> \n",
              "</tr>\n",
              "<tr>\n",
              "  <th>Df Residuals:</th>          <td>   100</td>      <th>  BIC:               </th> <td>  -735.8</td> \n",
              "</tr>\n",
              "<tr>\n",
              "  <th>Df Model:</th>              <td>     2</td>      <th>                     </th>     <td> </td>    \n",
              "</tr>\n",
              "<tr>\n",
              "  <th>Covariance Type:</th>      <td>nonrobust</td>    <th>                     </th>     <td> </td>    \n",
              "</tr>\n",
              "</table>\n",
              "<table class=\"simpletable\">\n",
              "<tr>\n",
              "                  <td></td>                    <th>coef</th>     <th>std err</th>      <th>t</th>      <th>P>|t|</th>  <th>[0.025</th>    <th>0.975]</th>  \n",
              "</tr>\n",
              "<tr>\n",
              "  <th>Intercept</th>                        <td>    0.0042</td> <td>    0.002</td> <td>    2.244</td> <td> 0.027</td> <td>    0.000</td> <td>    0.008</td>\n",
              "</tr>\n",
              "<tr>\n",
              "  <th>p_familias_estado_1</th>              <td>    0.6382</td> <td>    0.009</td> <td>   73.824</td> <td> 0.000</td> <td>    0.621</td> <td>    0.655</td>\n",
              "</tr>\n",
              "<tr>\n",
              "  <th>np.power(p_familias_estado_1, 2)</th> <td>    0.3193</td> <td>    0.008</td> <td>   38.168</td> <td> 0.000</td> <td>    0.303</td> <td>    0.336</td>\n",
              "</tr>\n",
              "</table>\n",
              "<table class=\"simpletable\">\n",
              "<tr>\n",
              "  <th>Omnibus:</th>       <td>77.647</td> <th>  Durbin-Watson:     </th> <td>   0.104</td> \n",
              "</tr>\n",
              "<tr>\n",
              "  <th>Prob(Omnibus):</th> <td> 0.000</td> <th>  Jarque-Bera (JB):  </th> <td> 666.520</td> \n",
              "</tr>\n",
              "<tr>\n",
              "  <th>Skew:</th>          <td> 2.332</td> <th>  Prob(JB):          </th> <td>1.85e-145</td>\n",
              "</tr>\n",
              "<tr>\n",
              "  <th>Kurtosis:</th>      <td>14.557</td> <th>  Cond. No.          </th> <td>    22.5</td> \n",
              "</tr>\n",
              "</table><br/><br/>Warnings:<br/>[1] Standard Errors assume that the covariance matrix of the errors is correctly specified."
            ],
            "text/plain": [
              "<class 'statsmodels.iolib.summary.Summary'>\n",
              "\"\"\"\n",
              "                            OLS Regression Results                            \n",
              "==============================================================================\n",
              "Dep. Variable:       p_renda_estado_1   R-squared:                       0.999\n",
              "Model:                            OLS   Adj. R-squared:                  0.999\n",
              "Method:                 Least Squares   F-statistic:                 9.712e+04\n",
              "Date:                Sun, 16 May 2021   Prob (F-statistic):          3.73e-165\n",
              "Time:                        17:18:28   Log-Likelihood:                 374.85\n",
              "No. Observations:                 103   AIC:                            -743.7\n",
              "Df Residuals:                     100   BIC:                            -735.8\n",
              "Df Model:                           2                                         \n",
              "Covariance Type:            nonrobust                                         \n",
              "====================================================================================================\n",
              "                                       coef    std err          t      P>|t|      [0.025      0.975]\n",
              "----------------------------------------------------------------------------------------------------\n",
              "Intercept                            0.0042      0.002      2.244      0.027       0.000       0.008\n",
              "p_familias_estado_1                  0.6382      0.009     73.824      0.000       0.621       0.655\n",
              "np.power(p_familias_estado_1, 2)     0.3193      0.008     38.168      0.000       0.303       0.336\n",
              "==============================================================================\n",
              "Omnibus:                       77.647   Durbin-Watson:                   0.104\n",
              "Prob(Omnibus):                  0.000   Jarque-Bera (JB):              666.520\n",
              "Skew:                           2.332   Prob(JB):                    1.85e-145\n",
              "Kurtosis:                      14.557   Cond. No.                         22.5\n",
              "==============================================================================\n",
              "\n",
              "Warnings:\n",
              "[1] Standard Errors assume that the covariance matrix of the errors is correctly specified.\n",
              "\"\"\""
            ]
          },
          "metadata": {
            "tags": []
          },
          "execution_count": 18
        }
      ]
    },
    {
      "cell_type": "code",
      "metadata": {
        "id": "xC4AYd8oRijf"
      },
      "source": [
        "df_estado_1['p_renda_pred'] = modelo_1.predict(df_estado_1)"
      ],
      "execution_count": null,
      "outputs": []
    },
    {
      "cell_type": "code",
      "metadata": {
        "colab": {
          "base_uri": "https://localhost:8080/",
          "height": 283
        },
        "id": "22X_kSwxRjL_",
        "outputId": "aee4fc4d-c73f-4d47-d997-d852e7e9d7ec"
      },
      "source": [
        "fig, ax = plt.subplots()\n",
        "ax.plot(df_estado_1['p_familias_estado_1'], df_estado_1['p_renda_estado_1'], label=estado_1)\n",
        "ax.plot(df_estado_1['p_familias_estado_1'], df_estado_1['p_renda_pred'], label='Modelo')\n",
        "ax.plot([0, 1], [0, 1], 'r--', label='Linha Referencia')\n",
        "ax.legend()"
      ],
      "execution_count": null,
      "outputs": [
        {
          "output_type": "execute_result",
          "data": {
            "text/plain": [
              "<matplotlib.legend.Legend at 0x7f444b538f10>"
            ]
          },
          "metadata": {
            "tags": []
          },
          "execution_count": 51
        },
        {
          "output_type": "display_data",
          "data": {
            "image/png": "[encoded data removed]",
            "text/plain": [
              "<Figure size 432x288 with 1 Axes>"
            ]
          },
          "metadata": {
            "tags": [],
            "needs_background": "light"
          }
        }
      ]
    },
    {
      "cell_type": "markdown",
      "metadata": {
        "id": "SlRfXBhNyvnl"
      },
      "source": [
        "- Obter integral"
      ]
    },
    {
      "cell_type": "code",
      "metadata": {
        "colab": {
          "base_uri": "https://localhost:8080/"
        },
        "id": "ruIqwzO7NrVu",
        "outputId": "84c72b65-5876-4a99-c7bb-8a37628574fc"
      },
      "source": [
        "modelo_1.params"
      ],
      "execution_count": null,
      "outputs": [
        {
          "output_type": "execute_result",
          "data": {
            "text/plain": [
              "Intercept                           0.004197\n",
              "p_familias_estado_1                 0.638235\n",
              "np.power(p_familias_estado_1, 2)    0.319308\n",
              "dtype: float64"
            ]
          },
          "metadata": {
            "tags": []
          },
          "execution_count": 31
        }
      ]
    },
    {
      "cell_type": "code",
      "metadata": {
        "id": "Sy2TuRdwxusm"
      },
      "source": [
        "p_familias = sp.Symbol('PercFamilias')"
      ],
      "execution_count": null,
      "outputs": []
    },
    {
      "cell_type": "code",
      "metadata": {
        "id": "UAyalWbX0bCg"
      },
      "source": [
        "f_estado_1 = p_familias - 0.0042 - 0.6382*p_familias - 0.3193*p_familias**2"
      ],
      "execution_count": null,
      "outputs": []
    },
    {
      "cell_type": "code",
      "metadata": {
        "colab": {
          "base_uri": "https://localhost:8080/",
          "height": 38
        },
        "id": "JKVFx1xq0bHH",
        "outputId": "a32bcc47-693e-4534-a121-37ec263197c8"
      },
      "source": [
        "F_estado_1 = sp.integrate(f_estado_1)\n",
        "F_estado_1"
      ],
      "execution_count": null,
      "outputs": [
        {
          "output_type": "execute_result",
          "data": {
            "text/latex": "$\\displaystyle - 0.106433333333333 PercFamilias^{3} + 0.1809 PercFamilias^{2} - 0.0042 PercFamilias$",
            "text/plain": [
              "-0.106433333333333*PercFamilias**3 + 0.1809*PercFamilias**2 - 0.0042*PercFamilias"
            ]
          },
          "metadata": {
            "tags": []
          },
          "execution_count": 22
        }
      ]
    },
    {
      "cell_type": "code",
      "metadata": {
        "id": "elWVcZ_s22EP"
      },
      "source": [
        "# transformar numa função em que operações podem ser realizadas\n",
        "F_estado_1 = sp.lambdify(p_familias, F_estado_1)"
      ],
      "execution_count": null,
      "outputs": []
    },
    {
      "cell_type": "markdown",
      "metadata": {
        "id": "Ucmwmf8DMipJ"
      },
      "source": [
        "- Obter o gini"
      ]
    },
    {
      "cell_type": "code",
      "metadata": {
        "colab": {
          "base_uri": "https://localhost:8080/"
        },
        "id": "ReQxOuK124Pu",
        "outputId": "a98fff13-9a97-489c-be1a-3c0291e935f0"
      },
      "source": [
        "gini_estado1 = 2 * ( F_estado_1(1) - F_estado_1(0) )\n",
        "gini_estado1"
      ],
      "execution_count": null,
      "outputs": [
        {
          "output_type": "execute_result",
          "data": {
            "text/plain": [
              "0.140533333333334"
            ]
          },
          "metadata": {
            "tags": []
          },
          "execution_count": 25
        }
      ]
    },
    {
      "cell_type": "markdown",
      "metadata": {
        "id": "qoksalOx0bSZ"
      },
      "source": [
        "- Estado 2"
      ]
    },
    {
      "cell_type": "code",
      "metadata": {
        "id": "SggSQ_XExuv7"
      },
      "source": [
        "modelo_2 = sm.ols(formula= 'p_renda_estado_2 ~ p_familias_estado_2 + np.power(p_familias_estado_2, 2)', \n",
        "                  data= df_estado_2).fit()"
      ],
      "execution_count": null,
      "outputs": []
    },
    {
      "cell_type": "code",
      "metadata": {
        "colab": {
          "base_uri": "https://localhost:8080/",
          "height": 465
        },
        "id": "ltXEeB670dVO",
        "outputId": "12ab6ba2-5f70-4da0-fb2d-f4f666972600"
      },
      "source": [
        "modelo_2.summary()"
      ],
      "execution_count": null,
      "outputs": [
        {
          "output_type": "execute_result",
          "data": {
            "text/html": [
              "<table class=\"simpletable\">\n",
              "<caption>OLS Regression Results</caption>\n",
              "<tr>\n",
              "  <th>Dep. Variable:</th>    <td>p_renda_estado_2</td> <th>  R-squared:         </th> <td>   1.000</td> \n",
              "</tr>\n",
              "<tr>\n",
              "  <th>Model:</th>                   <td>OLS</td>       <th>  Adj. R-squared:    </th> <td>   1.000</td> \n",
              "</tr>\n",
              "<tr>\n",
              "  <th>Method:</th>             <td>Least Squares</td>  <th>  F-statistic:       </th> <td>9.398e+04</td>\n",
              "</tr>\n",
              "<tr>\n",
              "  <th>Date:</th>             <td>Sun, 16 May 2021</td> <th>  Prob (F-statistic):</th> <td>3.17e-125</td>\n",
              "</tr>\n",
              "<tr>\n",
              "  <th>Time:</th>                 <td>17:24:47</td>     <th>  Log-Likelihood:    </th> <td>  286.71</td> \n",
              "</tr>\n",
              "<tr>\n",
              "  <th>No. Observations:</th>      <td>    76</td>      <th>  AIC:               </th> <td>  -567.4</td> \n",
              "</tr>\n",
              "<tr>\n",
              "  <th>Df Residuals:</th>          <td>    73</td>      <th>  BIC:               </th> <td>  -560.4</td> \n",
              "</tr>\n",
              "<tr>\n",
              "  <th>Df Model:</th>              <td>     2</td>      <th>                     </th>     <td> </td>    \n",
              "</tr>\n",
              "<tr>\n",
              "  <th>Covariance Type:</th>      <td>nonrobust</td>    <th>                     </th>     <td> </td>    \n",
              "</tr>\n",
              "</table>\n",
              "<table class=\"simpletable\">\n",
              "<tr>\n",
              "                  <td></td>                    <th>coef</th>     <th>std err</th>      <th>t</th>      <th>P>|t|</th>  <th>[0.025</th>    <th>0.975]</th>  \n",
              "</tr>\n",
              "<tr>\n",
              "  <th>Intercept</th>                        <td>    0.0010</td> <td>    0.002</td> <td>    0.520</td> <td> 0.605</td> <td>   -0.003</td> <td>    0.005</td>\n",
              "</tr>\n",
              "<tr>\n",
              "  <th>p_familias_estado_2</th>              <td>    0.6506</td> <td>    0.009</td> <td>   73.937</td> <td> 0.000</td> <td>    0.633</td> <td>    0.668</td>\n",
              "</tr>\n",
              "<tr>\n",
              "  <th>np.power(p_familias_estado_2, 2)</th> <td>    0.3113</td> <td>    0.009</td> <td>   36.567</td> <td> 0.000</td> <td>    0.294</td> <td>    0.328</td>\n",
              "</tr>\n",
              "</table>\n",
              "<table class=\"simpletable\">\n",
              "<tr>\n",
              "  <th>Omnibus:</th>       <td>96.618</td> <th>  Durbin-Watson:     </th> <td>   0.387</td>\n",
              "</tr>\n",
              "<tr>\n",
              "  <th>Prob(Omnibus):</th> <td> 0.000</td> <th>  Jarque-Bera (JB):  </th> <td>1929.218</td>\n",
              "</tr>\n",
              "<tr>\n",
              "  <th>Skew:</th>          <td> 3.781</td> <th>  Prob(JB):          </th> <td>    0.00</td>\n",
              "</tr>\n",
              "<tr>\n",
              "  <th>Kurtosis:</th>      <td>26.495</td> <th>  Cond. No.          </th> <td>    22.3</td>\n",
              "</tr>\n",
              "</table><br/><br/>Warnings:<br/>[1] Standard Errors assume that the covariance matrix of the errors is correctly specified."
            ],
            "text/plain": [
              "<class 'statsmodels.iolib.summary.Summary'>\n",
              "\"\"\"\n",
              "                            OLS Regression Results                            \n",
              "==============================================================================\n",
              "Dep. Variable:       p_renda_estado_2   R-squared:                       1.000\n",
              "Model:                            OLS   Adj. R-squared:                  1.000\n",
              "Method:                 Least Squares   F-statistic:                 9.398e+04\n",
              "Date:                Sun, 16 May 2021   Prob (F-statistic):          3.17e-125\n",
              "Time:                        17:24:47   Log-Likelihood:                 286.71\n",
              "No. Observations:                  76   AIC:                            -567.4\n",
              "Df Residuals:                      73   BIC:                            -560.4\n",
              "Df Model:                           2                                         \n",
              "Covariance Type:            nonrobust                                         \n",
              "====================================================================================================\n",
              "                                       coef    std err          t      P>|t|      [0.025      0.975]\n",
              "----------------------------------------------------------------------------------------------------\n",
              "Intercept                            0.0010      0.002      0.520      0.605      -0.003       0.005\n",
              "p_familias_estado_2                  0.6506      0.009     73.937      0.000       0.633       0.668\n",
              "np.power(p_familias_estado_2, 2)     0.3113      0.009     36.567      0.000       0.294       0.328\n",
              "==============================================================================\n",
              "Omnibus:                       96.618   Durbin-Watson:                   0.387\n",
              "Prob(Omnibus):                  0.000   Jarque-Bera (JB):             1929.218\n",
              "Skew:                           3.781   Prob(JB):                         0.00\n",
              "Kurtosis:                      26.495   Cond. No.                         22.3\n",
              "==============================================================================\n",
              "\n",
              "Warnings:\n",
              "[1] Standard Errors assume that the covariance matrix of the errors is correctly specified.\n",
              "\"\"\""
            ]
          },
          "metadata": {
            "tags": []
          },
          "execution_count": 27
        }
      ]
    },
    {
      "cell_type": "code",
      "metadata": {
        "id": "tazOtGwSUmfn"
      },
      "source": [
        "df_estado_2['p_renda_pred'] = modelo_2.predict(df_estado_2)"
      ],
      "execution_count": null,
      "outputs": []
    },
    {
      "cell_type": "code",
      "metadata": {
        "colab": {
          "base_uri": "https://localhost:8080/",
          "height": 283
        },
        "id": "Jq0UFXJAUfEm",
        "outputId": "f66480f5-ba0e-4b41-cd09-b54114c9503b"
      },
      "source": [
        "fig, ax = plt.subplots()\n",
        "ax.plot(df_estado_2['p_familias_estado_2'], df_estado_2['p_renda_estado_2'], label=estado_2)\n",
        "ax.plot(df_estado_2['p_familias_estado_2'], df_estado_2['p_renda_pred'], label='Modelo')\n",
        "ax.plot([0, 1], [0, 1], 'r--', label='Linha Referencia')\n",
        "ax.legend()"
      ],
      "execution_count": null,
      "outputs": [
        {
          "output_type": "execute_result",
          "data": {
            "text/plain": [
              "<matplotlib.legend.Legend at 0x7f444b38ff90>"
            ]
          },
          "metadata": {
            "tags": []
          },
          "execution_count": 55
        },
        {
          "output_type": "display_data",
          "data": {
            "image/png": "[encoded data removed]",
            "text/plain": [
              "<Figure size 432x288 with 1 Axes>"
            ]
          },
          "metadata": {
            "tags": [],
            "needs_background": "light"
          }
        }
      ]
    },
    {
      "cell_type": "markdown",
      "metadata": {
        "id": "55sI-eSe0dZw"
      },
      "source": [
        "- Obter integral"
      ]
    },
    {
      "cell_type": "code",
      "metadata": {
        "colab": {
          "base_uri": "https://localhost:8080/"
        },
        "id": "WUnQ50flNWnY",
        "outputId": "9d91cafb-6aed-4d06-dee8-df96eca2078d"
      },
      "source": [
        "modelo_2.params"
      ],
      "execution_count": null,
      "outputs": [
        {
          "output_type": "execute_result",
          "data": {
            "text/plain": [
              "Intercept                           0.000989\n",
              "p_familias_estado_2                 0.650586\n",
              "np.power(p_familias_estado_2, 2)    0.311283\n",
              "dtype: float64"
            ]
          },
          "metadata": {
            "tags": []
          },
          "execution_count": 30
        }
      ]
    },
    {
      "cell_type": "code",
      "metadata": {
        "id": "cjWQenrF0ddd"
      },
      "source": [
        "p_familias = sp.Symbol('PercFamilias')"
      ],
      "execution_count": null,
      "outputs": []
    },
    {
      "cell_type": "code",
      "metadata": {
        "id": "faB-ZLd-0diA"
      },
      "source": [
        "f_estado_2 = p_familias - 0.0010 - 0.6506*p_familias - 0.3113*p_familias**2"
      ],
      "execution_count": null,
      "outputs": []
    },
    {
      "cell_type": "code",
      "metadata": {
        "id": "8u8vGReV0dlE",
        "colab": {
          "base_uri": "https://localhost:8080/",
          "height": 38
        },
        "outputId": "11d1e1c0-a576-4a13-b135-f4078d693811"
      },
      "source": [
        "F_estado_2 = sp.integrate(f_estado_2)\n",
        "F_estado_2"
      ],
      "execution_count": null,
      "outputs": [
        {
          "output_type": "execute_result",
          "data": {
            "text/latex": "$\\displaystyle - 0.103766666666667 PercFamilias^{3} + 0.1747 PercFamilias^{2} - 0.001 PercFamilias$",
            "text/plain": [
              "-0.103766666666667*PercFamilias**3 + 0.1747*PercFamilias**2 - 0.001*PercFamilias"
            ]
          },
          "metadata": {
            "tags": []
          },
          "execution_count": 34
        }
      ]
    },
    {
      "cell_type": "code",
      "metadata": {
        "id": "xXHCuL3h0dn2"
      },
      "source": [
        "# transformar numa função em que operações podem ser realizadas\n",
        "F_estado_2 = sp.lambdify(p_familias, F_estado_2)"
      ],
      "execution_count": null,
      "outputs": []
    },
    {
      "cell_type": "markdown",
      "metadata": {
        "id": "RzSQXVWgOU6A"
      },
      "source": [
        "- Obter o gini"
      ]
    },
    {
      "cell_type": "code",
      "metadata": {
        "colab": {
          "base_uri": "https://localhost:8080/"
        },
        "id": "oigI4tr_OU_f",
        "outputId": "6bf638df-6bc9-4d12-8552-9b9a1a084449"
      },
      "source": [
        "gini_estado2 = 2 * ( F_estado_2(1) - F_estado_2(0) )\n",
        "gini_estado2"
      ],
      "execution_count": null,
      "outputs": [
        {
          "output_type": "execute_result",
          "data": {
            "text/plain": [
              "0.13986666666666597"
            ]
          },
          "metadata": {
            "tags": []
          },
          "execution_count": 38
        }
      ]
    },
    {
      "cell_type": "markdown",
      "metadata": {
        "id": "H9G-N_3lONPP"
      },
      "source": [
        "## Uso de função pronta"
      ]
    },
    {
      "cell_type": "markdown",
      "metadata": {
        "id": "83qQU86KONVD"
      },
      "source": [
        "Implentação encontrada em: https://github.com/oliviaguest/gini/blob/master/gini.py"
      ]
    },
    {
      "cell_type": "code",
      "metadata": {
        "id": "mBRnHlP0ONZX"
      },
      "source": [
        "def gini(array):\n",
        "    \"\"\"Calculate the Gini coefficient of a numpy array.\"\"\"\n",
        "    # based on bottom eq:\n",
        "    # http://www.statsdirect.com/help/generatedimages/equations/equation154.svg\n",
        "    # from:\n",
        "    # http://www.statsdirect.com/help/default.htm#nonparametric_methods/gini.htm\n",
        "    # All values are treated equally, arrays must be 1d:\n",
        "    array = array.flatten()\n",
        "    if np.amin(array) < 0:\n",
        "        # Values cannot be negative:\n",
        "        array -= np.amin(array)\n",
        "    # Values cannot be 0:\n",
        "    array += 0.0000001\n",
        "    # Values must be sorted:\n",
        "    array = np.sort(array)\n",
        "    # Index per array element:\n",
        "    index = np.arange(1,array.shape[0]+1)\n",
        "    # Number of array elements:\n",
        "    n = array.shape[0]\n",
        "    # Gini coefficient:\n",
        "    return ((np.sum((2 * index - n  - 1) * array)) / (n * np.sum(array)))"
      ],
      "execution_count": null,
      "outputs": []
    },
    {
      "cell_type": "code",
      "metadata": {
        "colab": {
          "base_uri": "https://localhost:8080/"
        },
        "id": "13sgEpw9PVlm",
        "outputId": "e0a8f96c-57b1-4e26-f889-b5025ea6d9ff"
      },
      "source": [
        "gini(dados_estado_1['RDPC'].values), gini_estado1"
      ],
      "execution_count": null,
      "outputs": [
        {
          "output_type": "execute_result",
          "data": {
            "text/plain": [
              "(0.14082322758568558, 0.140533333333334)"
            ]
          },
          "metadata": {
            "tags": []
          },
          "execution_count": 42
        }
      ]
    },
    {
      "cell_type": "code",
      "metadata": {
        "colab": {
          "base_uri": "https://localhost:8080/"
        },
        "id": "3oCPkwLXPVrv",
        "outputId": "a4207dae-8e7f-4036-ee0f-c5dfece40a33"
      },
      "source": [
        "gini(dados_estado_2['RDPC'].values), gini_estado2"
      ],
      "execution_count": null,
      "outputs": [
        {
          "output_type": "execute_result",
          "data": {
            "text/plain": [
              "(0.14037778786815108, 0.13986666666666597)"
            ]
          },
          "metadata": {
            "tags": []
          },
          "execution_count": 43
        }
      ]
    },
    {
      "cell_type": "code",
      "metadata": {
        "id": "OKHM7SvVPVv1"
      },
      "source": [
        ""
      ],
      "execution_count": null,
      "outputs": []
    },
    {
      "cell_type": "code",
      "metadata": {
        "colab": {
          "base_uri": "https://localhost:8080/"
        },
        "id": "oQd5d71vhwwl",
        "outputId": "dac6e179-a7e4-4bb0-837e-6bf56537c78b"
      },
      "source": [
        "np.cumsum([1, 2, 3])"
      ],
      "execution_count": null,
      "outputs": [
        {
          "output_type": "execute_result",
          "data": {
            "text/plain": [
              "array([1, 3, 6])"
            ]
          },
          "metadata": {
            "tags": []
          },
          "execution_count": 2
        }
      ]
    },
    {
      "cell_type": "code",
      "metadata": {
        "colab": {
          "base_uri": "https://localhost:8080/"
        },
        "id": "9wuNlaHghw0v",
        "outputId": "ce8a4ad0-634d-4860-b09f-c9636b8c57e0"
      },
      "source": [
        "np.linspace(0, 1, 5)"
      ],
      "execution_count": null,
      "outputs": [
        {
          "output_type": "execute_result",
          "data": {
            "text/plain": [
              "array([0.  , 0.25, 0.5 , 0.75, 1.  ])"
            ]
          },
          "metadata": {
            "tags": []
          },
          "execution_count": 4
        }
      ]
    }
  ]
}