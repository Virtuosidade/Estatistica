{
  "nbformat": 4,
  "nbformat_minor": 0,
  "metadata": {
    "colab": {
      "name": "Amostragem.ipynb",
      "provenance": [],
      "collapsed_sections": []
    },
    "kernelspec": {
      "name": "python3",
      "display_name": "Python 3"
    },
    "language_info": {
      "name": "python"
    }
  },
  "cells": [
    {
      "cell_type": "markdown",
      "metadata": {
        "id": "dtEaVKdYstQh"
      },
      "source": [
        "# Amostragem"
      ]
    },
    {
      "cell_type": "markdown",
      "metadata": {
        "id": "Od7nFuZVst8F"
      },
      "source": [
        "## Carregar módulos"
      ]
    },
    {
      "cell_type": "code",
      "metadata": {
        "id": "kF39eo1dsuAj"
      },
      "source": [
        "import numpy as np\n",
        "import pandas as pd\n",
        "import random as rd\n",
        "from sklearn.model_selection import train_test_split"
      ],
      "execution_count": null,
      "outputs": []
    },
    {
      "cell_type": "markdown",
      "metadata": {
        "id": "Q7yduW-dsuEh"
      },
      "source": [
        "## Carregar dados"
      ]
    },
    {
      "cell_type": "code",
      "metadata": {
        "id": "7mq3iu9zsuIp"
      },
      "source": [
        "dados = pd.read_csv('dados_renda_municipios.csv', \n",
        "                    sep = ',',\n",
        "                    decimal = '.', \n",
        "                    encoding = 'utf-8')"
      ],
      "execution_count": null,
      "outputs": []
    },
    {
      "cell_type": "code",
      "metadata": {
        "colab": {
          "base_uri": "https://localhost:8080/",
          "height": 204
        },
        "id": "ItJDJ5kwsuMM",
        "outputId": "eb4eace5-2227-4740-f0fe-5681785e076a"
      },
      "source": [
        "dados.head()"
      ],
      "execution_count": null,
      "outputs": [
        {
          "output_type": "execute_result",
          "data": {
            "text/html": [
              "<div>\n",
              "<style scoped>\n",
              "    .dataframe tbody tr th:only-of-type {\n",
              "        vertical-align: middle;\n",
              "    }\n",
              "\n",
              "    .dataframe tbody tr th {\n",
              "        vertical-align: top;\n",
              "    }\n",
              "\n",
              "    .dataframe thead th {\n",
              "        text-align: right;\n",
              "    }\n",
              "</style>\n",
              "<table border=\"1\" class=\"dataframe\">\n",
              "  <thead>\n",
              "    <tr style=\"text-align: right;\">\n",
              "      <th></th>\n",
              "      <th>UF</th>\n",
              "      <th>Municipio</th>\n",
              "      <th>RDPC</th>\n",
              "    </tr>\n",
              "  </thead>\n",
              "  <tbody>\n",
              "    <tr>\n",
              "      <th>0</th>\n",
              "      <td>Rondônia</td>\n",
              "      <td>ALTA FLORESTA D'OESTE</td>\n",
              "      <td>476.99</td>\n",
              "    </tr>\n",
              "    <tr>\n",
              "      <th>1</th>\n",
              "      <td>Rondônia</td>\n",
              "      <td>ARIQUEMES</td>\n",
              "      <td>689.95</td>\n",
              "    </tr>\n",
              "    <tr>\n",
              "      <th>2</th>\n",
              "      <td>Rondônia</td>\n",
              "      <td>CABIXI</td>\n",
              "      <td>457.17</td>\n",
              "    </tr>\n",
              "    <tr>\n",
              "      <th>3</th>\n",
              "      <td>Rondônia</td>\n",
              "      <td>CACOAL</td>\n",
              "      <td>738.06</td>\n",
              "    </tr>\n",
              "    <tr>\n",
              "      <th>4</th>\n",
              "      <td>Rondônia</td>\n",
              "      <td>CEREJEIRAS</td>\n",
              "      <td>577.18</td>\n",
              "    </tr>\n",
              "  </tbody>\n",
              "</table>\n",
              "</div>"
            ],
            "text/plain": [
              "         UF              Municipio    RDPC\n",
              "0  Rondônia  ALTA FLORESTA D'OESTE  476.99\n",
              "1  Rondônia              ARIQUEMES  689.95\n",
              "2  Rondônia                 CABIXI  457.17\n",
              "3  Rondônia                 CACOAL  738.06\n",
              "4  Rondônia             CEREJEIRAS  577.18"
            ]
          },
          "metadata": {
            "tags": []
          },
          "execution_count": 3
        }
      ]
    },
    {
      "cell_type": "markdown",
      "metadata": {
        "id": "4sjo6a4DsuP6"
      },
      "source": [
        "## Amostragem"
      ]
    },
    {
      "cell_type": "markdown",
      "metadata": {
        "id": "ftz5V-s8yDgw"
      },
      "source": [
        "### Resultados piloto\n",
        "\n",
        "Neste exemplo iremos utilizar os dados do censo como parâmetros de amostra piloto. \n",
        "\n",
        "Deste modo, reduziriamos os custos de obter uma amostra piloto."
      ]
    },
    {
      "cell_type": "markdown",
      "metadata": {
        "id": "NMUmWLjsyDle"
      },
      "source": [
        "- Escolher UF"
      ]
    },
    {
      "cell_type": "code",
      "metadata": {
        "id": "BE5qTJi1yDpa"
      },
      "source": [
        "uf = 'São Paulo'"
      ],
      "execution_count": null,
      "outputs": []
    },
    {
      "cell_type": "code",
      "metadata": {
        "id": "qsM8lTmkyDuP"
      },
      "source": [
        "dados_municipio = dados[dados['UF'] == uf].reset_index()"
      ],
      "execution_count": null,
      "outputs": []
    },
    {
      "cell_type": "code",
      "metadata": {
        "colab": {
          "base_uri": "https://localhost:8080/"
        },
        "id": "0849Wa2x2OmH",
        "outputId": "4ad2d133-422e-43ed-e37c-a126a888ec76"
      },
      "source": [
        "dados_municipio.shape"
      ],
      "execution_count": null,
      "outputs": [
        {
          "output_type": "execute_result",
          "data": {
            "text/plain": [
              "(645, 4)"
            ]
          },
          "metadata": {
            "tags": []
          },
          "execution_count": 6
        }
      ]
    },
    {
      "cell_type": "markdown",
      "metadata": {
        "id": "-EJm1IjpBMpN"
      },
      "source": [
        "- Classificação de renda"
      ]
    },
    {
      "cell_type": "code",
      "metadata": {
        "id": "A8aUt-zTBMxJ"
      },
      "source": [
        "dados_municipio['classe_renda'] = pd.qcut(dados_municipio['RDPC'], 4, labels = ['D', 'C', 'B', 'A'])"
      ],
      "execution_count": null,
      "outputs": []
    },
    {
      "cell_type": "code",
      "metadata": {
        "colab": {
          "base_uri": "https://localhost:8080/",
          "height": 204
        },
        "id": "JuxRky6aBM9F",
        "outputId": "089cab3f-8591-44b8-ffbf-27bc633b738a"
      },
      "source": [
        "dados_municipio.head()"
      ],
      "execution_count": null,
      "outputs": [
        {
          "output_type": "execute_result",
          "data": {
            "text/html": [
              "<div>\n",
              "<style scoped>\n",
              "    .dataframe tbody tr th:only-of-type {\n",
              "        vertical-align: middle;\n",
              "    }\n",
              "\n",
              "    .dataframe tbody tr th {\n",
              "        vertical-align: top;\n",
              "    }\n",
              "\n",
              "    .dataframe thead th {\n",
              "        text-align: right;\n",
              "    }\n",
              "</style>\n",
              "<table border=\"1\" class=\"dataframe\">\n",
              "  <thead>\n",
              "    <tr style=\"text-align: right;\">\n",
              "      <th></th>\n",
              "      <th>index</th>\n",
              "      <th>UF</th>\n",
              "      <th>Municipio</th>\n",
              "      <th>RDPC</th>\n",
              "      <th>classe_renda</th>\n",
              "    </tr>\n",
              "  </thead>\n",
              "  <tbody>\n",
              "    <tr>\n",
              "      <th>0</th>\n",
              "      <td>3266</td>\n",
              "      <td>São Paulo</td>\n",
              "      <td>ADAMANTINA</td>\n",
              "      <td>975.43</td>\n",
              "      <td>A</td>\n",
              "    </tr>\n",
              "    <tr>\n",
              "      <th>1</th>\n",
              "      <td>3267</td>\n",
              "      <td>São Paulo</td>\n",
              "      <td>ADOLFO</td>\n",
              "      <td>661.65</td>\n",
              "      <td>C</td>\n",
              "    </tr>\n",
              "    <tr>\n",
              "      <th>2</th>\n",
              "      <td>3268</td>\n",
              "      <td>São Paulo</td>\n",
              "      <td>AGUAÍ</td>\n",
              "      <td>636.07</td>\n",
              "      <td>C</td>\n",
              "    </tr>\n",
              "    <tr>\n",
              "      <th>3</th>\n",
              "      <td>3269</td>\n",
              "      <td>São Paulo</td>\n",
              "      <td>ÁGUAS DA PRATA</td>\n",
              "      <td>853.39</td>\n",
              "      <td>A</td>\n",
              "    </tr>\n",
              "    <tr>\n",
              "      <th>4</th>\n",
              "      <td>3270</td>\n",
              "      <td>São Paulo</td>\n",
              "      <td>ÁGUAS DE LINDÓIA</td>\n",
              "      <td>730.13</td>\n",
              "      <td>B</td>\n",
              "    </tr>\n",
              "  </tbody>\n",
              "</table>\n",
              "</div>"
            ],
            "text/plain": [
              "   index         UF         Municipio    RDPC classe_renda\n",
              "0   3266  São Paulo        ADAMANTINA  975.43            A\n",
              "1   3267  São Paulo            ADOLFO  661.65            C\n",
              "2   3268  São Paulo             AGUAÍ  636.07            C\n",
              "3   3269  São Paulo    ÁGUAS DA PRATA  853.39            A\n",
              "4   3270  São Paulo  ÁGUAS DE LINDÓIA  730.13            B"
            ]
          },
          "metadata": {
            "tags": []
          },
          "execution_count": 8
        }
      ]
    },
    {
      "cell_type": "markdown",
      "metadata": {
        "id": "rcxoeWAfyDyb"
      },
      "source": [
        "- Métricas da renda da amostra piloto (Censo)"
      ]
    },
    {
      "cell_type": "code",
      "metadata": {
        "id": "VjQCT7SUyD3T"
      },
      "source": [
        "dados_piloto = dados_municipio.agg(media_RDPC = pd.NamedAgg('RDPC', 'mean'),\n",
        "                                   dp_RDPC = pd.NamedAgg('RDPC', 'std'),\n",
        "                                   N = pd.NamedAgg('RDPC', 'count'))"
      ],
      "execution_count": null,
      "outputs": []
    },
    {
      "cell_type": "code",
      "metadata": {
        "colab": {
          "base_uri": "https://localhost:8080/",
          "height": 142
        },
        "id": "Vy4--D-l8elD",
        "outputId": "1c27ee13-d289-4e6e-dad9-83e24f2894a9"
      },
      "source": [
        "dados_piloto"
      ],
      "execution_count": null,
      "outputs": [
        {
          "output_type": "execute_result",
          "data": {
            "text/html": [
              "<div>\n",
              "<style scoped>\n",
              "    .dataframe tbody tr th:only-of-type {\n",
              "        vertical-align: middle;\n",
              "    }\n",
              "\n",
              "    .dataframe tbody tr th {\n",
              "        vertical-align: top;\n",
              "    }\n",
              "\n",
              "    .dataframe thead th {\n",
              "        text-align: right;\n",
              "    }\n",
              "</style>\n",
              "<table border=\"1\" class=\"dataframe\">\n",
              "  <thead>\n",
              "    <tr style=\"text-align: right;\">\n",
              "      <th></th>\n",
              "      <th>RDPC</th>\n",
              "    </tr>\n",
              "  </thead>\n",
              "  <tbody>\n",
              "    <tr>\n",
              "      <th>media_RDPC</th>\n",
              "      <td>713.926155</td>\n",
              "    </tr>\n",
              "    <tr>\n",
              "      <th>dp_RDPC</th>\n",
              "      <td>197.398270</td>\n",
              "    </tr>\n",
              "    <tr>\n",
              "      <th>N</th>\n",
              "      <td>645.000000</td>\n",
              "    </tr>\n",
              "  </tbody>\n",
              "</table>\n",
              "</div>"
            ],
            "text/plain": [
              "                  RDPC\n",
              "media_RDPC  713.926155\n",
              "dp_RDPC     197.398270\n",
              "N           645.000000"
            ]
          },
          "metadata": {
            "tags": []
          },
          "execution_count": 10
        }
      ]
    },
    {
      "cell_type": "code",
      "metadata": {
        "id": "LDj5Td3ZB5p5"
      },
      "source": [
        "dados_piloto_classe = dados_municipio.groupby('classe_renda') \\\n",
        "                                     .agg(media_RDPC = pd.NamedAgg('RDPC', 'mean'),\n",
        "                                          dp_RDPC = pd.NamedAgg('RDPC', 'std'),\n",
        "                                          N = pd.NamedAgg('RDPC', 'count')) \\\n",
        "                                     .reset_index()"
      ],
      "execution_count": null,
      "outputs": []
    },
    {
      "cell_type": "code",
      "metadata": {
        "id": "wRcxKwRaKMWM"
      },
      "source": [
        "dados_piloto_classe['percent'] = dados_piloto_classe['N'] / sum(dados_piloto_classe['N'])"
      ],
      "execution_count": null,
      "outputs": []
    },
    {
      "cell_type": "code",
      "metadata": {
        "colab": {
          "base_uri": "https://localhost:8080/",
          "height": 173
        },
        "id": "PSxnru0FB55k",
        "outputId": "9441cb16-b23f-4a76-b5d0-641f7bcd17b7"
      },
      "source": [
        "dados_piloto_classe"
      ],
      "execution_count": null,
      "outputs": [
        {
          "output_type": "execute_result",
          "data": {
            "text/html": [
              "<div>\n",
              "<style scoped>\n",
              "    .dataframe tbody tr th:only-of-type {\n",
              "        vertical-align: middle;\n",
              "    }\n",
              "\n",
              "    .dataframe tbody tr th {\n",
              "        vertical-align: top;\n",
              "    }\n",
              "\n",
              "    .dataframe thead th {\n",
              "        text-align: right;\n",
              "    }\n",
              "</style>\n",
              "<table border=\"1\" class=\"dataframe\">\n",
              "  <thead>\n",
              "    <tr style=\"text-align: right;\">\n",
              "      <th></th>\n",
              "      <th>classe_renda</th>\n",
              "      <th>media_RDPC</th>\n",
              "      <th>dp_RDPC</th>\n",
              "      <th>N</th>\n",
              "      <th>percent</th>\n",
              "    </tr>\n",
              "  </thead>\n",
              "  <tbody>\n",
              "    <tr>\n",
              "      <th>0</th>\n",
              "      <td>D</td>\n",
              "      <td>517.531296</td>\n",
              "      <td>58.889964</td>\n",
              "      <td>162</td>\n",
              "      <td>0.251163</td>\n",
              "    </tr>\n",
              "    <tr>\n",
              "      <th>1</th>\n",
              "      <td>C</td>\n",
              "      <td>637.659259</td>\n",
              "      <td>28.839032</td>\n",
              "      <td>162</td>\n",
              "      <td>0.251163</td>\n",
              "    </tr>\n",
              "    <tr>\n",
              "      <th>2</th>\n",
              "      <td>B</td>\n",
              "      <td>736.007313</td>\n",
              "      <td>34.142763</td>\n",
              "      <td>160</td>\n",
              "      <td>0.248062</td>\n",
              "    </tr>\n",
              "    <tr>\n",
              "      <th>3</th>\n",
              "      <td>A</td>\n",
              "      <td>966.337453</td>\n",
              "      <td>204.484141</td>\n",
              "      <td>161</td>\n",
              "      <td>0.249612</td>\n",
              "    </tr>\n",
              "  </tbody>\n",
              "</table>\n",
              "</div>"
            ],
            "text/plain": [
              "  classe_renda  media_RDPC     dp_RDPC    N   percent\n",
              "0            D  517.531296   58.889964  162  0.251163\n",
              "1            C  637.659259   28.839032  162  0.251163\n",
              "2            B  736.007313   34.142763  160  0.248062\n",
              "3            A  966.337453  204.484141  161  0.249612"
            ]
          },
          "metadata": {
            "tags": []
          },
          "execution_count": 26
        }
      ]
    },
    {
      "cell_type": "markdown",
      "metadata": {
        "id": "CeH67ciiyD7i"
      },
      "source": [
        "### Obter amostra"
      ]
    },
    {
      "cell_type": "markdown",
      "metadata": {
        "id": "TZYUQW3CsuUF"
      },
      "source": [
        "- Fórmula amostra"
      ]
    },
    {
      "cell_type": "code",
      "metadata": {
        "id": "IKrXZQrG2zlL"
      },
      "source": [
        "def formula_amostra_discreta(N, Z, ME):\n",
        "  n = (Z**2 * 0.25 * N) / ((ME**2 * (N-1)) + (Z**2 * 0.25))\n",
        "  return int(n)"
      ],
      "execution_count": null,
      "outputs": []
    },
    {
      "cell_type": "code",
      "metadata": {
        "id": "WfX6FPuS2fsa"
      },
      "source": [
        "def formula_amostra_continua(N, S, Z, ME):\n",
        "  n = (Z**2 * S**2 * N) / ((ME**2 * (N-1)) + (Z**2 * S**2))\n",
        "  return int(n)"
      ],
      "execution_count": null,
      "outputs": []
    },
    {
      "cell_type": "markdown",
      "metadata": {
        "id": "6VQkl6DV5XWn"
      },
      "source": [
        "No caso iremos utilizar a fórmula da amostra contínua"
      ]
    },
    {
      "cell_type": "code",
      "metadata": {
        "id": "XkJKXTwm50pq"
      },
      "source": [
        "N = 645\n",
        "Z = 1.96\n",
        "S = 197.40\n",
        "ME = 25"
      ],
      "execution_count": null,
      "outputs": []
    },
    {
      "cell_type": "code",
      "metadata": {
        "colab": {
          "base_uri": "https://localhost:8080/"
        },
        "id": "iZigRs3s50tT",
        "outputId": "47187b53-8bd4-4097-8286-1fe673c7463c"
      },
      "source": [
        "n = formula_amostra_continua(N, S, Z, ME)\n",
        "n"
      ],
      "execution_count": null,
      "outputs": [
        {
          "output_type": "execute_result",
          "data": {
            "text/plain": [
              "174"
            ]
          },
          "metadata": {
            "tags": []
          },
          "execution_count": 30
        }
      ]
    },
    {
      "cell_type": "markdown",
      "metadata": {
        "id": "wW3o9ldD50wz"
      },
      "source": [
        "### Métodos Amostragem"
      ]
    },
    {
      "cell_type": "markdown",
      "metadata": {
        "id": "fkySe-cq6sYM"
      },
      "source": [
        "- Amostra aleatória simples"
      ]
    },
    {
      "cell_type": "code",
      "metadata": {
        "id": "cbe3_aLd6scc"
      },
      "source": [
        "dados_amostra_simples = dados_municipio.sample(n=n, random_state=1245)"
      ],
      "execution_count": null,
      "outputs": []
    },
    {
      "cell_type": "code",
      "metadata": {
        "colab": {
          "base_uri": "https://localhost:8080/",
          "height": 204
        },
        "id": "yvLD-8ps6sgn",
        "outputId": "ee0b4cba-a822-48be-93b7-b848f3eb6af8"
      },
      "source": [
        "dados_amostra_simples.head()"
      ],
      "execution_count": null,
      "outputs": [
        {
          "output_type": "execute_result",
          "data": {
            "text/html": [
              "<div>\n",
              "<style scoped>\n",
              "    .dataframe tbody tr th:only-of-type {\n",
              "        vertical-align: middle;\n",
              "    }\n",
              "\n",
              "    .dataframe tbody tr th {\n",
              "        vertical-align: top;\n",
              "    }\n",
              "\n",
              "    .dataframe thead th {\n",
              "        text-align: right;\n",
              "    }\n",
              "</style>\n",
              "<table border=\"1\" class=\"dataframe\">\n",
              "  <thead>\n",
              "    <tr style=\"text-align: right;\">\n",
              "      <th></th>\n",
              "      <th>index</th>\n",
              "      <th>UF</th>\n",
              "      <th>Municipio</th>\n",
              "      <th>RDPC</th>\n",
              "      <th>classe_renda</th>\n",
              "    </tr>\n",
              "  </thead>\n",
              "  <tbody>\n",
              "    <tr>\n",
              "      <th>276</th>\n",
              "      <td>3542</td>\n",
              "      <td>São Paulo</td>\n",
              "      <td>JABOTICABAL</td>\n",
              "      <td>1015.51</td>\n",
              "      <td>A</td>\n",
              "    </tr>\n",
              "    <tr>\n",
              "      <th>494</th>\n",
              "      <td>3760</td>\n",
              "      <td>São Paulo</td>\n",
              "      <td>RIO GRANDE DA SERRA</td>\n",
              "      <td>563.57</td>\n",
              "      <td>D</td>\n",
              "    </tr>\n",
              "    <tr>\n",
              "      <th>12</th>\n",
              "      <td>3278</td>\n",
              "      <td>São Paulo</td>\n",
              "      <td>ALTO ALEGRE</td>\n",
              "      <td>560.30</td>\n",
              "      <td>D</td>\n",
              "    </tr>\n",
              "    <tr>\n",
              "      <th>581</th>\n",
              "      <td>3847</td>\n",
              "      <td>São Paulo</td>\n",
              "      <td>SOROCABA</td>\n",
              "      <td>1107.19</td>\n",
              "      <td>A</td>\n",
              "    </tr>\n",
              "    <tr>\n",
              "      <th>207</th>\n",
              "      <td>3473</td>\n",
              "      <td>São Paulo</td>\n",
              "      <td>GUARAREMA</td>\n",
              "      <td>748.79</td>\n",
              "      <td>B</td>\n",
              "    </tr>\n",
              "  </tbody>\n",
              "</table>\n",
              "</div>"
            ],
            "text/plain": [
              "     index         UF            Municipio     RDPC classe_renda\n",
              "276   3542  São Paulo          JABOTICABAL  1015.51            A\n",
              "494   3760  São Paulo  RIO GRANDE DA SERRA   563.57            D\n",
              "12    3278  São Paulo          ALTO ALEGRE   560.30            D\n",
              "581   3847  São Paulo             SOROCABA  1107.19            A\n",
              "207   3473  São Paulo            GUARAREMA   748.79            B"
            ]
          },
          "metadata": {
            "tags": []
          },
          "execution_count": 32
        }
      ]
    },
    {
      "cell_type": "code",
      "metadata": {
        "colab": {
          "base_uri": "https://localhost:8080/",
          "height": 142
        },
        "id": "5HJU5Zsb500U",
        "outputId": "afd82186-040c-47cd-d078-c3ae3ca1710c"
      },
      "source": [
        "dados_amostra_simples.agg(media_RDPC = pd.NamedAgg('RDPC', 'mean'),\n",
        "                          dp_RDPC = pd.NamedAgg('RDPC', 'std'),\n",
        "                          N = pd.NamedAgg('RDPC', 'count'))"
      ],
      "execution_count": null,
      "outputs": [
        {
          "output_type": "execute_result",
          "data": {
            "text/html": [
              "<div>\n",
              "<style scoped>\n",
              "    .dataframe tbody tr th:only-of-type {\n",
              "        vertical-align: middle;\n",
              "    }\n",
              "\n",
              "    .dataframe tbody tr th {\n",
              "        vertical-align: top;\n",
              "    }\n",
              "\n",
              "    .dataframe thead th {\n",
              "        text-align: right;\n",
              "    }\n",
              "</style>\n",
              "<table border=\"1\" class=\"dataframe\">\n",
              "  <thead>\n",
              "    <tr style=\"text-align: right;\">\n",
              "      <th></th>\n",
              "      <th>RDPC</th>\n",
              "    </tr>\n",
              "  </thead>\n",
              "  <tbody>\n",
              "    <tr>\n",
              "      <th>media_RDPC</th>\n",
              "      <td>714.228851</td>\n",
              "    </tr>\n",
              "    <tr>\n",
              "      <th>dp_RDPC</th>\n",
              "      <td>197.027325</td>\n",
              "    </tr>\n",
              "    <tr>\n",
              "      <th>N</th>\n",
              "      <td>174.000000</td>\n",
              "    </tr>\n",
              "  </tbody>\n",
              "</table>\n",
              "</div>"
            ],
            "text/plain": [
              "                  RDPC\n",
              "media_RDPC  714.228851\n",
              "dp_RDPC     197.027325\n",
              "N           174.000000"
            ]
          },
          "metadata": {
            "tags": []
          },
          "execution_count": 33
        }
      ]
    },
    {
      "cell_type": "code",
      "metadata": {
        "colab": {
          "base_uri": "https://localhost:8080/",
          "height": 142
        },
        "id": "C8vmEEle503u",
        "outputId": "8847373b-53bf-4a4d-e9e5-ab7caacae96d"
      },
      "source": [
        "dados_piloto"
      ],
      "execution_count": null,
      "outputs": [
        {
          "output_type": "execute_result",
          "data": {
            "text/html": [
              "<div>\n",
              "<style scoped>\n",
              "    .dataframe tbody tr th:only-of-type {\n",
              "        vertical-align: middle;\n",
              "    }\n",
              "\n",
              "    .dataframe tbody tr th {\n",
              "        vertical-align: top;\n",
              "    }\n",
              "\n",
              "    .dataframe thead th {\n",
              "        text-align: right;\n",
              "    }\n",
              "</style>\n",
              "<table border=\"1\" class=\"dataframe\">\n",
              "  <thead>\n",
              "    <tr style=\"text-align: right;\">\n",
              "      <th></th>\n",
              "      <th>RDPC</th>\n",
              "    </tr>\n",
              "  </thead>\n",
              "  <tbody>\n",
              "    <tr>\n",
              "      <th>media_RDPC</th>\n",
              "      <td>713.926155</td>\n",
              "    </tr>\n",
              "    <tr>\n",
              "      <th>dp_RDPC</th>\n",
              "      <td>197.398270</td>\n",
              "    </tr>\n",
              "    <tr>\n",
              "      <th>N</th>\n",
              "      <td>645.000000</td>\n",
              "    </tr>\n",
              "  </tbody>\n",
              "</table>\n",
              "</div>"
            ],
            "text/plain": [
              "                  RDPC\n",
              "media_RDPC  713.926155\n",
              "dp_RDPC     197.398270\n",
              "N           645.000000"
            ]
          },
          "metadata": {
            "tags": []
          },
          "execution_count": 34
        }
      ]
    },
    {
      "cell_type": "code",
      "metadata": {
        "id": "TIhYzn75De7I"
      },
      "source": [
        "resumo = dados_amostra_simples.groupby('classe_renda') \\\n",
        "                              .agg(media_RDPC = pd.NamedAgg('RDPC', 'mean'),\n",
        "                                    dp_RDPC = pd.NamedAgg('RDPC', 'std'),\n",
        "                                    N = pd.NamedAgg('RDPC', 'count')) \\\n",
        "                              .reset_index()"
      ],
      "execution_count": null,
      "outputs": []
    },
    {
      "cell_type": "code",
      "metadata": {
        "id": "yiWh5p1GLmHb"
      },
      "source": [
        "resumo['percent'] = resumo['N'] / sum(resumo['N'])"
      ],
      "execution_count": null,
      "outputs": []
    },
    {
      "cell_type": "code",
      "metadata": {
        "colab": {
          "base_uri": "https://localhost:8080/",
          "height": 173
        },
        "id": "FpWWCnXVLmMe",
        "outputId": "efa07476-6dea-418c-fa3a-2d61b4492e36"
      },
      "source": [
        "resumo"
      ],
      "execution_count": null,
      "outputs": [
        {
          "output_type": "execute_result",
          "data": {
            "text/html": [
              "<div>\n",
              "<style scoped>\n",
              "    .dataframe tbody tr th:only-of-type {\n",
              "        vertical-align: middle;\n",
              "    }\n",
              "\n",
              "    .dataframe tbody tr th {\n",
              "        vertical-align: top;\n",
              "    }\n",
              "\n",
              "    .dataframe thead th {\n",
              "        text-align: right;\n",
              "    }\n",
              "</style>\n",
              "<table border=\"1\" class=\"dataframe\">\n",
              "  <thead>\n",
              "    <tr style=\"text-align: right;\">\n",
              "      <th></th>\n",
              "      <th>classe_renda</th>\n",
              "      <th>media_RDPC</th>\n",
              "      <th>dp_RDPC</th>\n",
              "      <th>N</th>\n",
              "      <th>percent</th>\n",
              "    </tr>\n",
              "  </thead>\n",
              "  <tbody>\n",
              "    <tr>\n",
              "      <th>0</th>\n",
              "      <td>D</td>\n",
              "      <td>501.869744</td>\n",
              "      <td>66.576554</td>\n",
              "      <td>39</td>\n",
              "      <td>0.224138</td>\n",
              "    </tr>\n",
              "    <tr>\n",
              "      <th>1</th>\n",
              "      <td>C</td>\n",
              "      <td>639.571136</td>\n",
              "      <td>28.383709</td>\n",
              "      <td>44</td>\n",
              "      <td>0.252874</td>\n",
              "    </tr>\n",
              "    <tr>\n",
              "      <th>2</th>\n",
              "      <td>B</td>\n",
              "      <td>730.668800</td>\n",
              "      <td>33.343062</td>\n",
              "      <td>50</td>\n",
              "      <td>0.287356</td>\n",
              "    </tr>\n",
              "    <tr>\n",
              "      <th>3</th>\n",
              "      <td>A</td>\n",
              "      <td>976.300732</td>\n",
              "      <td>201.544108</td>\n",
              "      <td>41</td>\n",
              "      <td>0.235632</td>\n",
              "    </tr>\n",
              "  </tbody>\n",
              "</table>\n",
              "</div>"
            ],
            "text/plain": [
              "  classe_renda  media_RDPC     dp_RDPC   N   percent\n",
              "0            D  501.869744   66.576554  39  0.224138\n",
              "1            C  639.571136   28.383709  44  0.252874\n",
              "2            B  730.668800   33.343062  50  0.287356\n",
              "3            A  976.300732  201.544108  41  0.235632"
            ]
          },
          "metadata": {
            "tags": []
          },
          "execution_count": 38
        }
      ]
    },
    {
      "cell_type": "code",
      "metadata": {
        "colab": {
          "base_uri": "https://localhost:8080/",
          "height": 173
        },
        "id": "0jhMFi2vDfBT",
        "outputId": "77738872-3788-4f72-88d1-c2cc63062939"
      },
      "source": [
        "dados_piloto_classe"
      ],
      "execution_count": null,
      "outputs": [
        {
          "output_type": "execute_result",
          "data": {
            "text/html": [
              "<div>\n",
              "<style scoped>\n",
              "    .dataframe tbody tr th:only-of-type {\n",
              "        vertical-align: middle;\n",
              "    }\n",
              "\n",
              "    .dataframe tbody tr th {\n",
              "        vertical-align: top;\n",
              "    }\n",
              "\n",
              "    .dataframe thead th {\n",
              "        text-align: right;\n",
              "    }\n",
              "</style>\n",
              "<table border=\"1\" class=\"dataframe\">\n",
              "  <thead>\n",
              "    <tr style=\"text-align: right;\">\n",
              "      <th></th>\n",
              "      <th>classe_renda</th>\n",
              "      <th>media_RDPC</th>\n",
              "      <th>dp_RDPC</th>\n",
              "      <th>N</th>\n",
              "      <th>percent</th>\n",
              "    </tr>\n",
              "  </thead>\n",
              "  <tbody>\n",
              "    <tr>\n",
              "      <th>0</th>\n",
              "      <td>D</td>\n",
              "      <td>517.531296</td>\n",
              "      <td>58.889964</td>\n",
              "      <td>162</td>\n",
              "      <td>0.251163</td>\n",
              "    </tr>\n",
              "    <tr>\n",
              "      <th>1</th>\n",
              "      <td>C</td>\n",
              "      <td>637.659259</td>\n",
              "      <td>28.839032</td>\n",
              "      <td>162</td>\n",
              "      <td>0.251163</td>\n",
              "    </tr>\n",
              "    <tr>\n",
              "      <th>2</th>\n",
              "      <td>B</td>\n",
              "      <td>736.007313</td>\n",
              "      <td>34.142763</td>\n",
              "      <td>160</td>\n",
              "      <td>0.248062</td>\n",
              "    </tr>\n",
              "    <tr>\n",
              "      <th>3</th>\n",
              "      <td>A</td>\n",
              "      <td>966.337453</td>\n",
              "      <td>204.484141</td>\n",
              "      <td>161</td>\n",
              "      <td>0.249612</td>\n",
              "    </tr>\n",
              "  </tbody>\n",
              "</table>\n",
              "</div>"
            ],
            "text/plain": [
              "  classe_renda  media_RDPC     dp_RDPC    N   percent\n",
              "0            D  517.531296   58.889964  162  0.251163\n",
              "1            C  637.659259   28.839032  162  0.251163\n",
              "2            B  736.007313   34.142763  160  0.248062\n",
              "3            A  966.337453  204.484141  161  0.249612"
            ]
          },
          "metadata": {
            "tags": []
          },
          "execution_count": 39
        }
      ]
    },
    {
      "cell_type": "markdown",
      "metadata": {
        "id": "WfihA1tv507M"
      },
      "source": [
        "- Amostra estratificada"
      ]
    },
    {
      "cell_type": "code",
      "metadata": {
        "id": "1EjX_mHP8nib"
      },
      "source": [
        "dados_amostra_estrat = train_test_split(dados_municipio, \n",
        "                                        test_size = n, \n",
        "                                        random_state=1245, \n",
        "                                        stratify=dados_municipio['classe_renda'])[1]"
      ],
      "execution_count": null,
      "outputs": []
    },
    {
      "cell_type": "code",
      "metadata": {
        "colab": {
          "base_uri": "https://localhost:8080/",
          "height": 204
        },
        "id": "q6J2xr0jMXCk",
        "outputId": "0917580b-31ba-46bf-dc5a-0e1a29b7ac06"
      },
      "source": [
        "dados_amostra_estrat.head()"
      ],
      "execution_count": null,
      "outputs": [
        {
          "output_type": "execute_result",
          "data": {
            "text/html": [
              "<div>\n",
              "<style scoped>\n",
              "    .dataframe tbody tr th:only-of-type {\n",
              "        vertical-align: middle;\n",
              "    }\n",
              "\n",
              "    .dataframe tbody tr th {\n",
              "        vertical-align: top;\n",
              "    }\n",
              "\n",
              "    .dataframe thead th {\n",
              "        text-align: right;\n",
              "    }\n",
              "</style>\n",
              "<table border=\"1\" class=\"dataframe\">\n",
              "  <thead>\n",
              "    <tr style=\"text-align: right;\">\n",
              "      <th></th>\n",
              "      <th>index</th>\n",
              "      <th>UF</th>\n",
              "      <th>Municipio</th>\n",
              "      <th>RDPC</th>\n",
              "      <th>classe_renda</th>\n",
              "    </tr>\n",
              "  </thead>\n",
              "  <tbody>\n",
              "    <tr>\n",
              "      <th>251</th>\n",
              "      <td>3517</td>\n",
              "      <td>São Paulo</td>\n",
              "      <td>ITAJU</td>\n",
              "      <td>609.08</td>\n",
              "      <td>C</td>\n",
              "    </tr>\n",
              "    <tr>\n",
              "      <th>468</th>\n",
              "      <td>3734</td>\n",
              "      <td>São Paulo</td>\n",
              "      <td>QUATÁ</td>\n",
              "      <td>648.64</td>\n",
              "      <td>C</td>\n",
              "    </tr>\n",
              "    <tr>\n",
              "      <th>363</th>\n",
              "      <td>3629</td>\n",
              "      <td>São Paulo</td>\n",
              "      <td>NAZARÉ PAULISTA</td>\n",
              "      <td>554.18</td>\n",
              "      <td>D</td>\n",
              "    </tr>\n",
              "    <tr>\n",
              "      <th>339</th>\n",
              "      <td>3605</td>\n",
              "      <td>São Paulo</td>\n",
              "      <td>MIRANTE DO PARANAPANEMA</td>\n",
              "      <td>516.30</td>\n",
              "      <td>D</td>\n",
              "    </tr>\n",
              "    <tr>\n",
              "      <th>238</th>\n",
              "      <td>3504</td>\n",
              "      <td>São Paulo</td>\n",
              "      <td>INÚBIA PAULISTA</td>\n",
              "      <td>576.91</td>\n",
              "      <td>D</td>\n",
              "    </tr>\n",
              "  </tbody>\n",
              "</table>\n",
              "</div>"
            ],
            "text/plain": [
              "     index         UF                Municipio    RDPC classe_renda\n",
              "251   3517  São Paulo                    ITAJU  609.08            C\n",
              "468   3734  São Paulo                    QUATÁ  648.64            C\n",
              "363   3629  São Paulo          NAZARÉ PAULISTA  554.18            D\n",
              "339   3605  São Paulo  MIRANTE DO PARANAPANEMA  516.30            D\n",
              "238   3504  São Paulo          INÚBIA PAULISTA  576.91            D"
            ]
          },
          "metadata": {
            "tags": []
          },
          "execution_count": 47
        }
      ]
    },
    {
      "cell_type": "code",
      "metadata": {
        "colab": {
          "base_uri": "https://localhost:8080/",
          "height": 142
        },
        "id": "HPfoAH6D8nmP",
        "outputId": "6e034f2c-03af-40c4-b123-7e627fca97bb"
      },
      "source": [
        "dados_amostra_estrat.agg(media_RDPC = pd.NamedAgg('RDPC', 'mean'),\n",
        "                          dp_RDPC = pd.NamedAgg('RDPC', 'std'),\n",
        "                          N = pd.NamedAgg('RDPC', 'count'))"
      ],
      "execution_count": null,
      "outputs": [
        {
          "output_type": "execute_result",
          "data": {
            "text/html": [
              "<div>\n",
              "<style scoped>\n",
              "    .dataframe tbody tr th:only-of-type {\n",
              "        vertical-align: middle;\n",
              "    }\n",
              "\n",
              "    .dataframe tbody tr th {\n",
              "        vertical-align: top;\n",
              "    }\n",
              "\n",
              "    .dataframe thead th {\n",
              "        text-align: right;\n",
              "    }\n",
              "</style>\n",
              "<table border=\"1\" class=\"dataframe\">\n",
              "  <thead>\n",
              "    <tr style=\"text-align: right;\">\n",
              "      <th></th>\n",
              "      <th>RDPC</th>\n",
              "    </tr>\n",
              "  </thead>\n",
              "  <tbody>\n",
              "    <tr>\n",
              "      <th>media_RDPC</th>\n",
              "      <td>718.882874</td>\n",
              "    </tr>\n",
              "    <tr>\n",
              "      <th>dp_RDPC</th>\n",
              "      <td>205.568258</td>\n",
              "    </tr>\n",
              "    <tr>\n",
              "      <th>N</th>\n",
              "      <td>174.000000</td>\n",
              "    </tr>\n",
              "  </tbody>\n",
              "</table>\n",
              "</div>"
            ],
            "text/plain": [
              "                  RDPC\n",
              "media_RDPC  718.882874\n",
              "dp_RDPC     205.568258\n",
              "N           174.000000"
            ]
          },
          "metadata": {
            "tags": []
          },
          "execution_count": 41
        }
      ]
    },
    {
      "cell_type": "code",
      "metadata": {
        "colab": {
          "base_uri": "https://localhost:8080/",
          "height": 142
        },
        "id": "BTjdoII28npW",
        "outputId": "2556538f-7897-41d9-e6aa-0e8e3de7fd09"
      },
      "source": [
        "dados_piloto"
      ],
      "execution_count": null,
      "outputs": [
        {
          "output_type": "execute_result",
          "data": {
            "text/html": [
              "<div>\n",
              "<style scoped>\n",
              "    .dataframe tbody tr th:only-of-type {\n",
              "        vertical-align: middle;\n",
              "    }\n",
              "\n",
              "    .dataframe tbody tr th {\n",
              "        vertical-align: top;\n",
              "    }\n",
              "\n",
              "    .dataframe thead th {\n",
              "        text-align: right;\n",
              "    }\n",
              "</style>\n",
              "<table border=\"1\" class=\"dataframe\">\n",
              "  <thead>\n",
              "    <tr style=\"text-align: right;\">\n",
              "      <th></th>\n",
              "      <th>RDPC</th>\n",
              "    </tr>\n",
              "  </thead>\n",
              "  <tbody>\n",
              "    <tr>\n",
              "      <th>media_RDPC</th>\n",
              "      <td>713.926155</td>\n",
              "    </tr>\n",
              "    <tr>\n",
              "      <th>dp_RDPC</th>\n",
              "      <td>197.398270</td>\n",
              "    </tr>\n",
              "    <tr>\n",
              "      <th>N</th>\n",
              "      <td>645.000000</td>\n",
              "    </tr>\n",
              "  </tbody>\n",
              "</table>\n",
              "</div>"
            ],
            "text/plain": [
              "                  RDPC\n",
              "media_RDPC  713.926155\n",
              "dp_RDPC     197.398270\n",
              "N           645.000000"
            ]
          },
          "metadata": {
            "tags": []
          },
          "execution_count": 42
        }
      ]
    },
    {
      "cell_type": "code",
      "metadata": {
        "id": "CVJxWtDO8ns-"
      },
      "source": [
        "resumo_estrat = dados_amostra_estrat.groupby('classe_renda') \\\n",
        "                                    .agg(media_RDPC = pd.NamedAgg('RDPC', 'mean'),\n",
        "                                          dp_RDPC = pd.NamedAgg('RDPC', 'std'),\n",
        "                                          N = pd.NamedAgg('RDPC', 'count')) \\\n",
        "                                    .reset_index()"
      ],
      "execution_count": null,
      "outputs": []
    },
    {
      "cell_type": "code",
      "metadata": {
        "id": "n6_7ZHubL4ZE"
      },
      "source": [
        "resumo_estrat['percent'] = resumo_estrat['N'] / sum(resumo_estrat['N'])"
      ],
      "execution_count": null,
      "outputs": []
    },
    {
      "cell_type": "code",
      "metadata": {
        "colab": {
          "base_uri": "https://localhost:8080/",
          "height": 173
        },
        "id": "Z3UixjkwL4gl",
        "outputId": "f0612b57-d904-417f-93a7-b4eb0e79c199"
      },
      "source": [
        "resumo_estrat"
      ],
      "execution_count": null,
      "outputs": [
        {
          "output_type": "execute_result",
          "data": {
            "text/html": [
              "<div>\n",
              "<style scoped>\n",
              "    .dataframe tbody tr th:only-of-type {\n",
              "        vertical-align: middle;\n",
              "    }\n",
              "\n",
              "    .dataframe tbody tr th {\n",
              "        vertical-align: top;\n",
              "    }\n",
              "\n",
              "    .dataframe thead th {\n",
              "        text-align: right;\n",
              "    }\n",
              "</style>\n",
              "<table border=\"1\" class=\"dataframe\">\n",
              "  <thead>\n",
              "    <tr style=\"text-align: right;\">\n",
              "      <th></th>\n",
              "      <th>classe_renda</th>\n",
              "      <th>media_RDPC</th>\n",
              "      <th>dp_RDPC</th>\n",
              "      <th>N</th>\n",
              "      <th>percent</th>\n",
              "    </tr>\n",
              "  </thead>\n",
              "  <tbody>\n",
              "    <tr>\n",
              "      <th>0</th>\n",
              "      <td>D</td>\n",
              "      <td>530.192500</td>\n",
              "      <td>42.159454</td>\n",
              "      <td>44</td>\n",
              "      <td>0.252874</td>\n",
              "    </tr>\n",
              "    <tr>\n",
              "      <th>1</th>\n",
              "      <td>C</td>\n",
              "      <td>635.421591</td>\n",
              "      <td>28.204496</td>\n",
              "      <td>44</td>\n",
              "      <td>0.252874</td>\n",
              "    </tr>\n",
              "    <tr>\n",
              "      <th>2</th>\n",
              "      <td>B</td>\n",
              "      <td>733.693953</td>\n",
              "      <td>34.054255</td>\n",
              "      <td>43</td>\n",
              "      <td>0.247126</td>\n",
              "    </tr>\n",
              "    <tr>\n",
              "      <th>3</th>\n",
              "      <td>A</td>\n",
              "      <td>982.552558</td>\n",
              "      <td>232.962593</td>\n",
              "      <td>43</td>\n",
              "      <td>0.247126</td>\n",
              "    </tr>\n",
              "  </tbody>\n",
              "</table>\n",
              "</div>"
            ],
            "text/plain": [
              "  classe_renda  media_RDPC     dp_RDPC   N   percent\n",
              "0            D  530.192500   42.159454  44  0.252874\n",
              "1            C  635.421591   28.204496  44  0.252874\n",
              "2            B  733.693953   34.054255  43  0.247126\n",
              "3            A  982.552558  232.962593  43  0.247126"
            ]
          },
          "metadata": {
            "tags": []
          },
          "execution_count": 45
        }
      ]
    },
    {
      "cell_type": "code",
      "metadata": {
        "colab": {
          "base_uri": "https://localhost:8080/",
          "height": 173
        },
        "id": "eQm2cojd50-R",
        "outputId": "5ba60180-51db-4c76-959b-0c9ceb7d5e02"
      },
      "source": [
        "dados_piloto_classe"
      ],
      "execution_count": null,
      "outputs": [
        {
          "output_type": "execute_result",
          "data": {
            "text/html": [
              "<div>\n",
              "<style scoped>\n",
              "    .dataframe tbody tr th:only-of-type {\n",
              "        vertical-align: middle;\n",
              "    }\n",
              "\n",
              "    .dataframe tbody tr th {\n",
              "        vertical-align: top;\n",
              "    }\n",
              "\n",
              "    .dataframe thead th {\n",
              "        text-align: right;\n",
              "    }\n",
              "</style>\n",
              "<table border=\"1\" class=\"dataframe\">\n",
              "  <thead>\n",
              "    <tr style=\"text-align: right;\">\n",
              "      <th></th>\n",
              "      <th>classe_renda</th>\n",
              "      <th>media_RDPC</th>\n",
              "      <th>dp_RDPC</th>\n",
              "      <th>N</th>\n",
              "      <th>percent</th>\n",
              "    </tr>\n",
              "  </thead>\n",
              "  <tbody>\n",
              "    <tr>\n",
              "      <th>0</th>\n",
              "      <td>D</td>\n",
              "      <td>517.531296</td>\n",
              "      <td>58.889964</td>\n",
              "      <td>162</td>\n",
              "      <td>0.251163</td>\n",
              "    </tr>\n",
              "    <tr>\n",
              "      <th>1</th>\n",
              "      <td>C</td>\n",
              "      <td>637.659259</td>\n",
              "      <td>28.839032</td>\n",
              "      <td>162</td>\n",
              "      <td>0.251163</td>\n",
              "    </tr>\n",
              "    <tr>\n",
              "      <th>2</th>\n",
              "      <td>B</td>\n",
              "      <td>736.007313</td>\n",
              "      <td>34.142763</td>\n",
              "      <td>160</td>\n",
              "      <td>0.248062</td>\n",
              "    </tr>\n",
              "    <tr>\n",
              "      <th>3</th>\n",
              "      <td>A</td>\n",
              "      <td>966.337453</td>\n",
              "      <td>204.484141</td>\n",
              "      <td>161</td>\n",
              "      <td>0.249612</td>\n",
              "    </tr>\n",
              "  </tbody>\n",
              "</table>\n",
              "</div>"
            ],
            "text/plain": [
              "  classe_renda  media_RDPC     dp_RDPC    N   percent\n",
              "0            D  517.531296   58.889964  162  0.251163\n",
              "1            C  637.659259   28.839032  162  0.251163\n",
              "2            B  736.007313   34.142763  160  0.248062\n",
              "3            A  966.337453  204.484141  161  0.249612"
            ]
          },
          "metadata": {
            "tags": []
          },
          "execution_count": 46
        }
      ]
    }
  ]
}