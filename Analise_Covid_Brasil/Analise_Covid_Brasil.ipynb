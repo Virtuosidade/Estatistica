{
  "nbformat": 4,
  "nbformat_minor": 0,
  "metadata": {
    "colab": {
      "name": "Analise_Covid_Brasil.ipynb",
      "provenance": [],
      "collapsed_sections": []
    },
    "kernelspec": {
      "name": "python3",
      "display_name": "Python 3"
    },
    "language_info": {
      "name": "python"
    }
  },
  "cells": [
    {
      "cell_type": "markdown",
      "metadata": {
        "id": "Ip-ln7NoTna0"
      },
      "source": [
        "# Análise Covid Brasil"
      ]
    },
    {
      "cell_type": "markdown",
      "metadata": {
        "id": "amL0aL-QT3X4"
      },
      "source": [
        "## Carregar módulos"
      ]
    },
    {
      "cell_type": "code",
      "metadata": {
        "id": "dy4tAdLXT3c3"
      },
      "source": [
        "import numpy as np\n",
        "import pandas as pd"
      ],
      "execution_count": null,
      "outputs": []
    },
    {
      "cell_type": "markdown",
      "metadata": {
        "id": "-4a8IgMBT3gr"
      },
      "source": [
        "## Carregar dados"
      ]
    },
    {
      "cell_type": "markdown",
      "metadata": {
        "id": "VnfWrvXjQ-ZU"
      },
      "source": [
        "- Dados Covid Brasil"
      ]
    },
    {
      "cell_type": "code",
      "metadata": {
        "colab": {
          "base_uri": "https://localhost:8080/"
        },
        "id": "bfb7qKtta_8T",
        "outputId": "5dab9a34-e951-4407-c98f-854f4e42fed3"
      },
      "source": [
        "! wget --no-check-certificate --content-disposition 'https://github.com/wcota/covid19br/blob/master/cases-brazil-cities-time.csv.gz?raw=true'"
      ],
      "execution_count": null,
      "outputs": [
        {
          "output_type": "stream",
          "text": [
            "--2021-07-17 16:26:51--  https://github.com/wcota/covid19br/blob/master/cases-brazil-cities-time.csv.gz?raw=true\n",
            "Resolving github.com (github.com)... 13.114.40.48\n",
            "Connecting to github.com (github.com)|13.114.40.48|:443... connected.\n",
            "HTTP request sent, awaiting response... 302 Found\n",
            "Location: https://github.com/wcota/covid19br/raw/master/cases-brazil-cities-time.csv.gz [following]\n",
            "--2021-07-17 16:26:52--  https://github.com/wcota/covid19br/raw/master/cases-brazil-cities-time.csv.gz\n",
            "Reusing existing connection to github.com:443.\n",
            "HTTP request sent, awaiting response... 302 Found\n",
            "Location: https://raw.githubusercontent.com/wcota/covid19br/master/cases-brazil-cities-time.csv.gz [following]\n",
            "--2021-07-17 16:26:52--  https://raw.githubusercontent.com/wcota/covid19br/master/cases-brazil-cities-time.csv.gz\n",
            "Resolving raw.githubusercontent.com (raw.githubusercontent.com)... 185.199.110.133, 185.199.111.133, 185.199.109.133, ...\n",
            "Connecting to raw.githubusercontent.com (raw.githubusercontent.com)|185.199.110.133|:443... connected.\n",
            "HTTP request sent, awaiting response... 200 OK\n",
            "Length: 90345933 (86M) [application/octet-stream]\n",
            "Saving to: ‘cases-brazil-cities-time.csv.gz’\n",
            "\n",
            "cases-brazil-cities 100%[===================>]  86.16M   162MB/s    in 0.5s    \n",
            "\n",
            "2021-07-17 16:26:59 (162 MB/s) - ‘cases-brazil-cities-time.csv.gz’ saved [90345933/90345933]\n",
            "\n"
          ],
          "name": "stdout"
        }
      ]
    },
    {
      "cell_type": "code",
      "metadata": {
        "id": "O0cvZDFOb3mL"
      },
      "source": [
        "! gunzip cases-brazil-cities-time.csv.gz"
      ],
      "execution_count": null,
      "outputs": []
    },
    {
      "cell_type": "code",
      "metadata": {
        "id": "GWy73yd4aadf"
      },
      "source": [
        "dados_brasil = pd.read_csv('cases-brazil-cities-time.csv')"
      ],
      "execution_count": null,
      "outputs": []
    },
    {
      "cell_type": "markdown",
      "metadata": {
        "id": "y4rLc7DmRTsb"
      },
      "source": [
        "- Dados censo"
      ]
    },
    {
      "cell_type": "code",
      "metadata": {
        "id": "IAfG_wH6RTxz"
      },
      "source": [
        "dados_censo = pd.read_csv('dados_municipios_2010.csv', sep = ';', decimal = ',', encoding = 'latin1')"
      ],
      "execution_count": null,
      "outputs": []
    },
    {
      "cell_type": "markdown",
      "metadata": {
        "id": "WltBdBdIYGHG"
      },
      "source": [
        "## Ajustar dados"
      ]
    },
    {
      "cell_type": "code",
      "metadata": {
        "id": "Q8pEkZrzT32V"
      },
      "source": [
        "max_date = max(dados_brasil['date'])"
      ],
      "execution_count": null,
      "outputs": []
    },
    {
      "cell_type": "code",
      "metadata": {
        "id": "SSyzaKD5T36E"
      },
      "source": [
        "dados_brasil = dados_brasil[(dados_brasil['date'] == max_date) & \\\n",
        "                            (dados_brasil['state'] != 'TOTAL')]"
      ],
      "execution_count": null,
      "outputs": []
    },
    {
      "cell_type": "code",
      "metadata": {
        "id": "rWTG9vnTgi0J"
      },
      "source": [
        "cols = ['ibgeID', 'date', 'state', 'city', 'totalCases', 'deaths']"
      ],
      "execution_count": null,
      "outputs": []
    },
    {
      "cell_type": "code",
      "metadata": {
        "id": "MMDDAVCNgi3q"
      },
      "source": [
        "dados_brasil = dados_brasil[cols].reset_index(drop=True)"
      ],
      "execution_count": null,
      "outputs": []
    },
    {
      "cell_type": "markdown",
      "metadata": {
        "id": "vr1mYB46gi7i"
      },
      "source": [
        "## Aqui começa o trabalho"
      ]
    },
    {
      "cell_type": "markdown",
      "metadata": {
        "id": "LJBHPsrTgjCt"
      },
      "source": [
        "## Questão 1"
      ]
    },
    {
      "cell_type": "code",
      "metadata": {
        "id": "R2LLERRWiLLK",
        "colab": {
          "base_uri": "https://localhost:8080/"
        },
        "outputId": "066913d3-ee18-4f50-9a1d-a7e306bdbeb0"
      },
      "source": [
        "dados_brasil.shape"
      ],
      "execution_count": null,
      "outputs": [
        {
          "output_type": "execute_result",
          "data": {
            "text/plain": [
              "(5596, 6)"
            ]
          },
          "metadata": {
            "tags": []
          },
          "execution_count": 12
        }
      ]
    },
    {
      "cell_type": "code",
      "metadata": {
        "colab": {
          "base_uri": "https://localhost:8080/"
        },
        "id": "C07eK__wS7SM",
        "outputId": "b170ed5a-9f0d-4568-da7a-414e6f74ea9d"
      },
      "source": [
        "dados_censo.shape"
      ],
      "execution_count": null,
      "outputs": [
        {
          "output_type": "execute_result",
          "data": {
            "text/plain": [
              "(5565, 7)"
            ]
          },
          "metadata": {
            "tags": []
          },
          "execution_count": 13
        }
      ]
    },
    {
      "cell_type": "markdown",
      "metadata": {
        "id": "tuAhV_7_S7XL"
      },
      "source": [
        "## Join dos dados"
      ]
    },
    {
      "cell_type": "markdown",
      "metadata": {
        "id": "MKSK0claWzqD"
      },
      "source": [
        "- join dos dados"
      ]
    },
    {
      "cell_type": "code",
      "metadata": {
        "id": "8K6KiEIsS7br"
      },
      "source": [
        "dados_brasil_covid = dados_brasil.merge(dados_censo, how = 'left', on = 'ibgeID')"
      ],
      "execution_count": null,
      "outputs": []
    },
    {
      "cell_type": "markdown",
      "metadata": {
        "id": "_9TEhCvZS7fV"
      },
      "source": [
        "- dados sem merge"
      ]
    },
    {
      "cell_type": "code",
      "metadata": {
        "id": "EnZtQGL0WyMj"
      },
      "source": [
        "dados_sem_merge = dados_brasil_covid[dados_brasil_covid.isnull().any(axis=1) == True]"
      ],
      "execution_count": null,
      "outputs": []
    },
    {
      "cell_type": "code",
      "metadata": {
        "colab": {
          "base_uri": "https://localhost:8080/",
          "height": 1000
        },
        "id": "Q7H1SNQkWyQF",
        "outputId": "288d7e8c-5a7a-456e-cdf1-44ddfcf6b345"
      },
      "source": [
        "dados_sem_merge[['ibgeID', 'state', 'city']].drop_duplicates()"
      ],
      "execution_count": null,
      "outputs": [
        {
          "output_type": "execute_result",
          "data": {
            "text/html": [
              "<div>\n",
              "<style scoped>\n",
              "    .dataframe tbody tr th:only-of-type {\n",
              "        vertical-align: middle;\n",
              "    }\n",
              "\n",
              "    .dataframe tbody tr th {\n",
              "        vertical-align: top;\n",
              "    }\n",
              "\n",
              "    .dataframe thead th {\n",
              "        text-align: right;\n",
              "    }\n",
              "</style>\n",
              "<table border=\"1\" class=\"dataframe\">\n",
              "  <thead>\n",
              "    <tr style=\"text-align: right;\">\n",
              "      <th></th>\n",
              "      <th>ibgeID</th>\n",
              "      <th>state</th>\n",
              "      <th>city</th>\n",
              "    </tr>\n",
              "  </thead>\n",
              "  <tbody>\n",
              "    <tr>\n",
              "      <th>434</th>\n",
              "      <td>4220000</td>\n",
              "      <td>SC</td>\n",
              "      <td>Balneário Rincão/SC</td>\n",
              "    </tr>\n",
              "    <tr>\n",
              "      <th>781</th>\n",
              "      <td>12</td>\n",
              "      <td>AC</td>\n",
              "      <td>CASO SEM LOCALIZAÇÃO DEFINIDA/AC</td>\n",
              "    </tr>\n",
              "    <tr>\n",
              "      <th>782</th>\n",
              "      <td>27</td>\n",
              "      <td>AL</td>\n",
              "      <td>CASO SEM LOCALIZAÇÃO DEFINIDA/AL</td>\n",
              "    </tr>\n",
              "    <tr>\n",
              "      <th>783</th>\n",
              "      <td>13</td>\n",
              "      <td>AM</td>\n",
              "      <td>CASO SEM LOCALIZAÇÃO DEFINIDA/AM</td>\n",
              "    </tr>\n",
              "    <tr>\n",
              "      <th>784</th>\n",
              "      <td>16</td>\n",
              "      <td>AP</td>\n",
              "      <td>CASO SEM LOCALIZAÇÃO DEFINIDA/AP</td>\n",
              "    </tr>\n",
              "    <tr>\n",
              "      <th>785</th>\n",
              "      <td>29</td>\n",
              "      <td>BA</td>\n",
              "      <td>CASO SEM LOCALIZAÇÃO DEFINIDA/BA</td>\n",
              "    </tr>\n",
              "    <tr>\n",
              "      <th>786</th>\n",
              "      <td>23</td>\n",
              "      <td>CE</td>\n",
              "      <td>CASO SEM LOCALIZAÇÃO DEFINIDA/CE</td>\n",
              "    </tr>\n",
              "    <tr>\n",
              "      <th>787</th>\n",
              "      <td>32</td>\n",
              "      <td>ES</td>\n",
              "      <td>CASO SEM LOCALIZAÇÃO DEFINIDA/ES</td>\n",
              "    </tr>\n",
              "    <tr>\n",
              "      <th>788</th>\n",
              "      <td>52</td>\n",
              "      <td>GO</td>\n",
              "      <td>CASO SEM LOCALIZAÇÃO DEFINIDA/GO</td>\n",
              "    </tr>\n",
              "    <tr>\n",
              "      <th>789</th>\n",
              "      <td>21</td>\n",
              "      <td>MA</td>\n",
              "      <td>CASO SEM LOCALIZAÇÃO DEFINIDA/MA</td>\n",
              "    </tr>\n",
              "    <tr>\n",
              "      <th>790</th>\n",
              "      <td>31</td>\n",
              "      <td>MG</td>\n",
              "      <td>CASO SEM LOCALIZAÇÃO DEFINIDA/MG</td>\n",
              "    </tr>\n",
              "    <tr>\n",
              "      <th>791</th>\n",
              "      <td>50</td>\n",
              "      <td>MS</td>\n",
              "      <td>CASO SEM LOCALIZAÇÃO DEFINIDA/MS</td>\n",
              "    </tr>\n",
              "    <tr>\n",
              "      <th>792</th>\n",
              "      <td>51</td>\n",
              "      <td>MT</td>\n",
              "      <td>CASO SEM LOCALIZAÇÃO DEFINIDA/MT</td>\n",
              "    </tr>\n",
              "    <tr>\n",
              "      <th>793</th>\n",
              "      <td>15</td>\n",
              "      <td>PA</td>\n",
              "      <td>CASO SEM LOCALIZAÇÃO DEFINIDA/PA</td>\n",
              "    </tr>\n",
              "    <tr>\n",
              "      <th>794</th>\n",
              "      <td>25</td>\n",
              "      <td>PB</td>\n",
              "      <td>CASO SEM LOCALIZAÇÃO DEFINIDA/PB</td>\n",
              "    </tr>\n",
              "    <tr>\n",
              "      <th>795</th>\n",
              "      <td>26</td>\n",
              "      <td>PE</td>\n",
              "      <td>CASO SEM LOCALIZAÇÃO DEFINIDA/PE</td>\n",
              "    </tr>\n",
              "    <tr>\n",
              "      <th>796</th>\n",
              "      <td>22</td>\n",
              "      <td>PI</td>\n",
              "      <td>CASO SEM LOCALIZAÇÃO DEFINIDA/PI</td>\n",
              "    </tr>\n",
              "    <tr>\n",
              "      <th>797</th>\n",
              "      <td>41</td>\n",
              "      <td>PR</td>\n",
              "      <td>CASO SEM LOCALIZAÇÃO DEFINIDA/PR</td>\n",
              "    </tr>\n",
              "    <tr>\n",
              "      <th>798</th>\n",
              "      <td>33</td>\n",
              "      <td>RJ</td>\n",
              "      <td>CASO SEM LOCALIZAÇÃO DEFINIDA/RJ</td>\n",
              "    </tr>\n",
              "    <tr>\n",
              "      <th>799</th>\n",
              "      <td>24</td>\n",
              "      <td>RN</td>\n",
              "      <td>CASO SEM LOCALIZAÇÃO DEFINIDA/RN</td>\n",
              "    </tr>\n",
              "    <tr>\n",
              "      <th>800</th>\n",
              "      <td>11</td>\n",
              "      <td>RO</td>\n",
              "      <td>CASO SEM LOCALIZAÇÃO DEFINIDA/RO</td>\n",
              "    </tr>\n",
              "    <tr>\n",
              "      <th>801</th>\n",
              "      <td>14</td>\n",
              "      <td>RR</td>\n",
              "      <td>CASO SEM LOCALIZAÇÃO DEFINIDA/RR</td>\n",
              "    </tr>\n",
              "    <tr>\n",
              "      <th>802</th>\n",
              "      <td>43</td>\n",
              "      <td>RS</td>\n",
              "      <td>CASO SEM LOCALIZAÇÃO DEFINIDA/RS</td>\n",
              "    </tr>\n",
              "    <tr>\n",
              "      <th>803</th>\n",
              "      <td>42</td>\n",
              "      <td>SC</td>\n",
              "      <td>CASO SEM LOCALIZAÇÃO DEFINIDA/SC</td>\n",
              "    </tr>\n",
              "    <tr>\n",
              "      <th>804</th>\n",
              "      <td>28</td>\n",
              "      <td>SE</td>\n",
              "      <td>CASO SEM LOCALIZAÇÃO DEFINIDA/SE</td>\n",
              "    </tr>\n",
              "    <tr>\n",
              "      <th>805</th>\n",
              "      <td>35</td>\n",
              "      <td>SP</td>\n",
              "      <td>CASO SEM LOCALIZAÇÃO DEFINIDA/SP</td>\n",
              "    </tr>\n",
              "    <tr>\n",
              "      <th>806</th>\n",
              "      <td>17</td>\n",
              "      <td>TO</td>\n",
              "      <td>CASO SEM LOCALIZAÇÃO DEFINIDA/TO</td>\n",
              "    </tr>\n",
              "    <tr>\n",
              "      <th>3101</th>\n",
              "      <td>1504752</td>\n",
              "      <td>PA</td>\n",
              "      <td>Mojuí dos Campos/PA</td>\n",
              "    </tr>\n",
              "    <tr>\n",
              "      <th>3587</th>\n",
              "      <td>5006275</td>\n",
              "      <td>MS</td>\n",
              "      <td>Paraíso das Águas/MS</td>\n",
              "    </tr>\n",
              "    <tr>\n",
              "      <th>3742</th>\n",
              "      <td>4212650</td>\n",
              "      <td>SC</td>\n",
              "      <td>Pescaria Brava/SC</td>\n",
              "    </tr>\n",
              "    <tr>\n",
              "      <th>3801</th>\n",
              "      <td>4314548</td>\n",
              "      <td>RS</td>\n",
              "      <td>Pinto Bandeira/RS</td>\n",
              "    </tr>\n",
              "  </tbody>\n",
              "</table>\n",
              "</div>"
            ],
            "text/plain": [
              "       ibgeID state                              city\n",
              "434   4220000    SC               Balneário Rincão/SC\n",
              "781        12    AC  CASO SEM LOCALIZAÇÃO DEFINIDA/AC\n",
              "782        27    AL  CASO SEM LOCALIZAÇÃO DEFINIDA/AL\n",
              "783        13    AM  CASO SEM LOCALIZAÇÃO DEFINIDA/AM\n",
              "784        16    AP  CASO SEM LOCALIZAÇÃO DEFINIDA/AP\n",
              "785        29    BA  CASO SEM LOCALIZAÇÃO DEFINIDA/BA\n",
              "786        23    CE  CASO SEM LOCALIZAÇÃO DEFINIDA/CE\n",
              "787        32    ES  CASO SEM LOCALIZAÇÃO DEFINIDA/ES\n",
              "788        52    GO  CASO SEM LOCALIZAÇÃO DEFINIDA/GO\n",
              "789        21    MA  CASO SEM LOCALIZAÇÃO DEFINIDA/MA\n",
              "790        31    MG  CASO SEM LOCALIZAÇÃO DEFINIDA/MG\n",
              "791        50    MS  CASO SEM LOCALIZAÇÃO DEFINIDA/MS\n",
              "792        51    MT  CASO SEM LOCALIZAÇÃO DEFINIDA/MT\n",
              "793        15    PA  CASO SEM LOCALIZAÇÃO DEFINIDA/PA\n",
              "794        25    PB  CASO SEM LOCALIZAÇÃO DEFINIDA/PB\n",
              "795        26    PE  CASO SEM LOCALIZAÇÃO DEFINIDA/PE\n",
              "796        22    PI  CASO SEM LOCALIZAÇÃO DEFINIDA/PI\n",
              "797        41    PR  CASO SEM LOCALIZAÇÃO DEFINIDA/PR\n",
              "798        33    RJ  CASO SEM LOCALIZAÇÃO DEFINIDA/RJ\n",
              "799        24    RN  CASO SEM LOCALIZAÇÃO DEFINIDA/RN\n",
              "800        11    RO  CASO SEM LOCALIZAÇÃO DEFINIDA/RO\n",
              "801        14    RR  CASO SEM LOCALIZAÇÃO DEFINIDA/RR\n",
              "802        43    RS  CASO SEM LOCALIZAÇÃO DEFINIDA/RS\n",
              "803        42    SC  CASO SEM LOCALIZAÇÃO DEFINIDA/SC\n",
              "804        28    SE  CASO SEM LOCALIZAÇÃO DEFINIDA/SE\n",
              "805        35    SP  CASO SEM LOCALIZAÇÃO DEFINIDA/SP\n",
              "806        17    TO  CASO SEM LOCALIZAÇÃO DEFINIDA/TO\n",
              "3101  1504752    PA               Mojuí dos Campos/PA\n",
              "3587  5006275    MS              Paraíso das Águas/MS\n",
              "3742  4212650    SC                 Pescaria Brava/SC\n",
              "3801  4314548    RS                 Pinto Bandeira/RS"
            ]
          },
          "metadata": {
            "tags": []
          },
          "execution_count": 27
        }
      ]
    },
    {
      "cell_type": "markdown",
      "metadata": {
        "id": "UXg-RJStYrNM"
      },
      "source": [
        "- dados sem missings"
      ]
    },
    {
      "cell_type": "code",
      "metadata": {
        "id": "0-L1X6qxWyUN"
      },
      "source": [
        "dados_brasil_covid_filtrados = dados_brasil_covid[~dados_brasil_covid.isnull().any(axis=1) == True].reset_index()"
      ],
      "execution_count": null,
      "outputs": []
    },
    {
      "cell_type": "markdown",
      "metadata": {
        "id": "pAzkzB7ViLQz"
      },
      "source": [
        "## Índice de Gini"
      ]
    },
    {
      "cell_type": "code",
      "metadata": {
        "id": "FTMWsSTQhZGz"
      },
      "source": [
        "def gini(array):\n",
        "    \"\"\"Calculate the Gini coefficient of a numpy array.\"\"\"\n",
        "    # based on bottom eq:\n",
        "    # http://www.statsdirect.com/help/generatedimages/equations/equation154.svg\n",
        "    # from:\n",
        "    # http://www.statsdirect.com/help/default.htm#nonparametric_methods/gini.htm\n",
        "    # All values are treated equally, arrays must be 1d:\n",
        "    array = array.flatten()\n",
        "    if np.amin(array) < 0:\n",
        "        # Values cannot be negative:\n",
        "        array -= np.amin(array)\n",
        "    # Values cannot be 0:\n",
        "    array += 0.0000001\n",
        "    # Values must be sorted:\n",
        "    array = np.sort(array)\n",
        "    # Index per array element:\n",
        "    index = np.arange(1,array.shape[0]+1)\n",
        "    # Number of array elements:\n",
        "    n = array.shape[0]\n",
        "    # Gini coefficient:\n",
        "    return ((np.sum((2 * index - n  - 1) * array)) / (n * np.sum(array)))"
      ],
      "execution_count": null,
      "outputs": []
    },
    {
      "cell_type": "code",
      "metadata": {
        "colab": {
          "base_uri": "https://localhost:8080/",
          "height": 881
        },
        "id": "PnZHm8tchZLL",
        "outputId": "0afc5e9d-ad49-41b5-8b8a-9b92639f10e8"
      },
      "source": [
        "dados_brasil_covid_filtrados.groupby('state')['RDPC'] \\\n",
        "                            .apply(lambda x: gini(x.values)) \\\n",
        "                            .to_frame('GINI') \\\n",
        "                            .reset_index() \\\n",
        "                            .sort_values('GINI')"
      ],
      "execution_count": null,
      "outputs": [
        {
          "output_type": "execute_result",
          "data": {
            "text/html": [
              "<div>\n",
              "<style scoped>\n",
              "    .dataframe tbody tr th:only-of-type {\n",
              "        vertical-align: middle;\n",
              "    }\n",
              "\n",
              "    .dataframe tbody tr th {\n",
              "        vertical-align: top;\n",
              "    }\n",
              "\n",
              "    .dataframe thead th {\n",
              "        text-align: right;\n",
              "    }\n",
              "</style>\n",
              "<table border=\"1\" class=\"dataframe\">\n",
              "  <thead>\n",
              "    <tr style=\"text-align: right;\">\n",
              "      <th></th>\n",
              "      <th>state</th>\n",
              "      <th>GINI</th>\n",
              "    </tr>\n",
              "  </thead>\n",
              "  <tbody>\n",
              "    <tr>\n",
              "      <th>6</th>\n",
              "      <td>DF</td>\n",
              "      <td>0.000000</td>\n",
              "    </tr>\n",
              "    <tr>\n",
              "      <th>20</th>\n",
              "      <td>RO</td>\n",
              "      <td>0.127922</td>\n",
              "    </tr>\n",
              "    <tr>\n",
              "      <th>17</th>\n",
              "      <td>PR</td>\n",
              "      <td>0.131235</td>\n",
              "    </tr>\n",
              "    <tr>\n",
              "      <th>5</th>\n",
              "      <td>CE</td>\n",
              "      <td>0.132551</td>\n",
              "    </tr>\n",
              "    <tr>\n",
              "      <th>14</th>\n",
              "      <td>PB</td>\n",
              "      <td>0.134084</td>\n",
              "    </tr>\n",
              "    <tr>\n",
              "      <th>11</th>\n",
              "      <td>MS</td>\n",
              "      <td>0.134532</td>\n",
              "    </tr>\n",
              "    <tr>\n",
              "      <th>23</th>\n",
              "      <td>SC</td>\n",
              "      <td>0.137464</td>\n",
              "    </tr>\n",
              "    <tr>\n",
              "      <th>8</th>\n",
              "      <td>GO</td>\n",
              "      <td>0.138104</td>\n",
              "    </tr>\n",
              "    <tr>\n",
              "      <th>24</th>\n",
              "      <td>SE</td>\n",
              "      <td>0.140378</td>\n",
              "    </tr>\n",
              "    <tr>\n",
              "      <th>25</th>\n",
              "      <td>SP</td>\n",
              "      <td>0.140590</td>\n",
              "    </tr>\n",
              "    <tr>\n",
              "      <th>1</th>\n",
              "      <td>AL</td>\n",
              "      <td>0.140823</td>\n",
              "    </tr>\n",
              "    <tr>\n",
              "      <th>19</th>\n",
              "      <td>RN</td>\n",
              "      <td>0.144012</td>\n",
              "    </tr>\n",
              "    <tr>\n",
              "      <th>18</th>\n",
              "      <td>RJ</td>\n",
              "      <td>0.146672</td>\n",
              "    </tr>\n",
              "    <tr>\n",
              "      <th>16</th>\n",
              "      <td>PI</td>\n",
              "      <td>0.149203</td>\n",
              "    </tr>\n",
              "    <tr>\n",
              "      <th>7</th>\n",
              "      <td>ES</td>\n",
              "      <td>0.153020</td>\n",
              "    </tr>\n",
              "    <tr>\n",
              "      <th>22</th>\n",
              "      <td>RS</td>\n",
              "      <td>0.153786</td>\n",
              "    </tr>\n",
              "    <tr>\n",
              "      <th>12</th>\n",
              "      <td>MT</td>\n",
              "      <td>0.154616</td>\n",
              "    </tr>\n",
              "    <tr>\n",
              "      <th>4</th>\n",
              "      <td>BA</td>\n",
              "      <td>0.160275</td>\n",
              "    </tr>\n",
              "    <tr>\n",
              "      <th>15</th>\n",
              "      <td>PE</td>\n",
              "      <td>0.169153</td>\n",
              "    </tr>\n",
              "    <tr>\n",
              "      <th>26</th>\n",
              "      <td>TO</td>\n",
              "      <td>0.173719</td>\n",
              "    </tr>\n",
              "    <tr>\n",
              "      <th>3</th>\n",
              "      <td>AP</td>\n",
              "      <td>0.177035</td>\n",
              "    </tr>\n",
              "    <tr>\n",
              "      <th>2</th>\n",
              "      <td>AM</td>\n",
              "      <td>0.180262</td>\n",
              "    </tr>\n",
              "    <tr>\n",
              "      <th>9</th>\n",
              "      <td>MA</td>\n",
              "      <td>0.187907</td>\n",
              "    </tr>\n",
              "    <tr>\n",
              "      <th>10</th>\n",
              "      <td>MG</td>\n",
              "      <td>0.192143</td>\n",
              "    </tr>\n",
              "    <tr>\n",
              "      <th>0</th>\n",
              "      <td>AC</td>\n",
              "      <td>0.195495</td>\n",
              "    </tr>\n",
              "    <tr>\n",
              "      <th>13</th>\n",
              "      <td>PA</td>\n",
              "      <td>0.208619</td>\n",
              "    </tr>\n",
              "    <tr>\n",
              "      <th>21</th>\n",
              "      <td>RR</td>\n",
              "      <td>0.241690</td>\n",
              "    </tr>\n",
              "  </tbody>\n",
              "</table>\n",
              "</div>"
            ],
            "text/plain": [
              "   state      GINI\n",
              "6     DF  0.000000\n",
              "20    RO  0.127922\n",
              "17    PR  0.131235\n",
              "5     CE  0.132551\n",
              "14    PB  0.134084\n",
              "11    MS  0.134532\n",
              "23    SC  0.137464\n",
              "8     GO  0.138104\n",
              "24    SE  0.140378\n",
              "25    SP  0.140590\n",
              "1     AL  0.140823\n",
              "19    RN  0.144012\n",
              "18    RJ  0.146672\n",
              "16    PI  0.149203\n",
              "7     ES  0.153020\n",
              "22    RS  0.153786\n",
              "12    MT  0.154616\n",
              "4     BA  0.160275\n",
              "15    PE  0.169153\n",
              "26    TO  0.173719\n",
              "3     AP  0.177035\n",
              "2     AM  0.180262\n",
              "9     MA  0.187907\n",
              "10    MG  0.192143\n",
              "0     AC  0.195495\n",
              "13    PA  0.208619\n",
              "21    RR  0.241690"
            ]
          },
          "metadata": {
            "tags": []
          },
          "execution_count": 37
        }
      ]
    },
    {
      "cell_type": "markdown",
      "metadata": {
        "id": "75_QdTTehZO8"
      },
      "source": [
        "## Medidas estatísitcas\n"
      ]
    },
    {
      "cell_type": "code",
      "metadata": {
        "colab": {
          "base_uri": "https://localhost:8080/"
        },
        "id": "mYhjxBI-hZSa",
        "outputId": "05c804b6-99aa-467a-928f-dc041277f974"
      },
      "source": [
        "dados_brasil_covid_filtrados.columns"
      ],
      "execution_count": null,
      "outputs": [
        {
          "output_type": "execute_result",
          "data": {
            "text/plain": [
              "Index(['index', 'ibgeID', 'date', 'state', 'city', 'totalCases', 'deaths',\n",
              "       'Municipio', 'ESPVIDA', 'E_ANOSESTUDO', 'T_ANALF18M', 'RDPC', 'IDHM'],\n",
              "      dtype='object')"
            ]
          },
          "metadata": {
            "tags": []
          },
          "execution_count": 38
        }
      ]
    },
    {
      "cell_type": "code",
      "metadata": {
        "colab": {
          "base_uri": "https://localhost:8080/",
          "height": 881
        },
        "id": "WczMHTM-YqJW",
        "outputId": "84283290-77df-4a00-d106-8650be4eb0a1"
      },
      "source": [
        "dados_brasil_covid_filtrados.groupby('state') \\\n",
        "                            .agg(CasosTotais = pd.NamedAgg('totalCases', 'sum'),\n",
        "                                 MortesTotais = pd.NamedAgg('deaths', 'sum'),\n",
        "                                 MediaESPVIDA = pd.NamedAgg('ESPVIDA', 'mean'),\n",
        "                                 MediaE_ANOSESTUDO = pd.NamedAgg('E_ANOSESTUDO', 'mean'),\n",
        "                                 MediaT_ANALF18M = pd.NamedAgg('T_ANALF18M', 'mean'),\n",
        "                                 Mediana_IDHM = pd.NamedAgg('IDHM', 'median'),\n",
        "                                 Mediana_RDPC = pd.NamedAgg('RDPC', 'median'),\n",
        "                                 DP_RDPC = pd.NamedAgg('RDPC', 'std')) \\\n",
        "                            .reset_index()"
      ],
      "execution_count": null,
      "outputs": [
        {
          "output_type": "execute_result",
          "data": {
            "text/html": [
              "<div>\n",
              "<style scoped>\n",
              "    .dataframe tbody tr th:only-of-type {\n",
              "        vertical-align: middle;\n",
              "    }\n",
              "\n",
              "    .dataframe tbody tr th {\n",
              "        vertical-align: top;\n",
              "    }\n",
              "\n",
              "    .dataframe thead th {\n",
              "        text-align: right;\n",
              "    }\n",
              "</style>\n",
              "<table border=\"1\" class=\"dataframe\">\n",
              "  <thead>\n",
              "    <tr style=\"text-align: right;\">\n",
              "      <th></th>\n",
              "      <th>state</th>\n",
              "      <th>CasosTotais</th>\n",
              "      <th>MortesTotais</th>\n",
              "      <th>MediaESPVIDA</th>\n",
              "      <th>MediaE_ANOSESTUDO</th>\n",
              "      <th>MediaT_ANALF18M</th>\n",
              "      <th>Mediana_IDHM</th>\n",
              "      <th>Mediana_RDPC</th>\n",
              "      <th>DP_RDPC</th>\n",
              "    </tr>\n",
              "  </thead>\n",
              "  <tbody>\n",
              "    <tr>\n",
              "      <th>0</th>\n",
              "      <td>AC</td>\n",
              "      <td>86644</td>\n",
              "      <td>1776</td>\n",
              "      <td>70.991818</td>\n",
              "      <td>7.752273</td>\n",
              "      <td>26.106818</td>\n",
              "      <td>0.5885</td>\n",
              "      <td>313.705</td>\n",
              "      <td>127.780499</td>\n",
              "    </tr>\n",
              "    <tr>\n",
              "      <th>1</th>\n",
              "      <td>AL</td>\n",
              "      <td>225064</td>\n",
              "      <td>5610</td>\n",
              "      <td>69.367843</td>\n",
              "      <td>8.896961</td>\n",
              "      <td>35.308529</td>\n",
              "      <td>0.5625</td>\n",
              "      <td>233.440</td>\n",
              "      <td>79.124345</td>\n",
              "    </tr>\n",
              "    <tr>\n",
              "      <th>2</th>\n",
              "      <td>AM</td>\n",
              "      <td>410367</td>\n",
              "      <td>13421</td>\n",
              "      <td>70.924677</td>\n",
              "      <td>7.451774</td>\n",
              "      <td>20.889194</td>\n",
              "      <td>0.5640</td>\n",
              "      <td>227.585</td>\n",
              "      <td>98.250134</td>\n",
              "    </tr>\n",
              "    <tr>\n",
              "      <th>3</th>\n",
              "      <td>AP</td>\n",
              "      <td>119540</td>\n",
              "      <td>1877</td>\n",
              "      <td>72.028125</td>\n",
              "      <td>9.035625</td>\n",
              "      <td>13.997500</td>\n",
              "      <td>0.6410</td>\n",
              "      <td>402.440</td>\n",
              "      <td>133.018963</td>\n",
              "    </tr>\n",
              "    <tr>\n",
              "      <th>4</th>\n",
              "      <td>BA</td>\n",
              "      <td>1157427</td>\n",
              "      <td>24835</td>\n",
              "      <td>70.570288</td>\n",
              "      <td>8.453453</td>\n",
              "      <td>25.816427</td>\n",
              "      <td>0.5890</td>\n",
              "      <td>272.860</td>\n",
              "      <td>101.927806</td>\n",
              "    </tr>\n",
              "    <tr>\n",
              "      <th>5</th>\n",
              "      <td>CE</td>\n",
              "      <td>896739</td>\n",
              "      <td>23192</td>\n",
              "      <td>70.674076</td>\n",
              "      <td>9.675054</td>\n",
              "      <td>29.604728</td>\n",
              "      <td>0.6120</td>\n",
              "      <td>256.840</td>\n",
              "      <td>76.335807</td>\n",
              "    </tr>\n",
              "    <tr>\n",
              "      <th>6</th>\n",
              "      <td>DF</td>\n",
              "      <td>440734</td>\n",
              "      <td>9455</td>\n",
              "      <td>77.350000</td>\n",
              "      <td>9.870000</td>\n",
              "      <td>3.660000</td>\n",
              "      <td>0.8240</td>\n",
              "      <td>1715.110</td>\n",
              "      <td>NaN</td>\n",
              "    </tr>\n",
              "    <tr>\n",
              "      <th>7</th>\n",
              "      <td>ES</td>\n",
              "      <td>528198</td>\n",
              "      <td>11493</td>\n",
              "      <td>74.536026</td>\n",
              "      <td>9.209231</td>\n",
              "      <td>13.271410</td>\n",
              "      <td>0.6835</td>\n",
              "      <td>533.375</td>\n",
              "      <td>203.473289</td>\n",
              "    </tr>\n",
              "    <tr>\n",
              "      <th>8</th>\n",
              "      <td>GO</td>\n",
              "      <td>708319</td>\n",
              "      <td>19994</td>\n",
              "      <td>74.522683</td>\n",
              "      <td>9.800813</td>\n",
              "      <td>13.726098</td>\n",
              "      <td>0.6970</td>\n",
              "      <td>573.815</td>\n",
              "      <td>148.262560</td>\n",
              "    </tr>\n",
              "    <tr>\n",
              "      <th>9</th>\n",
              "      <td>MA</td>\n",
              "      <td>329943</td>\n",
              "      <td>9417</td>\n",
              "      <td>69.431198</td>\n",
              "      <td>9.057972</td>\n",
              "      <td>29.225945</td>\n",
              "      <td>0.5720</td>\n",
              "      <td>217.650</td>\n",
              "      <td>90.115351</td>\n",
              "    </tr>\n",
              "    <tr>\n",
              "      <th>10</th>\n",
              "      <td>MG</td>\n",
              "      <td>1890002</td>\n",
              "      <td>48349</td>\n",
              "      <td>74.424771</td>\n",
              "      <td>9.092403</td>\n",
              "      <td>14.480703</td>\n",
              "      <td>0.6700</td>\n",
              "      <td>475.230</td>\n",
              "      <td>173.077762</td>\n",
              "    </tr>\n",
              "    <tr>\n",
              "      <th>11</th>\n",
              "      <td>MS</td>\n",
              "      <td>346471</td>\n",
              "      <td>8617</td>\n",
              "      <td>74.281795</td>\n",
              "      <td>9.659744</td>\n",
              "      <td>12.270000</td>\n",
              "      <td>0.6830</td>\n",
              "      <td>588.945</td>\n",
              "      <td>147.065926</td>\n",
              "    </tr>\n",
              "    <tr>\n",
              "      <th>12</th>\n",
              "      <td>MT</td>\n",
              "      <td>469491</td>\n",
              "      <td>12218</td>\n",
              "      <td>74.033688</td>\n",
              "      <td>8.944397</td>\n",
              "      <td>12.729645</td>\n",
              "      <td>0.6860</td>\n",
              "      <td>550.290</td>\n",
              "      <td>165.772991</td>\n",
              "    </tr>\n",
              "    <tr>\n",
              "      <th>13</th>\n",
              "      <td>PA</td>\n",
              "      <td>564009</td>\n",
              "      <td>15767</td>\n",
              "      <td>71.464965</td>\n",
              "      <td>8.009510</td>\n",
              "      <td>18.273986</td>\n",
              "      <td>0.5830</td>\n",
              "      <td>279.190</td>\n",
              "      <td>119.240295</td>\n",
              "    </tr>\n",
              "    <tr>\n",
              "      <th>14</th>\n",
              "      <td>PB</td>\n",
              "      <td>411997</td>\n",
              "      <td>8851</td>\n",
              "      <td>70.339148</td>\n",
              "      <td>9.036368</td>\n",
              "      <td>31.862511</td>\n",
              "      <td>0.5830</td>\n",
              "      <td>263.840</td>\n",
              "      <td>92.074926</td>\n",
              "    </tr>\n",
              "    <tr>\n",
              "      <th>15</th>\n",
              "      <td>PE</td>\n",
              "      <td>577115</td>\n",
              "      <td>18294</td>\n",
              "      <td>70.334216</td>\n",
              "      <td>8.967189</td>\n",
              "      <td>29.189459</td>\n",
              "      <td>0.5930</td>\n",
              "      <td>271.360</td>\n",
              "      <td>117.490310</td>\n",
              "    </tr>\n",
              "    <tr>\n",
              "      <th>16</th>\n",
              "      <td>PI</td>\n",
              "      <td>305007</td>\n",
              "      <td>6737</td>\n",
              "      <td>69.969420</td>\n",
              "      <td>8.742321</td>\n",
              "      <td>32.931250</td>\n",
              "      <td>0.5650</td>\n",
              "      <td>229.600</td>\n",
              "      <td>76.019439</td>\n",
              "    </tr>\n",
              "    <tr>\n",
              "      <th>17</th>\n",
              "      <td>PR</td>\n",
              "      <td>1333380</td>\n",
              "      <td>33317</td>\n",
              "      <td>74.224536</td>\n",
              "      <td>10.503283</td>\n",
              "      <td>11.142356</td>\n",
              "      <td>0.7060</td>\n",
              "      <td>592.270</td>\n",
              "      <td>150.286289</td>\n",
              "    </tr>\n",
              "    <tr>\n",
              "      <th>18</th>\n",
              "      <td>RJ</td>\n",
              "      <td>995266</td>\n",
              "      <td>57388</td>\n",
              "      <td>73.959348</td>\n",
              "      <td>8.955109</td>\n",
              "      <td>8.235543</td>\n",
              "      <td>0.7125</td>\n",
              "      <td>618.330</td>\n",
              "      <td>217.600292</td>\n",
              "    </tr>\n",
              "    <tr>\n",
              "      <th>19</th>\n",
              "      <td>RN</td>\n",
              "      <td>352895</td>\n",
              "      <td>6982</td>\n",
              "      <td>70.759521</td>\n",
              "      <td>9.317066</td>\n",
              "      <td>28.596886</td>\n",
              "      <td>0.6060</td>\n",
              "      <td>285.210</td>\n",
              "      <td>98.946556</td>\n",
              "    </tr>\n",
              "    <tr>\n",
              "      <th>20</th>\n",
              "      <td>RO</td>\n",
              "      <td>254264</td>\n",
              "      <td>6304</td>\n",
              "      <td>72.325385</td>\n",
              "      <td>9.202115</td>\n",
              "      <td>12.685385</td>\n",
              "      <td>0.6430</td>\n",
              "      <td>466.855</td>\n",
              "      <td>123.200293</td>\n",
              "    </tr>\n",
              "    <tr>\n",
              "      <th>21</th>\n",
              "      <td>RR</td>\n",
              "      <td>113928</td>\n",
              "      <td>1789</td>\n",
              "      <td>72.883333</td>\n",
              "      <td>7.700000</td>\n",
              "      <td>19.770667</td>\n",
              "      <td>0.6240</td>\n",
              "      <td>329.220</td>\n",
              "      <td>161.370173</td>\n",
              "    </tr>\n",
              "    <tr>\n",
              "      <th>22</th>\n",
              "      <td>RS</td>\n",
              "      <td>1266273</td>\n",
              "      <td>32574</td>\n",
              "      <td>75.420948</td>\n",
              "      <td>10.239859</td>\n",
              "      <td>7.150887</td>\n",
              "      <td>0.7170</td>\n",
              "      <td>714.125</td>\n",
              "      <td>207.996885</td>\n",
              "    </tr>\n",
              "    <tr>\n",
              "      <th>23</th>\n",
              "      <td>SC</td>\n",
              "      <td>1085503</td>\n",
              "      <td>17451</td>\n",
              "      <td>75.812116</td>\n",
              "      <td>10.296314</td>\n",
              "      <td>7.065631</td>\n",
              "      <td>0.7360</td>\n",
              "      <td>768.810</td>\n",
              "      <td>199.720910</td>\n",
              "    </tr>\n",
              "    <tr>\n",
              "      <th>24</th>\n",
              "      <td>SE</td>\n",
              "      <td>270472</td>\n",
              "      <td>5853</td>\n",
              "      <td>70.345733</td>\n",
              "      <td>8.817600</td>\n",
              "      <td>27.697867</td>\n",
              "      <td>0.5920</td>\n",
              "      <td>282.400</td>\n",
              "      <td>105.977056</td>\n",
              "    </tr>\n",
              "    <tr>\n",
              "      <th>25</th>\n",
              "      <td>SP</td>\n",
              "      <td>3918793</td>\n",
              "      <td>134320</td>\n",
              "      <td>75.153984</td>\n",
              "      <td>10.502357</td>\n",
              "      <td>8.100899</td>\n",
              "      <td>0.7380</td>\n",
              "      <td>686.890</td>\n",
              "      <td>197.398270</td>\n",
              "    </tr>\n",
              "    <tr>\n",
              "      <th>26</th>\n",
              "      <td>TO</td>\n",
              "      <td>204350</td>\n",
              "      <td>3386</td>\n",
              "      <td>72.381151</td>\n",
              "      <td>9.543669</td>\n",
              "      <td>19.695971</td>\n",
              "      <td>0.6390</td>\n",
              "      <td>347.030</td>\n",
              "      <td>132.179224</td>\n",
              "    </tr>\n",
              "  </tbody>\n",
              "</table>\n",
              "</div>"
            ],
            "text/plain": [
              "   state  CasosTotais  MortesTotais  ...  Mediana_IDHM  Mediana_RDPC     DP_RDPC\n",
              "0     AC        86644          1776  ...        0.5885       313.705  127.780499\n",
              "1     AL       225064          5610  ...        0.5625       233.440   79.124345\n",
              "2     AM       410367         13421  ...        0.5640       227.585   98.250134\n",
              "3     AP       119540          1877  ...        0.6410       402.440  133.018963\n",
              "4     BA      1157427         24835  ...        0.5890       272.860  101.927806\n",
              "5     CE       896739         23192  ...        0.6120       256.840   76.335807\n",
              "6     DF       440734          9455  ...        0.8240      1715.110         NaN\n",
              "7     ES       528198         11493  ...        0.6835       533.375  203.473289\n",
              "8     GO       708319         19994  ...        0.6970       573.815  148.262560\n",
              "9     MA       329943          9417  ...        0.5720       217.650   90.115351\n",
              "10    MG      1890002         48349  ...        0.6700       475.230  173.077762\n",
              "11    MS       346471          8617  ...        0.6830       588.945  147.065926\n",
              "12    MT       469491         12218  ...        0.6860       550.290  165.772991\n",
              "13    PA       564009         15767  ...        0.5830       279.190  119.240295\n",
              "14    PB       411997          8851  ...        0.5830       263.840   92.074926\n",
              "15    PE       577115         18294  ...        0.5930       271.360  117.490310\n",
              "16    PI       305007          6737  ...        0.5650       229.600   76.019439\n",
              "17    PR      1333380         33317  ...        0.7060       592.270  150.286289\n",
              "18    RJ       995266         57388  ...        0.7125       618.330  217.600292\n",
              "19    RN       352895          6982  ...        0.6060       285.210   98.946556\n",
              "20    RO       254264          6304  ...        0.6430       466.855  123.200293\n",
              "21    RR       113928          1789  ...        0.6240       329.220  161.370173\n",
              "22    RS      1266273         32574  ...        0.7170       714.125  207.996885\n",
              "23    SC      1085503         17451  ...        0.7360       768.810  199.720910\n",
              "24    SE       270472          5853  ...        0.5920       282.400  105.977056\n",
              "25    SP      3918793        134320  ...        0.7380       686.890  197.398270\n",
              "26    TO       204350          3386  ...        0.6390       347.030  132.179224\n",
              "\n",
              "[27 rows x 9 columns]"
            ]
          },
          "metadata": {
            "tags": []
          },
          "execution_count": 45
        }
      ]
    },
    {
      "cell_type": "code",
      "metadata": {
        "id": "FOS2Bm7DYqMb"
      },
      "source": [
        ""
      ],
      "execution_count": null,
      "outputs": []
    }
  ]
}