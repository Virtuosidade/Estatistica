{
  "nbformat": 4,
  "nbformat_minor": 0,
  "metadata": {
    "colab": {
      "name": "Analise_covid_br.ipynb",
      "provenance": [],
      "collapsed_sections": []
    },
    "kernelspec": {
      "name": "python3",
      "display_name": "Python 3"
    },
    "language_info": {
      "name": "python"
    }
  },
  "cells": [
    {
      "cell_type": "markdown",
      "metadata": {
        "id": "Ip-ln7NoTna0"
      },
      "source": [
        "# Análise Covid Brasil"
      ]
    },
    {
      "cell_type": "markdown",
      "metadata": {
        "id": "amL0aL-QT3X4"
      },
      "source": [
        "## Carregar módulos"
      ]
    },
    {
      "cell_type": "code",
      "metadata": {
        "id": "dy4tAdLXT3c3"
      },
      "source": [
        "import numpy as np\n",
        "import pandas as pd\n",
        "import random as rd\n",
        "import matplotlib.pyplot as plt\n",
        "import seaborn as sns"
      ],
      "execution_count": null,
      "outputs": []
    },
    {
      "cell_type": "markdown",
      "metadata": {
        "id": "-4a8IgMBT3gr"
      },
      "source": [
        "## Carregar dados"
      ]
    },
    {
      "cell_type": "markdown",
      "metadata": {
        "id": "VnfWrvXjQ-ZU"
      },
      "source": [
        "- Dados Covid Brasil"
      ]
    },
    {
      "cell_type": "code",
      "metadata": {
        "colab": {
          "base_uri": "https://localhost:8080/"
        },
        "id": "bfb7qKtta_8T",
        "outputId": "610bbaaf-e9a6-4501-8dff-5b9db68bf3d4"
      },
      "source": [
        "! wget --no-check-certificate --content-disposition 'https://github.com/wcota/covid19br/blob/master/cases-brazil-cities-time.csv.gz?raw=true'"
      ],
      "execution_count": null,
      "outputs": [
        {
          "output_type": "stream",
          "text": [
            "--2021-08-04 01:04:06--  https://github.com/wcota/covid19br/blob/master/cases-brazil-cities-time.csv.gz?raw=true\n",
            "Resolving github.com (github.com)... 140.82.112.4\n",
            "Connecting to github.com (github.com)|140.82.112.4|:443... connected.\n",
            "HTTP request sent, awaiting response... 302 Found\n",
            "Location: https://github.com/wcota/covid19br/raw/master/cases-brazil-cities-time.csv.gz [following]\n",
            "--2021-08-04 01:04:06--  https://github.com/wcota/covid19br/raw/master/cases-brazil-cities-time.csv.gz\n",
            "Reusing existing connection to github.com:443.\n",
            "HTTP request sent, awaiting response... 302 Found\n",
            "Location: https://raw.githubusercontent.com/wcota/covid19br/master/cases-brazil-cities-time.csv.gz [following]\n",
            "--2021-08-04 01:04:06--  https://raw.githubusercontent.com/wcota/covid19br/master/cases-brazil-cities-time.csv.gz\n",
            "Resolving raw.githubusercontent.com (raw.githubusercontent.com)... 185.199.108.133, 185.199.109.133, 185.199.110.133, ...\n",
            "Connecting to raw.githubusercontent.com (raw.githubusercontent.com)|185.199.108.133|:443... connected.\n",
            "HTTP request sent, awaiting response... 200 OK\n",
            "Length: 93457620 (89M) [application/octet-stream]\n",
            "Saving to: ‘cases-brazil-cities-time.csv.gz’\n",
            "\n",
            "cases-brazil-cities 100%[===================>]  89.13M   208MB/s    in 0.4s    \n",
            "\n",
            "2021-08-04 01:04:07 (208 MB/s) - ‘cases-brazil-cities-time.csv.gz’ saved [93457620/93457620]\n",
            "\n"
          ],
          "name": "stdout"
        }
      ]
    },
    {
      "cell_type": "code",
      "metadata": {
        "id": "O0cvZDFOb3mL"
      },
      "source": [
        "! gunzip cases-brazil-cities-time.csv.gz"
      ],
      "execution_count": null,
      "outputs": []
    },
    {
      "cell_type": "code",
      "metadata": {
        "id": "GWy73yd4aadf"
      },
      "source": [
        "dados_brasil = pd.read_csv('cases-brazil-cities-time.csv')"
      ],
      "execution_count": null,
      "outputs": []
    },
    {
      "cell_type": "markdown",
      "metadata": {
        "id": "y4rLc7DmRTsb"
      },
      "source": [
        "- Dados censo"
      ]
    },
    {
      "cell_type": "code",
      "metadata": {
        "id": "IAfG_wH6RTxz"
      },
      "source": [
        "dados_censo = pd.read_csv('dados_municipios_2010.csv', sep = ';', decimal = ',', encoding = 'latin1')"
      ],
      "execution_count": null,
      "outputs": []
    },
    {
      "cell_type": "markdown",
      "metadata": {
        "id": "WltBdBdIYGHG"
      },
      "source": [
        "## Ajustar dados"
      ]
    },
    {
      "cell_type": "code",
      "metadata": {
        "id": "Q8pEkZrzT32V"
      },
      "source": [
        "max_date = max(dados_brasil['date'])"
      ],
      "execution_count": null,
      "outputs": []
    },
    {
      "cell_type": "code",
      "metadata": {
        "id": "SSyzaKD5T36E"
      },
      "source": [
        "dados_brasil = dados_brasil[(dados_brasil['date'] == max_date) & \\\n",
        "                            (dados_brasil['state'] != 'TOTAL')]"
      ],
      "execution_count": null,
      "outputs": []
    },
    {
      "cell_type": "code",
      "metadata": {
        "id": "rWTG9vnTgi0J"
      },
      "source": [
        "cols = ['ibgeID', 'date', 'state', 'city', 'totalCases', 'deaths']"
      ],
      "execution_count": null,
      "outputs": []
    },
    {
      "cell_type": "code",
      "metadata": {
        "id": "MMDDAVCNgi3q"
      },
      "source": [
        "dados_brasil = dados_brasil[cols].reset_index(drop=True)"
      ],
      "execution_count": null,
      "outputs": []
    },
    {
      "cell_type": "markdown",
      "metadata": {
        "id": "vr1mYB46gi7i"
      },
      "source": [
        "## Aqui começa as análises"
      ]
    },
    {
      "cell_type": "markdown",
      "metadata": {
        "id": "LJBHPsrTgjCt"
      },
      "source": [
        "## Join das tabelas"
      ]
    },
    {
      "cell_type": "code",
      "metadata": {
        "id": "cd8Z1xypsTP3"
      },
      "source": [
        "dados_brasil_covid = dados_brasil.merge(dados_censo, \n",
        "                                        how = 'left', \n",
        "                                        on = 'ibgeID')"
      ],
      "execution_count": null,
      "outputs": []
    },
    {
      "cell_type": "code",
      "metadata": {
        "id": "u_5Ze3fssTTo"
      },
      "source": [
        "dados_brasil_covid = dados_brasil_covid[~dados_brasil_covid.isnull().any(axis=1) == True].reset_index()"
      ],
      "execution_count": null,
      "outputs": []
    },
    {
      "cell_type": "markdown",
      "metadata": {
        "id": "N_NDjVWqsTXX"
      },
      "source": [
        "## Amostra piloto BR"
      ]
    },
    {
      "cell_type": "markdown",
      "metadata": {
        "id": "R2LLERRWiLLK"
      },
      "source": [
        "- obter métricas amostra piloto"
      ]
    },
    {
      "cell_type": "code",
      "metadata": {
        "id": "_Of6_17GtSoC"
      },
      "source": [
        "dados_piloto = dados_brasil_covid.agg(media_RDPC = pd.NamedAgg('RDPC', 'mean'),\n",
        "                                      dp_RDPC = pd.NamedAgg('RDPC', 'std'),\n",
        "                                      N = pd.NamedAgg('RDPC', 'count'))"
      ],
      "execution_count": null,
      "outputs": []
    },
    {
      "cell_type": "code",
      "metadata": {
        "colab": {
          "base_uri": "https://localhost:8080/",
          "height": 143
        },
        "id": "ypRWZFeEtSsY",
        "outputId": "b1957d28-d101-4dbc-9989-a2f0e007e744"
      },
      "source": [
        "dados_piloto"
      ],
      "execution_count": null,
      "outputs": [
        {
          "output_type": "execute_result",
          "data": {
            "text/html": [
              "<div>\n",
              "<style scoped>\n",
              "    .dataframe tbody tr th:only-of-type {\n",
              "        vertical-align: middle;\n",
              "    }\n",
              "\n",
              "    .dataframe tbody tr th {\n",
              "        vertical-align: top;\n",
              "    }\n",
              "\n",
              "    .dataframe thead th {\n",
              "        text-align: right;\n",
              "    }\n",
              "</style>\n",
              "<table border=\"1\" class=\"dataframe\">\n",
              "  <thead>\n",
              "    <tr style=\"text-align: right;\">\n",
              "      <th></th>\n",
              "      <th>RDPC</th>\n",
              "    </tr>\n",
              "  </thead>\n",
              "  <tbody>\n",
              "    <tr>\n",
              "      <th>media_RDPC</th>\n",
              "      <td>493.605617</td>\n",
              "    </tr>\n",
              "    <tr>\n",
              "      <th>dp_RDPC</th>\n",
              "      <td>243.269333</td>\n",
              "    </tr>\n",
              "    <tr>\n",
              "      <th>N</th>\n",
              "      <td>5565.000000</td>\n",
              "    </tr>\n",
              "  </tbody>\n",
              "</table>\n",
              "</div>"
            ],
            "text/plain": [
              "                   RDPC\n",
              "media_RDPC   493.605617\n",
              "dp_RDPC      243.269333\n",
              "N           5565.000000"
            ]
          },
          "metadata": {
            "tags": []
          },
          "execution_count": 16
        }
      ]
    },
    {
      "cell_type": "markdown",
      "metadata": {
        "id": "Jr17jLipyCUM"
      },
      "source": [
        "- obter amostra"
      ]
    },
    {
      "cell_type": "code",
      "metadata": {
        "id": "Y---VjXVtSwg"
      },
      "source": [
        "def formula_amostra_continua(N, S, Z, ME):\n",
        "  n = (Z**2 * S**2 * N) / ((ME**2 * (N-1)) + (Z**2 * S**2))\n",
        "  return int(n)"
      ],
      "execution_count": null,
      "outputs": []
    },
    {
      "cell_type": "code",
      "metadata": {
        "id": "bkMuuBr8tS0W"
      },
      "source": [
        "N = 5565\n",
        "Z = 1.96\n",
        "S = 243.30\n",
        "ME = 20"
      ],
      "execution_count": null,
      "outputs": []
    },
    {
      "cell_type": "code",
      "metadata": {
        "id": "pAzkzB7ViLQz",
        "colab": {
          "base_uri": "https://localhost:8080/"
        },
        "outputId": "ab2c2e65-e886-4a1a-b267-0edf97883ede"
      },
      "source": [
        "n_br = formula_amostra_continua(N, S, Z, ME)\n",
        "n_br"
      ],
      "execution_count": null,
      "outputs": [
        {
          "output_type": "execute_result",
          "data": {
            "text/plain": [
              "515"
            ]
          },
          "metadata": {
            "tags": []
          },
          "execution_count": 38
        }
      ]
    },
    {
      "cell_type": "markdown",
      "metadata": {
        "id": "oCMjXjbFvKww"
      },
      "source": [
        "## Amostra Piloto SP"
      ]
    },
    {
      "cell_type": "code",
      "metadata": {
        "id": "NlbXqheIwCLM"
      },
      "source": [
        "uf = 'SP'"
      ],
      "execution_count": null,
      "outputs": []
    },
    {
      "cell_type": "code",
      "metadata": {
        "id": "0eynlQCswCPw"
      },
      "source": [
        "dados_municipio = dados_brasil_covid[dados_brasil_covid['state'] == uf].reset_index()"
      ],
      "execution_count": null,
      "outputs": []
    },
    {
      "cell_type": "code",
      "metadata": {
        "colab": {
          "base_uri": "https://localhost:8080/"
        },
        "id": "pGcV7VqQwCUJ",
        "outputId": "4c8c0311-c196-4db0-c2f0-9d563e5139f8"
      },
      "source": [
        "dados_municipio.shape"
      ],
      "execution_count": null,
      "outputs": [
        {
          "output_type": "execute_result",
          "data": {
            "text/plain": [
              "(645, 14)"
            ]
          },
          "metadata": {
            "tags": []
          },
          "execution_count": 41
        }
      ]
    },
    {
      "cell_type": "markdown",
      "metadata": {
        "id": "qfch7K4UyGOf"
      },
      "source": [
        "- métricas na amostra piloto"
      ]
    },
    {
      "cell_type": "code",
      "metadata": {
        "id": "sjvWL1n8wCcC"
      },
      "source": [
        "dados_piloto_sp = dados_municipio.agg(media_RDPC = pd.NamedAgg('RDPC', 'mean'),\n",
        "                                      dp_RDPC = pd.NamedAgg('RDPC', 'std'),\n",
        "                                      N = pd.NamedAgg('RDPC', 'count'))"
      ],
      "execution_count": null,
      "outputs": []
    },
    {
      "cell_type": "code",
      "metadata": {
        "colab": {
          "base_uri": "https://localhost:8080/",
          "height": 143
        },
        "id": "f4y_zqTMwmDo",
        "outputId": "9095edfa-f579-49d0-ed41-8dd76e1ade97"
      },
      "source": [
        "dados_piloto_sp"
      ],
      "execution_count": null,
      "outputs": [
        {
          "output_type": "execute_result",
          "data": {
            "text/html": [
              "<div>\n",
              "<style scoped>\n",
              "    .dataframe tbody tr th:only-of-type {\n",
              "        vertical-align: middle;\n",
              "    }\n",
              "\n",
              "    .dataframe tbody tr th {\n",
              "        vertical-align: top;\n",
              "    }\n",
              "\n",
              "    .dataframe thead th {\n",
              "        text-align: right;\n",
              "    }\n",
              "</style>\n",
              "<table border=\"1\" class=\"dataframe\">\n",
              "  <thead>\n",
              "    <tr style=\"text-align: right;\">\n",
              "      <th></th>\n",
              "      <th>RDPC</th>\n",
              "    </tr>\n",
              "  </thead>\n",
              "  <tbody>\n",
              "    <tr>\n",
              "      <th>media_RDPC</th>\n",
              "      <td>713.926155</td>\n",
              "    </tr>\n",
              "    <tr>\n",
              "      <th>dp_RDPC</th>\n",
              "      <td>197.398270</td>\n",
              "    </tr>\n",
              "    <tr>\n",
              "      <th>N</th>\n",
              "      <td>645.000000</td>\n",
              "    </tr>\n",
              "  </tbody>\n",
              "</table>\n",
              "</div>"
            ],
            "text/plain": [
              "                  RDPC\n",
              "media_RDPC  713.926155\n",
              "dp_RDPC     197.398270\n",
              "N           645.000000"
            ]
          },
          "metadata": {
            "tags": []
          },
          "execution_count": 43
        }
      ]
    },
    {
      "cell_type": "markdown",
      "metadata": {
        "id": "yUFSWEs-yP__"
      },
      "source": [
        "- Obter amostra"
      ]
    },
    {
      "cell_type": "code",
      "metadata": {
        "id": "Vr8kSuq4wmID"
      },
      "source": [
        "N = 645\n",
        "Z = 1.96\n",
        "S = 197.40\n",
        "ME = 20"
      ],
      "execution_count": null,
      "outputs": []
    },
    {
      "cell_type": "code",
      "metadata": {
        "colab": {
          "base_uri": "https://localhost:8080/"
        },
        "id": "PMyBYQBfwmMH",
        "outputId": "90368ce9-dcc1-4788-f264-f293f5aa41ee"
      },
      "source": [
        "n_sp = formula_amostra_continua(N, S, Z, ME)\n",
        "n_sp"
      ],
      "execution_count": null,
      "outputs": [
        {
          "output_type": "execute_result",
          "data": {
            "text/plain": [
              "237"
            ]
          },
          "metadata": {
            "tags": []
          },
          "execution_count": 45
        }
      ]
    },
    {
      "cell_type": "markdown",
      "metadata": {
        "id": "rLCODtmawmQQ"
      },
      "source": [
        "## Amostras Brasil e SP"
      ]
    },
    {
      "cell_type": "markdown",
      "metadata": {
        "id": "n7PtVpCI2Ygn"
      },
      "source": [
        "- amostra Brasil"
      ]
    },
    {
      "cell_type": "code",
      "metadata": {
        "id": "UtQVNMWhxYjR"
      },
      "source": [
        "dados_amostra_br = dados_brasil_covid.sample(n=n_br, random_state=1245)"
      ],
      "execution_count": null,
      "outputs": []
    },
    {
      "cell_type": "code",
      "metadata": {
        "colab": {
          "base_uri": "https://localhost:8080/"
        },
        "id": "lZFzVsaS2orv",
        "outputId": "3b1777c5-65e6-4e43-de67-bffc06837f58"
      },
      "source": [
        "dados_amostra_br.shape"
      ],
      "execution_count": null,
      "outputs": [
        {
          "output_type": "execute_result",
          "data": {
            "text/plain": [
              "(515, 13)"
            ]
          },
          "metadata": {
            "tags": []
          },
          "execution_count": 48
        }
      ]
    },
    {
      "cell_type": "markdown",
      "metadata": {
        "id": "5P1oZWJh2pqn"
      },
      "source": [
        "- amostra SP"
      ]
    },
    {
      "cell_type": "code",
      "metadata": {
        "id": "8aWYbZ6txYoQ"
      },
      "source": [
        "dados_amostra_sp = dados_municipio.sample(n=n_sp, random_state=1245)"
      ],
      "execution_count": null,
      "outputs": []
    },
    {
      "cell_type": "code",
      "metadata": {
        "colab": {
          "base_uri": "https://localhost:8080/"
        },
        "id": "UO95LbLqxYsa",
        "outputId": "7a19e8af-a771-4269-de17-4fdf13542f8b"
      },
      "source": [
        "dados_amostra_sp.shape"
      ],
      "execution_count": null,
      "outputs": [
        {
          "output_type": "execute_result",
          "data": {
            "text/plain": [
              "(237, 14)"
            ]
          },
          "metadata": {
            "tags": []
          },
          "execution_count": 49
        }
      ]
    },
    {
      "cell_type": "markdown",
      "metadata": {
        "id": "GjtoOKPsxYwg"
      },
      "source": [
        "## Análises descritivas Brasil e SP"
      ]
    },
    {
      "cell_type": "markdown",
      "metadata": {
        "id": "5CsTzojU2vWm"
      },
      "source": [
        "Medidas descritivas Brasil"
      ]
    },
    {
      "cell_type": "code",
      "metadata": {
        "id": "bvRYMZEK2vbq"
      },
      "source": [
        "dados_resumo_br = dados_amostra_br.agg(media_infectados = pd.NamedAgg('totalCases', 'mean'),\n",
        "                                       dp_infectados = pd.NamedAgg('totalCases', 'std')) \\\n",
        "                                  .reset_index()"
      ],
      "execution_count": null,
      "outputs": []
    },
    {
      "cell_type": "code",
      "metadata": {
        "id": "VoSS0_TQ3_WO"
      },
      "source": [
        "percentis = dados_amostra_br['totalCases'].quantile([0.25, 0.5, 0.75]) \\\n",
        "                                          .to_frame() \\\n",
        "                                          .reset_index()"
      ],
      "execution_count": null,
      "outputs": []
    },
    {
      "cell_type": "code",
      "metadata": {
        "id": "ALakBnss2vfm"
      },
      "source": [
        "dados_resumo_br = dados_resumo_br.append(percentis) \\\n",
        "                                 .rename(columns={'index': 'metricas'}) \\\n",
        "                                 .reset_index(drop=True)"
      ],
      "execution_count": null,
      "outputs": []
    },
    {
      "cell_type": "code",
      "metadata": {
        "colab": {
          "base_uri": "https://localhost:8080/",
          "height": 205
        },
        "id": "cj1gpMpY2vjv",
        "outputId": "4c460baa-4cd3-4546-e1a1-4fe927350bdd"
      },
      "source": [
        "dados_resumo_br"
      ],
      "execution_count": null,
      "outputs": [
        {
          "output_type": "execute_result",
          "data": {
            "text/html": [
              "<div>\n",
              "<style scoped>\n",
              "    .dataframe tbody tr th:only-of-type {\n",
              "        vertical-align: middle;\n",
              "    }\n",
              "\n",
              "    .dataframe tbody tr th {\n",
              "        vertical-align: top;\n",
              "    }\n",
              "\n",
              "    .dataframe thead th {\n",
              "        text-align: right;\n",
              "    }\n",
              "</style>\n",
              "<table border=\"1\" class=\"dataframe\">\n",
              "  <thead>\n",
              "    <tr style=\"text-align: right;\">\n",
              "      <th></th>\n",
              "      <th>metricas</th>\n",
              "      <th>totalCases</th>\n",
              "    </tr>\n",
              "  </thead>\n",
              "  <tbody>\n",
              "    <tr>\n",
              "      <th>0</th>\n",
              "      <td>media_infectados</td>\n",
              "      <td>4276.491262</td>\n",
              "    </tr>\n",
              "    <tr>\n",
              "      <th>1</th>\n",
              "      <td>dp_infectados</td>\n",
              "      <td>22212.536944</td>\n",
              "    </tr>\n",
              "    <tr>\n",
              "      <th>2</th>\n",
              "      <td>0.25</td>\n",
              "      <td>411.000000</td>\n",
              "    </tr>\n",
              "    <tr>\n",
              "      <th>3</th>\n",
              "      <td>0.5</td>\n",
              "      <td>965.000000</td>\n",
              "    </tr>\n",
              "    <tr>\n",
              "      <th>4</th>\n",
              "      <td>0.75</td>\n",
              "      <td>2225.500000</td>\n",
              "    </tr>\n",
              "  </tbody>\n",
              "</table>\n",
              "</div>"
            ],
            "text/plain": [
              "           metricas    totalCases\n",
              "0  media_infectados   4276.491262\n",
              "1     dp_infectados  22212.536944\n",
              "2              0.25    411.000000\n",
              "3               0.5    965.000000\n",
              "4              0.75   2225.500000"
            ]
          },
          "metadata": {
            "tags": []
          },
          "execution_count": 63
        }
      ]
    },
    {
      "cell_type": "markdown",
      "metadata": {
        "id": "YOUwzQ3X2voW"
      },
      "source": [
        "Medidas descritivas SP"
      ]
    },
    {
      "cell_type": "code",
      "metadata": {
        "id": "9INTel5t4pn5"
      },
      "source": [
        "dados_resumo_sp = dados_amostra_sp.agg(media_infectados = pd.NamedAgg('totalCases', 'mean'),\n",
        "                                       dp_infectados = pd.NamedAgg('totalCases', 'std')) \\\n",
        "                                  .reset_index()"
      ],
      "execution_count": null,
      "outputs": []
    },
    {
      "cell_type": "code",
      "metadata": {
        "id": "jHrB6y024psn"
      },
      "source": [
        "percentis = dados_amostra_sp['totalCases'].quantile([0.25, 0.5, 0.75]) \\\n",
        "                                          .to_frame() \\\n",
        "                                          .reset_index()"
      ],
      "execution_count": null,
      "outputs": []
    },
    {
      "cell_type": "code",
      "metadata": {
        "id": "qG9Frh8-4pwv"
      },
      "source": [
        "dados_resumo_sp = dados_resumo_sp.append(percentis) \\\n",
        "                                 .rename(columns={'index': 'metricas'}) \\\n",
        "                                 .reset_index(drop=True)"
      ],
      "execution_count": null,
      "outputs": []
    },
    {
      "cell_type": "code",
      "metadata": {
        "colab": {
          "base_uri": "https://localhost:8080/",
          "height": 205
        },
        "id": "3594cHmh4p0t",
        "outputId": "8c4d9f36-8b2f-4cd0-cc81-dce37b63d4e4"
      },
      "source": [
        "dados_resumo_sp"
      ],
      "execution_count": null,
      "outputs": [
        {
          "output_type": "execute_result",
          "data": {
            "text/html": [
              "<div>\n",
              "<style scoped>\n",
              "    .dataframe tbody tr th:only-of-type {\n",
              "        vertical-align: middle;\n",
              "    }\n",
              "\n",
              "    .dataframe tbody tr th {\n",
              "        vertical-align: top;\n",
              "    }\n",
              "\n",
              "    .dataframe thead th {\n",
              "        text-align: right;\n",
              "    }\n",
              "</style>\n",
              "<table border=\"1\" class=\"dataframe\">\n",
              "  <thead>\n",
              "    <tr style=\"text-align: right;\">\n",
              "      <th></th>\n",
              "      <th>metricas</th>\n",
              "      <th>totalCases</th>\n",
              "    </tr>\n",
              "  </thead>\n",
              "  <tbody>\n",
              "    <tr>\n",
              "      <th>0</th>\n",
              "      <td>media_infectados</td>\n",
              "      <td>4408.877637</td>\n",
              "    </tr>\n",
              "    <tr>\n",
              "      <th>1</th>\n",
              "      <td>dp_infectados</td>\n",
              "      <td>9573.052361</td>\n",
              "    </tr>\n",
              "    <tr>\n",
              "      <th>2</th>\n",
              "      <td>0.25</td>\n",
              "      <td>476.000000</td>\n",
              "    </tr>\n",
              "    <tr>\n",
              "      <th>3</th>\n",
              "      <td>0.5</td>\n",
              "      <td>1283.000000</td>\n",
              "    </tr>\n",
              "    <tr>\n",
              "      <th>4</th>\n",
              "      <td>0.75</td>\n",
              "      <td>4433.000000</td>\n",
              "    </tr>\n",
              "  </tbody>\n",
              "</table>\n",
              "</div>"
            ],
            "text/plain": [
              "           metricas   totalCases\n",
              "0  media_infectados  4408.877637\n",
              "1     dp_infectados  9573.052361\n",
              "2              0.25   476.000000\n",
              "3               0.5  1283.000000\n",
              "4              0.75  4433.000000"
            ]
          },
          "metadata": {
            "tags": []
          },
          "execution_count": 68
        }
      ]
    },
    {
      "cell_type": "markdown",
      "metadata": {
        "id": "WXQe0F684p5R"
      },
      "source": [
        "Medidas descritivas BR - mortes"
      ]
    },
    {
      "cell_type": "code",
      "metadata": {
        "id": "3mPNkXpK5L7A"
      },
      "source": [
        "dados_resumo_br = dados_amostra_br.agg(media_mortes = pd.NamedAgg('deaths', 'mean'),\n",
        "                                       dp_mortes = pd.NamedAgg('deaths', 'std')) \\\n",
        "                                  .reset_index()"
      ],
      "execution_count": null,
      "outputs": []
    },
    {
      "cell_type": "code",
      "metadata": {
        "id": "Fk714V4U5MAP"
      },
      "source": [
        "percentis = dados_amostra_br['deaths'].quantile([0.25, 0.5, 0.75]) \\\n",
        "                                      .to_frame() \\\n",
        "                                      .reset_index()"
      ],
      "execution_count": null,
      "outputs": []
    },
    {
      "cell_type": "code",
      "metadata": {
        "id": "q-eANZPX5MEm"
      },
      "source": [
        "dados_resumo_br = dados_resumo_br.append(percentis) \\\n",
        "                                 .rename(columns={'index': 'metricas'}) \\\n",
        "                                 .reset_index(drop=True)"
      ],
      "execution_count": null,
      "outputs": []
    },
    {
      "cell_type": "code",
      "metadata": {
        "colab": {
          "base_uri": "https://localhost:8080/",
          "height": 205
        },
        "id": "1El7vScU5MIv",
        "outputId": "536f045f-affe-457c-d303-fd4472481a1f"
      },
      "source": [
        "dados_resumo_br"
      ],
      "execution_count": null,
      "outputs": [
        {
          "output_type": "execute_result",
          "data": {
            "text/html": [
              "<div>\n",
              "<style scoped>\n",
              "    .dataframe tbody tr th:only-of-type {\n",
              "        vertical-align: middle;\n",
              "    }\n",
              "\n",
              "    .dataframe tbody tr th {\n",
              "        vertical-align: top;\n",
              "    }\n",
              "\n",
              "    .dataframe thead th {\n",
              "        text-align: right;\n",
              "    }\n",
              "</style>\n",
              "<table border=\"1\" class=\"dataframe\">\n",
              "  <thead>\n",
              "    <tr style=\"text-align: right;\">\n",
              "      <th></th>\n",
              "      <th>metricas</th>\n",
              "      <th>deaths</th>\n",
              "    </tr>\n",
              "  </thead>\n",
              "  <tbody>\n",
              "    <tr>\n",
              "      <th>0</th>\n",
              "      <td>media_mortes</td>\n",
              "      <td>107.236893</td>\n",
              "    </tr>\n",
              "    <tr>\n",
              "      <th>1</th>\n",
              "      <td>dp_mortes</td>\n",
              "      <td>516.850623</td>\n",
              "    </tr>\n",
              "    <tr>\n",
              "      <th>2</th>\n",
              "      <td>0.25</td>\n",
              "      <td>9.000000</td>\n",
              "    </tr>\n",
              "    <tr>\n",
              "      <th>3</th>\n",
              "      <td>0.5</td>\n",
              "      <td>19.000000</td>\n",
              "    </tr>\n",
              "    <tr>\n",
              "      <th>4</th>\n",
              "      <td>0.75</td>\n",
              "      <td>48.000000</td>\n",
              "    </tr>\n",
              "  </tbody>\n",
              "</table>\n",
              "</div>"
            ],
            "text/plain": [
              "       metricas      deaths\n",
              "0  media_mortes  107.236893\n",
              "1     dp_mortes  516.850623\n",
              "2          0.25    9.000000\n",
              "3           0.5   19.000000\n",
              "4          0.75   48.000000"
            ]
          },
          "metadata": {
            "tags": []
          },
          "execution_count": 78
        }
      ]
    },
    {
      "cell_type": "markdown",
      "metadata": {
        "id": "vi6fKRlq5MMe"
      },
      "source": [
        "Medidas descritivas SP - mortes"
      ]
    },
    {
      "cell_type": "code",
      "metadata": {
        "id": "ioO2m5ky6Etw"
      },
      "source": [
        "dados_resumo_sp = dados_amostra_sp.agg(media_mortes = pd.NamedAgg('deaths', 'mean'),\n",
        "                                       dp_mortes = pd.NamedAgg('deaths', 'std')) \\\n",
        "                                  .reset_index()"
      ],
      "execution_count": null,
      "outputs": []
    },
    {
      "cell_type": "code",
      "metadata": {
        "id": "WKWbPGf96Eyf"
      },
      "source": [
        "percentis = dados_amostra_sp['deaths'].quantile([0.25, 0.5, 0.75]) \\\n",
        "                                      .to_frame() \\\n",
        "                                      .reset_index()"
      ],
      "execution_count": null,
      "outputs": []
    },
    {
      "cell_type": "code",
      "metadata": {
        "id": "zCtY2Dv16E2m"
      },
      "source": [
        "dados_resumo_sp = dados_resumo_sp.append(percentis) \\\n",
        "                                 .rename(columns={'index': 'metricas'}) \\\n",
        "                                 .reset_index(drop=True)"
      ],
      "execution_count": null,
      "outputs": []
    },
    {
      "cell_type": "code",
      "metadata": {
        "colab": {
          "base_uri": "https://localhost:8080/",
          "height": 205
        },
        "id": "adjTGGkw6E7J",
        "outputId": "7d6a5bbd-c6a4-4587-ed30-50c3393380b9"
      },
      "source": [
        "dados_resumo_sp"
      ],
      "execution_count": null,
      "outputs": [
        {
          "output_type": "execute_result",
          "data": {
            "text/html": [
              "<div>\n",
              "<style scoped>\n",
              "    .dataframe tbody tr th:only-of-type {\n",
              "        vertical-align: middle;\n",
              "    }\n",
              "\n",
              "    .dataframe tbody tr th {\n",
              "        vertical-align: top;\n",
              "    }\n",
              "\n",
              "    .dataframe thead th {\n",
              "        text-align: right;\n",
              "    }\n",
              "</style>\n",
              "<table border=\"1\" class=\"dataframe\">\n",
              "  <thead>\n",
              "    <tr style=\"text-align: right;\">\n",
              "      <th></th>\n",
              "      <th>metricas</th>\n",
              "      <th>deaths</th>\n",
              "    </tr>\n",
              "  </thead>\n",
              "  <tbody>\n",
              "    <tr>\n",
              "      <th>0</th>\n",
              "      <td>media_mortes</td>\n",
              "      <td>140.818565</td>\n",
              "    </tr>\n",
              "    <tr>\n",
              "      <th>1</th>\n",
              "      <td>dp_mortes</td>\n",
              "      <td>370.645036</td>\n",
              "    </tr>\n",
              "    <tr>\n",
              "      <th>2</th>\n",
              "      <td>0.25</td>\n",
              "      <td>11.000000</td>\n",
              "    </tr>\n",
              "    <tr>\n",
              "      <th>3</th>\n",
              "      <td>0.5</td>\n",
              "      <td>29.000000</td>\n",
              "    </tr>\n",
              "    <tr>\n",
              "      <th>4</th>\n",
              "      <td>0.75</td>\n",
              "      <td>104.000000</td>\n",
              "    </tr>\n",
              "  </tbody>\n",
              "</table>\n",
              "</div>"
            ],
            "text/plain": [
              "       metricas      deaths\n",
              "0  media_mortes  140.818565\n",
              "1     dp_mortes  370.645036\n",
              "2          0.25   11.000000\n",
              "3           0.5   29.000000\n",
              "4          0.75  104.000000"
            ]
          },
          "metadata": {
            "tags": []
          },
          "execution_count": 84
        }
      ]
    },
    {
      "cell_type": "markdown",
      "metadata": {
        "id": "wTDxox1L6FGW"
      },
      "source": [
        "Histograma  BR"
      ]
    },
    {
      "cell_type": "code",
      "metadata": {
        "id": "bb8inlX26mT2"
      },
      "source": [
        "plt.hist(dados_amostra_br['totalCases'], alpha=0.7, rwidth=0.85)\n",
        "plt.xlabel('n')\n",
        "plt.ylabel('Frequencia')"
      ],
      "execution_count": null,
      "outputs": []
    },
    {
      "cell_type": "code",
      "metadata": {
        "colab": {
          "base_uri": "https://localhost:8080/",
          "height": 297
        },
        "id": "mfVfcH0Y6mX3",
        "outputId": "af6d7240-6d35-4cd4-83d1-08340f59bd68"
      },
      "source": [
        "plt.hist(dados_amostra_br['deaths'], alpha=0.7, rwidth=0.85)\n",
        "plt.xlabel('n')\n",
        "plt.ylabel('Frequencia')"
      ],
      "execution_count": null,
      "outputs": [
        {
          "output_type": "execute_result",
          "data": {
            "text/plain": [
              "Text(0, 0.5, 'Frequencia')"
            ]
          },
          "metadata": {
            "tags": []
          },
          "execution_count": 88
        },
        {
          "output_type": "display_data",
          "data": {
            "image/png": "[encoded data removed]",
            "text/plain": [
              "<Figure size 432x288 with 1 Axes>"
            ]
          },
          "metadata": {
            "tags": [],
            "needs_background": "light"
          }
        }
      ]
    },
    {
      "cell_type": "markdown",
      "metadata": {
        "id": "YPmDiXNb6ma9"
      },
      "source": [
        "Histograma SP"
      ]
    },
    {
      "cell_type": "code",
      "metadata": {
        "colab": {
          "base_uri": "https://localhost:8080/",
          "height": 297
        },
        "id": "C2udYkvr8jtZ",
        "outputId": "32e3ffcd-7be5-4b5b-8087-cc5731a051d9"
      },
      "source": [
        "plt.hist(dados_amostra_sp['totalCases'], alpha=0.7, rwidth=0.85)\n",
        "plt.xlabel('n')\n",
        "plt.ylabel('Frequencia')"
      ],
      "execution_count": null,
      "outputs": [
        {
          "output_type": "execute_result",
          "data": {
            "text/plain": [
              "Text(0, 0.5, 'Frequencia')"
            ]
          },
          "metadata": {
            "tags": []
          },
          "execution_count": 89
        },
        {
          "output_type": "display_data",
          "data": {
            "image/png": "[encoded data removed]",
            "text/plain": [
              "<Figure size 432x288 with 1 Axes>"
            ]
          },
          "metadata": {
            "tags": [],
            "needs_background": "light"
          }
        }
      ]
    },
    {
      "cell_type": "code",
      "metadata": {
        "colab": {
          "base_uri": "https://localhost:8080/",
          "height": 297
        },
        "id": "8M5jspyY8jyP",
        "outputId": "0bdb632b-cf97-430c-f900-879c9f4d587a"
      },
      "source": [
        "plt.hist(dados_amostra_sp['deaths'], alpha=0.7, rwidth=0.85)\n",
        "plt.xlabel('n')\n",
        "plt.ylabel('Frequencia')"
      ],
      "execution_count": null,
      "outputs": [
        {
          "output_type": "execute_result",
          "data": {
            "text/plain": [
              "Text(0, 0.5, 'Frequencia')"
            ]
          },
          "metadata": {
            "tags": []
          },
          "execution_count": 90
        },
        {
          "output_type": "display_data",
          "data": {
            "image/png": "[encoded data removed]",
            "text/plain": [
              "<Figure size 432x288 with 1 Axes>"
            ]
          },
          "metadata": {
            "tags": [],
            "needs_background": "light"
          }
        }
      ]
    }
  ]
}