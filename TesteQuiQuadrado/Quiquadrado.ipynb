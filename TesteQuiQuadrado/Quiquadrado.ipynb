{
  "nbformat": 4,
  "nbformat_minor": 0,
  "metadata": {
    "colab": {
      "name": "exemplos_quiquadrado.ipynb",
      "provenance": [],
      "collapsed_sections": []
    },
    "kernelspec": {
      "name": "python3",
      "display_name": "Python 3"
    },
    "language_info": {
      "name": "python"
    }
  },
  "cells": [
    {
      "cell_type": "markdown",
      "metadata": {
        "id": "Oi50emxxIFGQ"
      },
      "source": [
        "## Análise Qui-Quadrado"
      ]
    },
    {
      "cell_type": "markdown",
      "metadata": {
        "id": "tlsr1ffuIItf"
      },
      "source": [
        "## Módulos"
      ]
    },
    {
      "cell_type": "code",
      "metadata": {
        "id": "pc3nWxYRIIx1"
      },
      "source": [
        "import numpy as np\n",
        "import pandas as pd\n",
        "from scipy import stats as st"
      ],
      "execution_count": 4,
      "outputs": []
    },
    {
      "cell_type": "markdown",
      "metadata": {
        "id": "BB2FC6FsII1V"
      },
      "source": [
        "## Analises"
      ]
    },
    {
      "cell_type": "markdown",
      "metadata": {
        "id": "MiFME-D-II5F"
      },
      "source": [
        "### Teste de Aderência"
      ]
    },
    {
      "cell_type": "code",
      "metadata": {
        "id": "6VKexCaSII8k"
      },
      "source": [
        "frequencia_observada = np.array([80., 20.,\t30.,\t35.,\t28.,\t100., 150.])"
      ],
      "execution_count": 24,
      "outputs": []
    },
    {
      "cell_type": "code",
      "metadata": {
        "id": "5BHFV6mBI48F"
      },
      "source": [
        "p_esperada = np.array([0.25, 0.05, 0.10,\t0.10,\t0.10,\t0.15, 0.25])"
      ],
      "execution_count": 25,
      "outputs": []
    },
    {
      "cell_type": "code",
      "metadata": {
        "colab": {
          "base_uri": "https://localhost:8080/"
        },
        "id": "opwoA069J_Hv",
        "outputId": "ade23399-4593-44f4-ff48-aff8b1975653"
      },
      "source": [
        "frequencia_esperada = np.sum(frequencia_observada) * p_esperada\n",
        "frequencia_esperada"
      ],
      "execution_count": 26,
      "outputs": [
        {
          "output_type": "execute_result",
          "data": {
            "text/plain": [
              "array([110.75,  22.15,  44.3 ,  44.3 ,  44.3 ,  66.45, 110.75])"
            ]
          },
          "metadata": {},
          "execution_count": 26
        }
      ]
    },
    {
      "cell_type": "code",
      "metadata": {
        "colab": {
          "base_uri": "https://localhost:8080/"
        },
        "id": "Z6kjPrU0I5A0",
        "outputId": "452dc628-3061-4f52-98ea-b5e5cf7be9cd"
      },
      "source": [
        "st.chisquare(f_obs=frequencia_observada, f_exp=frequencia_esperada)"
      ],
      "execution_count": 27,
      "outputs": [
        {
          "output_type": "execute_result",
          "data": {
            "text/plain": [
              "Power_divergenceResult(statistic=52.161775771256586, pvalue=1.730222255796706e-09)"
            ]
          },
          "metadata": {},
          "execution_count": 27
        }
      ]
    },
    {
      "cell_type": "markdown",
      "metadata": {
        "id": "klr75rs5I5Fd"
      },
      "source": [
        "### Teste de homogeneidade"
      ]
    },
    {
      "cell_type": "code",
      "metadata": {
        "colab": {
          "base_uri": "https://localhost:8080/",
          "height": 204
        },
        "id": "Pmt3ILijI5I8",
        "outputId": "b2b16903-62e7-4beb-ae9e-fed07fc261c9"
      },
      "source": [
        "dados_tratamentos = pd.read_csv('dados_tratamentos.csv', sep = ';')\n",
        "dados_tratamentos.head()"
      ],
      "execution_count": 54,
      "outputs": [
        {
          "output_type": "execute_result",
          "data": {
            "text/html": [
              "<div>\n",
              "<style scoped>\n",
              "    .dataframe tbody tr th:only-of-type {\n",
              "        vertical-align: middle;\n",
              "    }\n",
              "\n",
              "    .dataframe tbody tr th {\n",
              "        vertical-align: top;\n",
              "    }\n",
              "\n",
              "    .dataframe thead th {\n",
              "        text-align: right;\n",
              "    }\n",
              "</style>\n",
              "<table border=\"1\" class=\"dataframe\">\n",
              "  <thead>\n",
              "    <tr style=\"text-align: right;\">\n",
              "      <th></th>\n",
              "      <th>id</th>\n",
              "      <th>tratamento</th>\n",
              "      <th>evolucao</th>\n",
              "    </tr>\n",
              "  </thead>\n",
              "  <tbody>\n",
              "    <tr>\n",
              "      <th>0</th>\n",
              "      <td>1</td>\n",
              "      <td>tratado</td>\n",
              "      <td>melhorou</td>\n",
              "    </tr>\n",
              "    <tr>\n",
              "      <th>1</th>\n",
              "      <td>2</td>\n",
              "      <td>tratado</td>\n",
              "      <td>melhorou</td>\n",
              "    </tr>\n",
              "    <tr>\n",
              "      <th>2</th>\n",
              "      <td>3</td>\n",
              "      <td>nao-tratado</td>\n",
              "      <td>melhorou</td>\n",
              "    </tr>\n",
              "    <tr>\n",
              "      <th>3</th>\n",
              "      <td>4</td>\n",
              "      <td>tratado</td>\n",
              "      <td>melhorou</td>\n",
              "    </tr>\n",
              "    <tr>\n",
              "      <th>4</th>\n",
              "      <td>5</td>\n",
              "      <td>tratado</td>\n",
              "      <td>nao-melhorou</td>\n",
              "    </tr>\n",
              "  </tbody>\n",
              "</table>\n",
              "</div>"
            ],
            "text/plain": [
              "   id   tratamento      evolucao\n",
              "0   1      tratado      melhorou\n",
              "1   2      tratado      melhorou\n",
              "2   3  nao-tratado      melhorou\n",
              "3   4      tratado      melhorou\n",
              "4   5      tratado  nao-melhorou"
            ]
          },
          "metadata": {},
          "execution_count": 54
        }
      ]
    },
    {
      "cell_type": "code",
      "metadata": {
        "colab": {
          "base_uri": "https://localhost:8080/",
          "height": 142
        },
        "id": "bYnmmzejPXdX",
        "outputId": "d418ce2e-c8dc-43d1-ec50-b0d6dc710a3a"
      },
      "source": [
        "tabela = pd.crosstab(dados_tratamentos['tratamento'], dados_tratamentos['evolucao'])\n",
        "tabela"
      ],
      "execution_count": 55,
      "outputs": [
        {
          "output_type": "execute_result",
          "data": {
            "text/html": [
              "<div>\n",
              "<style scoped>\n",
              "    .dataframe tbody tr th:only-of-type {\n",
              "        vertical-align: middle;\n",
              "    }\n",
              "\n",
              "    .dataframe tbody tr th {\n",
              "        vertical-align: top;\n",
              "    }\n",
              "\n",
              "    .dataframe thead th {\n",
              "        text-align: right;\n",
              "    }\n",
              "</style>\n",
              "<table border=\"1\" class=\"dataframe\">\n",
              "  <thead>\n",
              "    <tr style=\"text-align: right;\">\n",
              "      <th>evolucao</th>\n",
              "      <th>melhorou</th>\n",
              "      <th>nao-melhorou</th>\n",
              "    </tr>\n",
              "    <tr>\n",
              "      <th>tratamento</th>\n",
              "      <th></th>\n",
              "      <th></th>\n",
              "    </tr>\n",
              "  </thead>\n",
              "  <tbody>\n",
              "    <tr>\n",
              "      <th>nao-tratado</th>\n",
              "      <td>26</td>\n",
              "      <td>29</td>\n",
              "    </tr>\n",
              "    <tr>\n",
              "      <th>tratado</th>\n",
              "      <td>35</td>\n",
              "      <td>15</td>\n",
              "    </tr>\n",
              "  </tbody>\n",
              "</table>\n",
              "</div>"
            ],
            "text/plain": [
              "evolucao     melhorou  nao-melhorou\n",
              "tratamento                         \n",
              "nao-tratado        26            29\n",
              "tratado            35            15"
            ]
          },
          "metadata": {},
          "execution_count": 55
        }
      ]
    },
    {
      "cell_type": "code",
      "metadata": {
        "id": "Xw4D4BCKMIze"
      },
      "source": [
        "chi, p, gl, t_esp = st.chi2_contingency(tabela, correction=False)"
      ],
      "execution_count": 56,
      "outputs": []
    },
    {
      "cell_type": "code",
      "metadata": {
        "colab": {
          "base_uri": "https://localhost:8080/"
        },
        "id": "OCoYlZb1MI32",
        "outputId": "b23b830d-3137-4f26-f6b0-2abb40acba8f"
      },
      "source": [
        "chi, p"
      ],
      "execution_count": 57,
      "outputs": [
        {
          "output_type": "execute_result",
          "data": {
            "text/plain": [
              "(5.556919794065845, 0.018407774251540804)"
            ]
          },
          "metadata": {},
          "execution_count": 57
        }
      ]
    },
    {
      "cell_type": "markdown",
      "metadata": {
        "id": "AwGqrnRsMI8W"
      },
      "source": [
        "### Teste de Independência"
      ]
    },
    {
      "cell_type": "code",
      "metadata": {
        "colab": {
          "base_uri": "https://localhost:8080/",
          "height": 204
        },
        "id": "DGMEbApkWODC",
        "outputId": "b10f73b2-1a2e-437f-fee5-9264e1dadb27"
      },
      "source": [
        "dados_empresas = pd.read_csv('analise_empresas.csv', sep = ',')\n",
        "dados_empresas.head()"
      ],
      "execution_count": 59,
      "outputs": [
        {
          "output_type": "execute_result",
          "data": {
            "text/html": [
              "<div>\n",
              "<style scoped>\n",
              "    .dataframe tbody tr th:only-of-type {\n",
              "        vertical-align: middle;\n",
              "    }\n",
              "\n",
              "    .dataframe tbody tr th {\n",
              "        vertical-align: top;\n",
              "    }\n",
              "\n",
              "    .dataframe thead th {\n",
              "        text-align: right;\n",
              "    }\n",
              "</style>\n",
              "<table border=\"1\" class=\"dataframe\">\n",
              "  <thead>\n",
              "    <tr style=\"text-align: right;\">\n",
              "      <th></th>\n",
              "      <th>Empresa</th>\n",
              "      <th>SaudeFin</th>\n",
              "      <th>RespSocial</th>\n",
              "      <th>RespAmbiental</th>\n",
              "    </tr>\n",
              "  </thead>\n",
              "  <tbody>\n",
              "    <tr>\n",
              "      <th>0</th>\n",
              "      <td>1</td>\n",
              "      <td>baixa</td>\n",
              "      <td>baixa</td>\n",
              "      <td>3</td>\n",
              "    </tr>\n",
              "    <tr>\n",
              "      <th>1</th>\n",
              "      <td>1</td>\n",
              "      <td>media</td>\n",
              "      <td>baixa</td>\n",
              "      <td>1</td>\n",
              "    </tr>\n",
              "    <tr>\n",
              "      <th>2</th>\n",
              "      <td>1</td>\n",
              "      <td>baixa</td>\n",
              "      <td>alta</td>\n",
              "      <td>3</td>\n",
              "    </tr>\n",
              "    <tr>\n",
              "      <th>3</th>\n",
              "      <td>1</td>\n",
              "      <td>media</td>\n",
              "      <td>baixa</td>\n",
              "      <td>2</td>\n",
              "    </tr>\n",
              "    <tr>\n",
              "      <th>4</th>\n",
              "      <td>1</td>\n",
              "      <td>baixa</td>\n",
              "      <td>alta</td>\n",
              "      <td>3</td>\n",
              "    </tr>\n",
              "  </tbody>\n",
              "</table>\n",
              "</div>"
            ],
            "text/plain": [
              "   Empresa SaudeFin RespSocial  RespAmbiental\n",
              "0        1    baixa      baixa              3\n",
              "1        1    media      baixa              1\n",
              "2        1    baixa       alta              3\n",
              "3        1    media      baixa              2\n",
              "4        1    baixa       alta              3"
            ]
          },
          "metadata": {},
          "execution_count": 59
        }
      ]
    },
    {
      "cell_type": "code",
      "metadata": {
        "colab": {
          "base_uri": "https://localhost:8080/",
          "height": 173
        },
        "id": "Ob4m6JhVWOHg",
        "outputId": "5732b772-5a8e-4460-ef0d-dcba6e593603"
      },
      "source": [
        "tabela = pd.crosstab(dados_empresas['SaudeFin'], dados_empresas['RespSocial'])\n",
        "tabela"
      ],
      "execution_count": 60,
      "outputs": [
        {
          "output_type": "execute_result",
          "data": {
            "text/html": [
              "<div>\n",
              "<style scoped>\n",
              "    .dataframe tbody tr th:only-of-type {\n",
              "        vertical-align: middle;\n",
              "    }\n",
              "\n",
              "    .dataframe tbody tr th {\n",
              "        vertical-align: top;\n",
              "    }\n",
              "\n",
              "    .dataframe thead th {\n",
              "        text-align: right;\n",
              "    }\n",
              "</style>\n",
              "<table border=\"1\" class=\"dataframe\">\n",
              "  <thead>\n",
              "    <tr style=\"text-align: right;\">\n",
              "      <th>RespSocial</th>\n",
              "      <th>alta</th>\n",
              "      <th>baixa</th>\n",
              "    </tr>\n",
              "    <tr>\n",
              "      <th>SaudeFin</th>\n",
              "      <th></th>\n",
              "      <th></th>\n",
              "    </tr>\n",
              "  </thead>\n",
              "  <tbody>\n",
              "    <tr>\n",
              "      <th>alta</th>\n",
              "      <td>50</td>\n",
              "      <td>40</td>\n",
              "    </tr>\n",
              "    <tr>\n",
              "      <th>baixa</th>\n",
              "      <td>40</td>\n",
              "      <td>20</td>\n",
              "    </tr>\n",
              "    <tr>\n",
              "      <th>media</th>\n",
              "      <td>100</td>\n",
              "      <td>100</td>\n",
              "    </tr>\n",
              "  </tbody>\n",
              "</table>\n",
              "</div>"
            ],
            "text/plain": [
              "RespSocial  alta  baixa\n",
              "SaudeFin               \n",
              "alta          50     40\n",
              "baixa         40     20\n",
              "media        100    100"
            ]
          },
          "metadata": {},
          "execution_count": 60
        }
      ]
    },
    {
      "cell_type": "code",
      "metadata": {
        "id": "mNVewdC2WOLA"
      },
      "source": [
        "chi, p, gl, t_esp = st.chi2_contingency(tabela, correction=False)"
      ],
      "execution_count": 61,
      "outputs": []
    },
    {
      "cell_type": "code",
      "metadata": {
        "colab": {
          "base_uri": "https://localhost:8080/"
        },
        "id": "oOYc7EbDIJAF",
        "outputId": "219184d2-096a-4b9d-9230-d995e6276a45"
      },
      "source": [
        "chi, p"
      ],
      "execution_count": 62,
      "outputs": [
        {
          "output_type": "execute_result",
          "data": {
            "text/plain": [
              "(5.244883040935672, 0.0726253299609787)"
            ]
          },
          "metadata": {},
          "execution_count": 62
        }
      ]
    },
    {
      "cell_type": "code",
      "metadata": {
        "id": "lSCHpgVQIJEc"
      },
      "source": [
        ""
      ],
      "execution_count": null,
      "outputs": []
    }
  ]
}