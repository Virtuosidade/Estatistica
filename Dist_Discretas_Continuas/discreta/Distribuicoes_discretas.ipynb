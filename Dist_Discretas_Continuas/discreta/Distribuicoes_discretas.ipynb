{
  "nbformat": 4,
  "nbformat_minor": 0,
  "metadata": {
    "colab": {
      "name": "Distribuicoes_discretas.ipynb",
      "provenance": [],
      "collapsed_sections": []
    },
    "kernelspec": {
      "name": "python3",
      "display_name": "Python 3"
    },
    "language_info": {
      "name": "python"
    }
  },
  "cells": [
    {
      "cell_type": "markdown",
      "metadata": {
        "id": "zVbD--cx9Bp5"
      },
      "source": [
        "# Distribuições Discretas"
      ]
    },
    {
      "cell_type": "markdown",
      "metadata": {
        "id": "t6J22APF9If3"
      },
      "source": [
        "## Carregar módulos"
      ]
    },
    {
      "cell_type": "code",
      "metadata": {
        "id": "yedcGqcg9Ijw"
      },
      "source": [
        "import numpy as np\n",
        "import pandas as pd\n",
        "import datetime\n",
        "import matplotlib.pyplot as plt\n",
        "import seaborn as sns\n",
        "from scipy.stats import binom, poisson"
      ],
      "execution_count": null,
      "outputs": []
    },
    {
      "cell_type": "markdown",
      "metadata": {
        "id": "GPac3E7O9IoD"
      },
      "source": [
        "## Carregar dados"
      ]
    },
    {
      "cell_type": "code",
      "metadata": {
        "id": "6G9Yq_tm9Irx"
      },
      "source": [
        "dados = pd.read_csv('acidentes.csv')"
      ],
      "execution_count": null,
      "outputs": []
    },
    {
      "cell_type": "code",
      "metadata": {
        "colab": {
          "base_uri": "https://localhost:8080/",
          "height": 204
        },
        "id": "g5dpWcZA9Ivp",
        "outputId": "15c381a8-f82a-445a-cc91-3e07734b11ea"
      },
      "source": [
        "dados.head()"
      ],
      "execution_count": null,
      "outputs": [
        {
          "output_type": "execute_result",
          "data": {
            "text/html": [
              "<div>\n",
              "<style scoped>\n",
              "    .dataframe tbody tr th:only-of-type {\n",
              "        vertical-align: middle;\n",
              "    }\n",
              "\n",
              "    .dataframe tbody tr th {\n",
              "        vertical-align: top;\n",
              "    }\n",
              "\n",
              "    .dataframe thead th {\n",
              "        text-align: right;\n",
              "    }\n",
              "</style>\n",
              "<table border=\"1\" class=\"dataframe\">\n",
              "  <thead>\n",
              "    <tr style=\"text-align: right;\">\n",
              "      <th></th>\n",
              "      <th>id_acidente</th>\n",
              "      <th>data_acidente</th>\n",
              "      <th>tipo_lesao</th>\n",
              "      <th>risco_classificacao</th>\n",
              "    </tr>\n",
              "  </thead>\n",
              "  <tbody>\n",
              "    <tr>\n",
              "      <th>0</th>\n",
              "      <td>1</td>\n",
              "      <td>2014-02-11</td>\n",
              "      <td>Laceração</td>\n",
              "      <td>Leve</td>\n",
              "    </tr>\n",
              "    <tr>\n",
              "      <th>1</th>\n",
              "      <td>2</td>\n",
              "      <td>2014-02-05</td>\n",
              "      <td>Ferimentos Perfurantes</td>\n",
              "      <td>Médio</td>\n",
              "    </tr>\n",
              "    <tr>\n",
              "      <th>2</th>\n",
              "      <td>3</td>\n",
              "      <td>2014-01-31</td>\n",
              "      <td>Contusão</td>\n",
              "      <td>Leve</td>\n",
              "    </tr>\n",
              "    <tr>\n",
              "      <th>3</th>\n",
              "      <td>4</td>\n",
              "      <td>2014-01-13</td>\n",
              "      <td>Corte</td>\n",
              "      <td>Leve</td>\n",
              "    </tr>\n",
              "    <tr>\n",
              "      <th>4</th>\n",
              "      <td>5</td>\n",
              "      <td>2014-02-14</td>\n",
              "      <td>Contusão</td>\n",
              "      <td>Médio</td>\n",
              "    </tr>\n",
              "  </tbody>\n",
              "</table>\n",
              "</div>"
            ],
            "text/plain": [
              "   id_acidente data_acidente              tipo_lesao risco_classificacao\n",
              "0            1    2014-02-11               Laceração                Leve\n",
              "1            2    2014-02-05  Ferimentos Perfurantes               Médio\n",
              "2            3    2014-01-31                Contusão                Leve\n",
              "3            4    2014-01-13                   Corte                Leve\n",
              "4            5    2014-02-14                Contusão               Médio"
            ]
          },
          "metadata": {
            "tags": []
          },
          "execution_count": 4
        }
      ]
    },
    {
      "cell_type": "markdown",
      "metadata": {
        "id": "QwmR8BSn9IzZ"
      },
      "source": [
        "## Histograma"
      ]
    },
    {
      "cell_type": "markdown",
      "metadata": {
        "id": "LlFz-u2ABGmH"
      },
      "source": [
        "- Preparar os dados"
      ]
    },
    {
      "cell_type": "code",
      "metadata": {
        "id": "97z1fQnBARA_"
      },
      "source": [
        "dados['data_acidente'] = pd.to_datetime(dados['data_acidente'], errors='coerce')"
      ],
      "execution_count": null,
      "outputs": []
    },
    {
      "cell_type": "code",
      "metadata": {
        "id": "vzNoF_IIARFw"
      },
      "source": [
        "dados['data_acidente_mensal'] = dados['data_acidente'].dt.strftime('%Y-%m')"
      ],
      "execution_count": null,
      "outputs": []
    },
    {
      "cell_type": "code",
      "metadata": {
        "id": "cnUTDgNPARI6"
      },
      "source": [
        "dados_acidentes_mensal = dados.groupby('data_acidente_mensal') \\\n",
        "                              .size() \\\n",
        "                              .to_frame('n') \\\n",
        "                              .reset_index()"
      ],
      "execution_count": null,
      "outputs": []
    },
    {
      "cell_type": "code",
      "metadata": {
        "colab": {
          "base_uri": "https://localhost:8080/",
          "height": 204
        },
        "id": "57MX4v2S-kwB",
        "outputId": "a1f707fb-fa53-46bf-a8e3-e943ad7098e9"
      },
      "source": [
        "dados_acidentes_mensal.head()"
      ],
      "execution_count": null,
      "outputs": [
        {
          "output_type": "execute_result",
          "data": {
            "text/html": [
              "<div>\n",
              "<style scoped>\n",
              "    .dataframe tbody tr th:only-of-type {\n",
              "        vertical-align: middle;\n",
              "    }\n",
              "\n",
              "    .dataframe tbody tr th {\n",
              "        vertical-align: top;\n",
              "    }\n",
              "\n",
              "    .dataframe thead th {\n",
              "        text-align: right;\n",
              "    }\n",
              "</style>\n",
              "<table border=\"1\" class=\"dataframe\">\n",
              "  <thead>\n",
              "    <tr style=\"text-align: right;\">\n",
              "      <th></th>\n",
              "      <th>data_acidente_mensal</th>\n",
              "      <th>n</th>\n",
              "    </tr>\n",
              "  </thead>\n",
              "  <tbody>\n",
              "    <tr>\n",
              "      <th>0</th>\n",
              "      <td>2013-07</td>\n",
              "      <td>1</td>\n",
              "    </tr>\n",
              "    <tr>\n",
              "      <th>1</th>\n",
              "      <td>2014-01</td>\n",
              "      <td>15</td>\n",
              "    </tr>\n",
              "    <tr>\n",
              "      <th>2</th>\n",
              "      <td>2014-02</td>\n",
              "      <td>12</td>\n",
              "    </tr>\n",
              "    <tr>\n",
              "      <th>3</th>\n",
              "      <td>2014-03</td>\n",
              "      <td>11</td>\n",
              "    </tr>\n",
              "    <tr>\n",
              "      <th>4</th>\n",
              "      <td>2014-04</td>\n",
              "      <td>10</td>\n",
              "    </tr>\n",
              "  </tbody>\n",
              "</table>\n",
              "</div>"
            ],
            "text/plain": [
              "  data_acidente_mensal   n\n",
              "0              2013-07   1\n",
              "1              2014-01  15\n",
              "2              2014-02  12\n",
              "3              2014-03  11\n",
              "4              2014-04  10"
            ]
          },
          "metadata": {
            "tags": []
          },
          "execution_count": 18
        }
      ]
    },
    {
      "cell_type": "markdown",
      "metadata": {
        "id": "VdoqBkqLCxlz"
      },
      "source": [
        "- Exemplo matplotlib"
      ]
    },
    {
      "cell_type": "code",
      "metadata": {
        "colab": {
          "base_uri": "https://localhost:8080/",
          "height": 297
        },
        "id": "KXmcBFt7-k0P",
        "outputId": "cbc4e274-fea2-4555-d715-5fd80943e6d9"
      },
      "source": [
        "plt.hist(dados_acidentes_mensal['n'], alpha=0.7, rwidth=0.85)\n",
        "plt.xlabel('n')\n",
        "plt.ylabel('Frequencia')"
      ],
      "execution_count": null,
      "outputs": [
        {
          "output_type": "execute_result",
          "data": {
            "text/plain": [
              "Text(0, 0.5, 'Frequencia')"
            ]
          },
          "metadata": {
            "tags": []
          },
          "execution_count": 22
        },
        {
          "output_type": "display_data",
          "data": {
            "image/png": "[encoded data removed]",
            "text/plain": [
              "<Figure size 432x288 with 1 Axes>"
            ]
          },
          "metadata": {
            "tags": [],
            "needs_background": "light"
          }
        }
      ]
    },
    {
      "cell_type": "markdown",
      "metadata": {
        "id": "uuVhJKCP-k4S"
      },
      "source": [
        "- Exemplo seaborn"
      ]
    },
    {
      "cell_type": "code",
      "metadata": {
        "colab": {
          "base_uri": "https://localhost:8080/",
          "height": 387
        },
        "id": "5U_vk4HjC9Gx",
        "outputId": "c67c8bff-50cd-44b7-c1b0-51ac4b31ce39"
      },
      "source": [
        "sns.displot(dados_acidentes_mensal['n'])\n",
        "plt.ylabel('Frequencia')"
      ],
      "execution_count": null,
      "outputs": [
        {
          "output_type": "execute_result",
          "data": {
            "text/plain": [
              "Text(0.29999999999999716, 0.5, 'Frequencia')"
            ]
          },
          "metadata": {
            "tags": []
          },
          "execution_count": 26
        },
        {
          "output_type": "display_data",
          "data": {
            "image/png": "[encoded data removed]",
            "text/plain": [
              "<Figure size 360x360 with 1 Axes>"
            ]
          },
          "metadata": {
            "tags": [],
            "needs_background": "light"
          }
        }
      ]
    },
    {
      "cell_type": "markdown",
      "metadata": {
        "id": "PttGlJ5kC9LJ"
      },
      "source": [
        "## Simulação"
      ]
    },
    {
      "cell_type": "markdown",
      "metadata": {
        "id": "GJtf01zuC9PQ"
      },
      "source": [
        "### Distribuição Uniforme"
      ]
    },
    {
      "cell_type": "code",
      "metadata": {
        "id": "aRfL7IgAC9Sx"
      },
      "source": [
        "n = 6\n",
        "p = 1/n"
      ],
      "execution_count": null,
      "outputs": []
    },
    {
      "cell_type": "code",
      "metadata": {
        "id": "yyPgRmMBI1qc"
      },
      "source": [
        "resultados = np.arange(1, 7)"
      ],
      "execution_count": null,
      "outputs": []
    },
    {
      "cell_type": "code",
      "metadata": {
        "id": "lh2DPA9-C9Wq"
      },
      "source": [
        "probabilidade = np.repeat(p, n)"
      ],
      "execution_count": null,
      "outputs": []
    },
    {
      "cell_type": "code",
      "metadata": {
        "id": "CYtnRZuZC9aB"
      },
      "source": [
        "dados_uniforme = pd.DataFrame(resultados, columns=['resultados'])\n",
        "dados_uniforme['probabilidade'] = probabilidade"
      ],
      "execution_count": null,
      "outputs": []
    },
    {
      "cell_type": "code",
      "metadata": {
        "colab": {
          "base_uri": "https://localhost:8080/",
          "height": 294
        },
        "id": "Fna9be-YJIuZ",
        "outputId": "a5503d84-365c-407f-dcc5-f062a363774b"
      },
      "source": [
        "dados_uniforme.plot(kind = 'bar', \n",
        "                    x = 'resultados', \n",
        "                    y = 'probabilidade', width = 0.8)"
      ],
      "execution_count": null,
      "outputs": [
        {
          "output_type": "execute_result",
          "data": {
            "text/plain": [
              "<matplotlib.axes._subplots.AxesSubplot at 0x7ff8e15d6e10>"
            ]
          },
          "metadata": {
            "tags": []
          },
          "execution_count": 50
        },
        {
          "output_type": "display_data",
          "data": {
            "image/png": "[encoded data removed]",
            "text/plain": [
              "<Figure size 432x288 with 1 Axes>"
            ]
          },
          "metadata": {
            "tags": [],
            "needs_background": "light"
          }
        }
      ]
    },
    {
      "cell_type": "markdown",
      "metadata": {
        "id": "OoEsl1SsJI2R"
      },
      "source": [
        "### Distribuição Bernoulli "
      ]
    },
    {
      "cell_type": "code",
      "metadata": {
        "id": "uSKk7muCNnrR"
      },
      "source": [
        "p = 0.2"
      ],
      "execution_count": null,
      "outputs": []
    },
    {
      "cell_type": "code",
      "metadata": {
        "id": "UgJywEYPNnvZ"
      },
      "source": [
        "resultados = np.arange(0, 2)"
      ],
      "execution_count": null,
      "outputs": []
    },
    {
      "cell_type": "code",
      "metadata": {
        "id": "3UWLw8m8NnzI"
      },
      "source": [
        "probabilidade = np.array([p, 1-p])"
      ],
      "execution_count": null,
      "outputs": []
    },
    {
      "cell_type": "code",
      "metadata": {
        "id": "1wbkvttmNn3D"
      },
      "source": [
        "dados_bernoulli = pd.DataFrame(resultados, columns=['resultados'])\n",
        "dados_bernoulli['probabilidade'] = probabilidade"
      ],
      "execution_count": null,
      "outputs": []
    },
    {
      "cell_type": "code",
      "metadata": {
        "colab": {
          "base_uri": "https://localhost:8080/",
          "height": 294
        },
        "id": "rLFwVzvZJI6p",
        "outputId": "698cd51b-6ca8-4f8a-aa40-be9fb2a1009c"
      },
      "source": [
        "dados_bernoulli.plot(kind = 'bar', \n",
        "                     x = 'resultados', \n",
        "                     y = 'probabilidade', width = 0.8)"
      ],
      "execution_count": null,
      "outputs": [
        {
          "output_type": "execute_result",
          "data": {
            "text/plain": [
              "<matplotlib.axes._subplots.AxesSubplot at 0x7ff8e1a1e610>"
            ]
          },
          "metadata": {
            "tags": []
          },
          "execution_count": 65
        },
        {
          "output_type": "display_data",
          "data": {
            "image/png": "[encoded data removed]",
            "text/plain": [
              "<Figure size 432x288 with 1 Axes>"
            ]
          },
          "metadata": {
            "tags": [],
            "needs_background": "light"
          }
        }
      ]
    },
    {
      "cell_type": "markdown",
      "metadata": {
        "id": "PAG39SSqPTHS"
      },
      "source": [
        "### Distribuição Binomial"
      ]
    },
    {
      "cell_type": "code",
      "metadata": {
        "id": "hOSkm_t5PTMT"
      },
      "source": [
        "n = 5\n",
        "p = 0.8"
      ],
      "execution_count": null,
      "outputs": []
    },
    {
      "cell_type": "code",
      "metadata": {
        "id": "v8eXrrHORciU"
      },
      "source": [
        "n_sucessos = [i for i in range(n+1)]"
      ],
      "execution_count": null,
      "outputs": []
    },
    {
      "cell_type": "code",
      "metadata": {
        "id": "WODElrMgRcmp"
      },
      "source": [
        "dados_binomial = pd.DataFrame(n_sucessos, columns=['n_sucessos'])"
      ],
      "execution_count": null,
      "outputs": []
    },
    {
      "cell_type": "code",
      "metadata": {
        "id": "errcfqgZRcqd"
      },
      "source": [
        "dados_binomial['probs'] = dados_binomial['n_sucessos'].apply(lambda x: binom.pmf(k=x, n = n, p = p))"
      ],
      "execution_count": null,
      "outputs": []
    },
    {
      "cell_type": "code",
      "metadata": {
        "colab": {
          "base_uri": "https://localhost:8080/",
          "height": 294
        },
        "id": "YhAk73qvPTQC",
        "outputId": "3e024a89-6a66-4d86-d6e5-bbf29d5eeec4"
      },
      "source": [
        "dados_binomial.plot(kind='bar', \n",
        "                    x = 'n_sucessos', \n",
        "                    y = 'probs', \n",
        "                    legend = None)"
      ],
      "execution_count": null,
      "outputs": [
        {
          "output_type": "execute_result",
          "data": {
            "text/plain": [
              "<matplotlib.axes._subplots.AxesSubplot at 0x7ff8e1407210>"
            ]
          },
          "metadata": {
            "tags": []
          },
          "execution_count": 77
        },
        {
          "output_type": "display_data",
          "data": {
            "image/png": "[encoded data removed]",
            "text/plain": [
              "<Figure size 432x288 with 1 Axes>"
            ]
          },
          "metadata": {
            "tags": [],
            "needs_background": "light"
          }
        }
      ]
    },
    {
      "cell_type": "markdown",
      "metadata": {
        "id": "3n631mG29I37"
      },
      "source": [
        "### Distribuição Poisson"
      ]
    },
    {
      "cell_type": "code",
      "metadata": {
        "id": "nBOwmPgtVhQL"
      },
      "source": [
        "n = 15\n",
        "mu = 2"
      ],
      "execution_count": null,
      "outputs": []
    },
    {
      "cell_type": "code",
      "metadata": {
        "id": "2RpxCSqdVhXq"
      },
      "source": [
        "resultados = [i for i in range(n+1)]"
      ],
      "execution_count": null,
      "outputs": []
    },
    {
      "cell_type": "code",
      "metadata": {
        "id": "DtIFjVkoVhby"
      },
      "source": [
        "dados_poisson = pd.DataFrame(resultados, columns=['n_sucessos'])"
      ],
      "execution_count": null,
      "outputs": []
    },
    {
      "cell_type": "code",
      "metadata": {
        "id": "z5Yme5KOVhf_"
      },
      "source": [
        "dados_poisson['probs'] = dados_poisson['n_sucessos'].apply(lambda x: poisson.pmf(k=x, mu=mu))"
      ],
      "execution_count": null,
      "outputs": []
    },
    {
      "cell_type": "code",
      "metadata": {
        "colab": {
          "base_uri": "https://localhost:8080/",
          "height": 300
        },
        "id": "0DADwpp0XRUK",
        "outputId": "8269ed1f-2e22-4b9c-f47f-ea9d0fbfbf52"
      },
      "source": [
        "dados_poisson.plot(kind='bar', \n",
        "                   x = 'n_sucessos', \n",
        "                   y = 'probs', \n",
        "                   legend = None)"
      ],
      "execution_count": null,
      "outputs": [
        {
          "output_type": "execute_result",
          "data": {
            "text/plain": [
              "<matplotlib.axes._subplots.AxesSubplot at 0x7ff8e140f3d0>"
            ]
          },
          "metadata": {
            "tags": []
          },
          "execution_count": 84
        },
        {
          "output_type": "display_data",
          "data": {
            "image/png": "[encoded data removed]",
            "text/plain": [
              "<Figure size 432x288 with 1 Axes>"
            ]
          },
          "metadata": {
            "tags": [],
            "needs_background": "light"
          }
        }
      ]
    },
    {
      "cell_type": "code",
      "metadata": {
        "id": "nn7qrw8PXMfs"
      },
      "source": [
        ""
      ],
      "execution_count": null,
      "outputs": []
    },
    {
      "cell_type": "code",
      "metadata": {
        "id": "-p4IvSKyXMja"
      },
      "source": [
        ""
      ],
      "execution_count": null,
      "outputs": []
    },
    {
      "cell_type": "code",
      "metadata": {
        "id": "br95HEaoXMni"
      },
      "source": [
        ""
      ],
      "execution_count": null,
      "outputs": []
    },
    {
      "cell_type": "code",
      "metadata": {
        "id": "wKY23UOOXMqs"
      },
      "source": [
        ""
      ],
      "execution_count": null,
      "outputs": []
    }
  ]
}