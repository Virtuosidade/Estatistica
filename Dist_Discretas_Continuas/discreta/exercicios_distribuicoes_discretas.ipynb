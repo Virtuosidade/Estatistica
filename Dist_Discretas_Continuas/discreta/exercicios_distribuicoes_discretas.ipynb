{
  "nbformat": 4,
  "nbformat_minor": 0,
  "metadata": {
    "colab": {
      "name": "exercicios_distribuicoes_discretas.ipynb",
      "provenance": [],
      "collapsed_sections": []
    },
    "kernelspec": {
      "name": "python3",
      "display_name": "Python 3"
    },
    "language_info": {
      "name": "python"
    }
  },
  "cells": [
    {
      "cell_type": "markdown",
      "metadata": {
        "id": "r6ClYJM4Zwyx"
      },
      "source": [
        "# Exercícios"
      ]
    },
    {
      "cell_type": "markdown",
      "metadata": {
        "id": "CyXOBrQVZ8RS"
      },
      "source": [
        "## Carregar módulos"
      ]
    },
    {
      "cell_type": "code",
      "metadata": {
        "id": "jPe8uHzGZ8WC"
      },
      "source": [
        "import numpy as np\n",
        "import pandas as pd\n",
        "import datetime\n",
        "import matplotlib.pyplot as plt\n",
        "import seaborn as sns\n",
        "from scipy.stats import binom, poisson"
      ],
      "execution_count": null,
      "outputs": []
    },
    {
      "cell_type": "markdown",
      "metadata": {
        "id": "clm7Kgd4Z8Za"
      },
      "source": [
        "## Carregar dados"
      ]
    },
    {
      "cell_type": "code",
      "metadata": {
        "id": "bsgyK160Zx5s"
      },
      "source": [
        "dados = pd.read_csv('acidentes.csv')"
      ],
      "execution_count": null,
      "outputs": []
    },
    {
      "cell_type": "markdown",
      "metadata": {
        "id": "76vJpZ0mdStE"
      },
      "source": [
        "## Probabilidade de ocorrer 7 acidentes tendo a empresa uma média de 20 acidentes"
      ]
    },
    {
      "cell_type": "code",
      "metadata": {
        "id": "yUHBRJCadSxd"
      },
      "source": [
        "media_acidentes = 20\n",
        "n_acidentes = 7"
      ],
      "execution_count": null,
      "outputs": []
    },
    {
      "cell_type": "code",
      "metadata": {
        "colab": {
          "base_uri": "https://localhost:8080/"
        },
        "id": "SWIF5qA1dS07",
        "outputId": "9d7be2c5-5b79-4f51-93bc-4d7ce3c66971"
      },
      "source": [
        "poisson.pmf(k=n_acidentes, \n",
        "            mu=media_acidentes)"
      ],
      "execution_count": null,
      "outputs": [
        {
          "output_type": "execute_result",
          "data": {
            "text/plain": [
              "0.0005234675866510618"
            ]
          },
          "metadata": {
            "tags": []
          },
          "execution_count": 5
        }
      ]
    },
    {
      "cell_type": "markdown",
      "metadata": {
        "id": "qjUJstLHddhl"
      },
      "source": [
        "## Probabilidade de ocorrer de 15 a 17 acidentes"
      ]
    },
    {
      "cell_type": "code",
      "metadata": {
        "id": "QYpgk_DIddlg"
      },
      "source": [
        "media_acidentes = 20"
      ],
      "execution_count": null,
      "outputs": []
    },
    {
      "cell_type": "code",
      "metadata": {
        "id": "SKrPEawLe3Gi"
      },
      "source": [
        "n_acidentes = np.arange(15, 18)"
      ],
      "execution_count": null,
      "outputs": []
    },
    {
      "cell_type": "code",
      "metadata": {
        "colab": {
          "base_uri": "https://localhost:8080/"
        },
        "id": "X5Uj69j6e3Ky",
        "outputId": "797c7dfc-605f-4d5a-d1a2-82e1fa194dc5"
      },
      "source": [
        "np.sum(poisson.pmf(k=n_acidentes, mu=media_acidentes))"
      ],
      "execution_count": null,
      "outputs": [
        {
          "output_type": "execute_result",
          "data": {
            "text/plain": [
              "0.19216411681668827"
            ]
          },
          "metadata": {
            "tags": []
          },
          "execution_count": 10
        }
      ]
    },
    {
      "cell_type": "markdown",
      "metadata": {
        "id": "-hGFj67WZx9q"
      },
      "source": [
        "## Média mensal de acidentes"
      ]
    },
    {
      "cell_type": "code",
      "metadata": {
        "id": "st7JjKEsZyBj"
      },
      "source": [
        "dados['data_acidente'] = pd.to_datetime(dados['data_acidente'], errors='coerce')"
      ],
      "execution_count": null,
      "outputs": []
    },
    {
      "cell_type": "code",
      "metadata": {
        "id": "OlPVCS_BZyE7"
      },
      "source": [
        "dados['data_acidente_mensal'] = dados['data_acidente'].dt.strftime('%Y-%m')"
      ],
      "execution_count": null,
      "outputs": []
    },
    {
      "cell_type": "code",
      "metadata": {
        "id": "cbgVOaQOZyIK"
      },
      "source": [
        "dados_acidentes_mensal = dados.groupby('data_acidente_mensal') \\\n",
        "                              .size() \\\n",
        "                              .to_frame('n') \\\n",
        "                              .reset_index()"
      ],
      "execution_count": null,
      "outputs": []
    },
    {
      "cell_type": "code",
      "metadata": {
        "colab": {
          "base_uri": "https://localhost:8080/"
        },
        "id": "tvjLm9LDclrz",
        "outputId": "dc3d8310-3ebe-4e25-e152-a4625bdaeb62"
      },
      "source": [
        "np.mean(dados_acidentes_mensal['n'])"
      ],
      "execution_count": null,
      "outputs": [
        {
          "output_type": "execute_result",
          "data": {
            "text/plain": [
              "8.166666666666666"
            ]
          },
          "metadata": {
            "tags": []
          },
          "execution_count": 15
        }
      ]
    },
    {
      "cell_type": "markdown",
      "metadata": {
        "id": "1zmBvuLNclwK"
      },
      "source": [
        "## Utilizando a média mensal anterior, qual a probabilidade de ocorrer 7 acidentes"
      ]
    },
    {
      "cell_type": "code",
      "metadata": {
        "id": "G4l444QLgsjH"
      },
      "source": [
        "media_mensal = np.mean(dados_acidentes_mensal['n'])"
      ],
      "execution_count": null,
      "outputs": []
    },
    {
      "cell_type": "code",
      "metadata": {
        "colab": {
          "base_uri": "https://localhost:8080/"
        },
        "id": "c8rDANfOcl0U",
        "outputId": "22f5c921-2d00-466e-ad4c-6afc20e618b6"
      },
      "source": [
        "poisson.pmf(k = 7, mu=media_mensal)"
      ],
      "execution_count": null,
      "outputs": [
        {
          "output_type": "execute_result",
          "data": {
            "text/plain": [
              "0.13650388195181395"
            ]
          },
          "metadata": {
            "tags": []
          },
          "execution_count": 17
        }
      ]
    },
    {
      "cell_type": "markdown",
      "metadata": {
        "id": "tC3OapoXgjYx"
      },
      "source": [
        "## Probabilidade de ocorrer entre 4 a 6 acidentes"
      ]
    },
    {
      "cell_type": "code",
      "metadata": {
        "id": "v4G3eT0GgjcT"
      },
      "source": [
        "n_acidentes = np.arange(4, 7)"
      ],
      "execution_count": null,
      "outputs": []
    },
    {
      "cell_type": "code",
      "metadata": {
        "id": "iF3PLF0tgjgE"
      },
      "source": [
        "media_mensal = np.mean(dados_acidentes_mensal['n'])"
      ],
      "execution_count": null,
      "outputs": []
    },
    {
      "cell_type": "code",
      "metadata": {
        "colab": {
          "base_uri": "https://localhost:8080/"
        },
        "id": "syNT-MtFcl4D",
        "outputId": "899e7a0f-1884-48a7-97a2-375f4713cc0f"
      },
      "source": [
        "np.sum(poisson.pmf(k = n_acidentes, mu=media_mensal))"
      ],
      "execution_count": null,
      "outputs": [
        {
          "output_type": "execute_result",
          "data": {
            "text/plain": [
              "0.2555945240092576"
            ]
          },
          "metadata": {
            "tags": []
          },
          "execution_count": 22
        }
      ]
    }
  ]
}