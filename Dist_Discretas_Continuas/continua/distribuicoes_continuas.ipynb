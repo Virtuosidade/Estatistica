{
  "nbformat": 4,
  "nbformat_minor": 0,
  "metadata": {
    "colab": {
      "name": "distribuicoes_continuas.ipynb",
      "provenance": [],
      "collapsed_sections": []
    },
    "kernelspec": {
      "name": "python3",
      "display_name": "Python 3"
    },
    "language_info": {
      "name": "python"
    }
  },
  "cells": [
    {
      "cell_type": "markdown",
      "metadata": {
        "id": "CxBWmwR25ycM"
      },
      "source": [
        "# Exemplos Distribuições Contínuas"
      ]
    },
    {
      "cell_type": "markdown",
      "metadata": {
        "id": "axE7S8Dt56di"
      },
      "source": [
        "## Carregar módulos"
      ]
    },
    {
      "cell_type": "code",
      "metadata": {
        "id": "HcUH_etE56jf"
      },
      "source": [
        "import numpy as np\n",
        "import pandas as pd\n",
        "import matplotlib.pyplot as plt\n",
        "import seaborn as sns\n",
        "from scipy.stats import expon, norm, t, chi2, f"
      ],
      "execution_count": null,
      "outputs": []
    },
    {
      "cell_type": "markdown",
      "metadata": {
        "id": "lVGJpiHt56pC"
      },
      "source": [
        "## Exemplos simulados"
      ]
    },
    {
      "cell_type": "markdown",
      "metadata": {
        "id": "ejHvNy9256ux"
      },
      "source": [
        "##  Distribuição Exponencial"
      ]
    },
    {
      "cell_type": "code",
      "metadata": {
        "id": "KgUySEFk57IY"
      },
      "source": [
        "n = 60\n",
        "duracao_media = 12"
      ],
      "execution_count": null,
      "outputs": []
    },
    {
      "cell_type": "code",
      "metadata": {
        "id": "DOafPkN_Dcb6"
      },
      "source": [
        "resultados = np.arange(61)"
      ],
      "execution_count": null,
      "outputs": []
    },
    {
      "cell_type": "code",
      "metadata": {
        "id": "YzSd0bKADchR"
      },
      "source": [
        "probabilidades = expon.pdf(x = resultados, scale = duracao_media)"
      ],
      "execution_count": null,
      "outputs": []
    },
    {
      "cell_type": "code",
      "metadata": {
        "id": "SoT594lbDclY"
      },
      "source": [
        "dados_exponencial = pd.DataFrame(np.transpose([resultados, probabilidades]), \n",
        "                                 columns = ['resultados', 'probabilidades'])"
      ],
      "execution_count": null,
      "outputs": []
    },
    {
      "cell_type": "code",
      "metadata": {
        "colab": {
          "base_uri": "https://localhost:8080/",
          "height": 283
        },
        "id": "l8FBin9--98n",
        "outputId": "e74fef74-c84c-4244-ed55-f235955bf554"
      },
      "source": [
        "plt.bar(dados_exponencial['resultados'], dados_exponencial['probabilidades'])\n",
        "plt.plot(dados_exponencial['resultados'], dados_exponencial['probabilidades'], color = 'red')"
      ],
      "execution_count": null,
      "outputs": [
        {
          "output_type": "execute_result",
          "data": {
            "text/plain": [
              "[<matplotlib.lines.Line2D at 0x7fe5965bdbd0>]"
            ]
          },
          "metadata": {
            "tags": []
          },
          "execution_count": 6
        },
        {
          "output_type": "display_data",
          "data": {
            "image/png": "[encoded data removed]",
            "text/plain": [
              "<Figure size 432x288 with 1 Axes>"
            ]
          },
          "metadata": {
            "tags": [],
            "needs_background": "light"
          }
        }
      ]
    },
    {
      "cell_type": "markdown",
      "metadata": {
        "id": "s9-kF-C4Et6R"
      },
      "source": [
        "## Distribuição Normal"
      ]
    },
    {
      "cell_type": "code",
      "metadata": {
        "id": "RNFkKHFlnGoA"
      },
      "source": [
        "n = 70\n",
        "media = 30\n",
        "desvio_padrao = 6"
      ],
      "execution_count": null,
      "outputs": []
    },
    {
      "cell_type": "code",
      "metadata": {
        "id": "_MnDm-J1pics"
      },
      "source": [
        "resultados = np.linspace(0, 70, 141)"
      ],
      "execution_count": null,
      "outputs": []
    },
    {
      "cell_type": "code",
      "metadata": {
        "id": "G6GyX1K6pihj"
      },
      "source": [
        "probabilidades = norm.pdf(x = resultados, loc = media, scale = desvio_padrao)"
      ],
      "execution_count": null,
      "outputs": []
    },
    {
      "cell_type": "code",
      "metadata": {
        "id": "SPRJVlS8qQYf"
      },
      "source": [
        "dados_normal = pd.DataFrame(np.transpose([resultados, probabilidades]), \n",
        "                            columns = ['resultados', 'probabilidades'])"
      ],
      "execution_count": null,
      "outputs": []
    },
    {
      "cell_type": "code",
      "metadata": {
        "colab": {
          "base_uri": "https://localhost:8080/",
          "height": 283
        },
        "id": "5uJ9dn5_qQh_",
        "outputId": "bdb257ea-3705-4c6d-92c7-35369b79ae30"
      },
      "source": [
        "plt.bar(dados_normal['resultados'], dados_normal['probabilidades'])\n",
        "plt.plot(dados_normal['resultados'], dados_normal['probabilidades'], color = 'red')"
      ],
      "execution_count": null,
      "outputs": [
        {
          "output_type": "execute_result",
          "data": {
            "text/plain": [
              "[<matplotlib.lines.Line2D at 0x7fe595e23650>]"
            ]
          },
          "metadata": {
            "tags": []
          },
          "execution_count": 18
        },
        {
          "output_type": "display_data",
          "data": {
            "image/png": "[encoded data removed]",
            "text/plain": [
              "<Figure size 432x288 with 1 Axes>"
            ]
          },
          "metadata": {
            "tags": [],
            "needs_background": "light"
          }
        }
      ]
    },
    {
      "cell_type": "markdown",
      "metadata": {
        "id": "MLTmF2HjqQmZ"
      },
      "source": [
        "## Distribuição t"
      ]
    },
    {
      "cell_type": "code",
      "metadata": {
        "id": "23WzIAHCqhzH"
      },
      "source": [
        "n = 70\n",
        "media = 30\n",
        "desvio_padrao = 6"
      ],
      "execution_count": null,
      "outputs": []
    },
    {
      "cell_type": "code",
      "metadata": {
        "id": "B7MMR_rOqh3d"
      },
      "source": [
        "resultados = np.linspace(0, 70, 141)"
      ],
      "execution_count": null,
      "outputs": []
    },
    {
      "cell_type": "code",
      "metadata": {
        "id": "2ccXwZIc-J9M"
      },
      "source": [
        "probabilidades = t.pdf(x=resultados, loc=media, scale=desvio_padrao, df=n-1)*2"
      ],
      "execution_count": null,
      "outputs": []
    },
    {
      "cell_type": "code",
      "metadata": {
        "id": "RajHdYt2-WKV"
      },
      "source": [
        "dados_t = pd.DataFrame(np.transpose([resultados, probabilidades]), \n",
        "                       columns = ['resultados', 'probabilidades'])"
      ],
      "execution_count": null,
      "outputs": []
    },
    {
      "cell_type": "code",
      "metadata": {
        "colab": {
          "base_uri": "https://localhost:8080/",
          "height": 283
        },
        "id": "ELtAOZck-WPF",
        "outputId": "a159bb52-0ffa-48b0-a21f-06da9b9d4558"
      },
      "source": [
        "plt.bar(dados_t['resultados'], dados_t['probabilidades'])\n",
        "plt.plot(dados_t['resultados'], dados_t['probabilidades'], color = 'red')"
      ],
      "execution_count": null,
      "outputs": [
        {
          "output_type": "execute_result",
          "data": {
            "text/plain": [
              "[<matplotlib.lines.Line2D at 0x7fe5945c7550>]"
            ]
          },
          "metadata": {
            "tags": []
          },
          "execution_count": 61
        },
        {
          "output_type": "display_data",
          "data": {
            "image/png": "[encoded data removed]",
            "text/plain": [
              "<Figure size 432x288 with 1 Axes>"
            ]
          },
          "metadata": {
            "tags": [],
            "needs_background": "light"
          }
        }
      ]
    },
    {
      "cell_type": "markdown",
      "metadata": {
        "id": "0krPHGVh-WS0"
      },
      "source": [
        "## Qui Quadrado"
      ]
    },
    {
      "cell_type": "code",
      "metadata": {
        "id": "j16JufGG_054"
      },
      "source": [
        "n = 10"
      ],
      "execution_count": null,
      "outputs": []
    },
    {
      "cell_type": "code",
      "metadata": {
        "id": "4ih2f8Fk_0-c"
      },
      "source": [
        "resultados = np.linspace(0, 30, 61)"
      ],
      "execution_count": null,
      "outputs": []
    },
    {
      "cell_type": "code",
      "metadata": {
        "id": "dEALNHJm_1GM"
      },
      "source": [
        "probabilidades = chi2.pdf(x=resultados, df=n)"
      ],
      "execution_count": null,
      "outputs": []
    },
    {
      "cell_type": "code",
      "metadata": {
        "id": "6M2ORy7u--Ar"
      },
      "source": [
        "dados_chi2 = pd.DataFrame(np.transpose([resultados, probabilidades]), \n",
        "                          columns = ['resultados', 'probabilidades'])"
      ],
      "execution_count": null,
      "outputs": []
    },
    {
      "cell_type": "code",
      "metadata": {
        "colab": {
          "base_uri": "https://localhost:8080/",
          "height": 283
        },
        "id": "UV3_FkrrDK0t",
        "outputId": "47638ed9-77d4-4195-99a9-1c2857c3db7d"
      },
      "source": [
        "plt.bar(dados_chi2['resultados'], dados_chi2['probabilidades'])\n",
        "plt.plot(dados_chi2['resultados'], dados_chi2['probabilidades'], color = 'red')"
      ],
      "execution_count": null,
      "outputs": [
        {
          "output_type": "execute_result",
          "data": {
            "text/plain": [
              "[<matplotlib.lines.Line2D at 0x7fe5942dea90>]"
            ]
          },
          "metadata": {
            "tags": []
          },
          "execution_count": 71
        },
        {
          "output_type": "display_data",
          "data": {
            "image/png": "[encoded data removed]",
            "text/plain": [
              "<Figure size 432x288 with 1 Axes>"
            ]
          },
          "metadata": {
            "tags": [],
            "needs_background": "light"
          }
        }
      ]
    },
    {
      "cell_type": "markdown",
      "metadata": {
        "id": "lIMalqy2DK5s"
      },
      "source": [
        "## Distribuição F"
      ]
    },
    {
      "cell_type": "code",
      "metadata": {
        "id": "1uHHXfruDK-D"
      },
      "source": [
        "n1 = 5\n",
        "n2 = 4"
      ],
      "execution_count": null,
      "outputs": []
    },
    {
      "cell_type": "code",
      "metadata": {
        "id": "Z_4h6CK3Fexe"
      },
      "source": [
        "resultados = np.linspace(0, 30, 61)"
      ],
      "execution_count": null,
      "outputs": []
    },
    {
      "cell_type": "code",
      "metadata": {
        "id": "Q5MdWSgbFe2V"
      },
      "source": [
        "probabilidades = f.pdf(x=resultados, dfn=n1-1, dfd=n2-1)"
      ],
      "execution_count": null,
      "outputs": []
    },
    {
      "cell_type": "code",
      "metadata": {
        "id": "aUdxQXE-Fe6s"
      },
      "source": [
        "dados_f = pd.DataFrame(np.transpose([resultados, probabilidades]), \n",
        "                       columns = ['resultados', 'probabilidades'])"
      ],
      "execution_count": null,
      "outputs": []
    },
    {
      "cell_type": "code",
      "metadata": {
        "colab": {
          "base_uri": "https://localhost:8080/",
          "height": 283
        },
        "id": "6gfGAr6YDLCc",
        "outputId": "87f78de0-3b6e-409a-e6c1-44fd24f23d89"
      },
      "source": [
        "plt.bar(dados_f['resultados'], dados_f['probabilidades'])\n",
        "plt.plot(dados_f['resultados'], dados_f['probabilidades'], color = 'red')"
      ],
      "execution_count": null,
      "outputs": [
        {
          "output_type": "execute_result",
          "data": {
            "text/plain": [
              "[<matplotlib.lines.Line2D at 0x7fe5941817d0>]"
            ]
          },
          "metadata": {
            "tags": []
          },
          "execution_count": 82
        },
        {
          "output_type": "display_data",
          "data": {
            "image/png": "[encoded data removed]",
            "text/plain": [
              "<Figure size 432x288 with 1 Axes>"
            ]
          },
          "metadata": {
            "tags": [],
            "needs_background": "light"
          }
        }
      ]
    },
    {
      "cell_type": "code",
      "metadata": {
        "id": "UBSxpmBt57OH"
      },
      "source": [
        ""
      ],
      "execution_count": null,
      "outputs": []
    }
  ]
}