{
  "nbformat": 4,
  "nbformat_minor": 0,
  "metadata": {
    "colab": {
      "name": "Derivadas_e_integrais.ipynb",
      "provenance": [],
      "collapsed_sections": []
    },
    "kernelspec": {
      "name": "python3",
      "display_name": "Python 3"
    }
  },
  "cells": [
    {
      "cell_type": "markdown",
      "metadata": {
        "id": "u_ERwn-CEo3N"
      },
      "source": [
        "# Exemplos derivadas e integrais com python"
      ]
    },
    {
      "cell_type": "markdown",
      "metadata": {
        "id": "yIgLtY4ZEycl"
      },
      "source": [
        "## Carregar módulos"
      ]
    },
    {
      "cell_type": "code",
      "metadata": {
        "id": "kKnObobnEyg8"
      },
      "source": [
        "import numpy as np\n",
        "import sympy as smp\n",
        "import matplotlib.pyplot as plt"
      ],
      "execution_count": null,
      "outputs": []
    },
    {
      "cell_type": "markdown",
      "metadata": {
        "id": "8KZn3a87Eyld"
      },
      "source": [
        "## Exemplo integral"
      ]
    },
    {
      "cell_type": "code",
      "metadata": {
        "id": "-4BIxsiWEyo0"
      },
      "source": [
        "x = smp.Symbol('x')"
      ],
      "execution_count": null,
      "outputs": []
    },
    {
      "cell_type": "code",
      "metadata": {
        "colab": {
          "base_uri": "https://localhost:8080/",
          "height": 53
        },
        "id": "mg1FOfrREys9",
        "outputId": "461b7b1e-029b-4c9b-bb04-3b603e17e554"
      },
      "source": [
        "f = 2*x**2\n",
        "smp.integrate(f)"
      ],
      "execution_count": null,
      "outputs": [
        {
          "output_type": "execute_result",
          "data": {
            "text/plain": [
              "2*x**3/3"
            ],
            "text/latex": "$\\displaystyle \\frac{2 x^{3}}{3}$"
          },
          "metadata": {},
          "execution_count": 3
        }
      ]
    },
    {
      "cell_type": "markdown",
      "metadata": {
        "id": "WlgNqKL8Eywu"
      },
      "source": [
        "## Encontrando a área no intervalo entre 0 e 24"
      ]
    },
    {
      "cell_type": "code",
      "metadata": {
        "id": "ptjp_SFdEyz8"
      },
      "source": [
        "# intervalo\n",
        "minimo = 0\n",
        "maximo = 24\n",
        "n = 8"
      ],
      "execution_count": null,
      "outputs": []
    },
    {
      "cell_type": "code",
      "metadata": {
        "id": "QDTGKMaiMUCh"
      },
      "source": [
        "# tamanho dos intervalos\n",
        "dx = (maximo - minimo) / n"
      ],
      "execution_count": null,
      "outputs": []
    },
    {
      "cell_type": "code",
      "metadata": {
        "id": "OpsKwtGnMUMH"
      },
      "source": [
        "# transformar a funcao para ser utilizada em operações\n",
        "x = smp.Symbol('x')\n",
        "f = 2*x**2\n",
        "f_x = smp.lambdify(x, f)"
      ],
      "execution_count": null,
      "outputs": []
    },
    {
      "cell_type": "code",
      "metadata": {
        "id": "W5hg-xqFavMu"
      },
      "source": [
        "# criar a sequencia para o eixo x\n",
        "eixo_x = np.arange(minimo, maximo+dx, dx)"
      ],
      "execution_count": null,
      "outputs": []
    },
    {
      "cell_type": "code",
      "metadata": {
        "id": "_Tb63prvMUQn"
      },
      "source": [
        "# criar sequencia para eixo y\n",
        "eixo_y = [f_x(i) for i in eixo_x]"
      ],
      "execution_count": null,
      "outputs": []
    },
    {
      "cell_type": "code",
      "metadata": {
        "colab": {
          "base_uri": "https://localhost:8080/",
          "height": 267
        },
        "id": "D5K4iPNuMUU_",
        "outputId": "406727f3-6760-44a4-9a47-2c3bf09c2991"
      },
      "source": [
        "# criar o gráfico\n",
        "plt.bar(x = eixo_x, height = eixo_y, width=2)\n",
        "plt.plot(eixo_x, eixo_y, color='k')\n",
        "plt.show()"
      ],
      "execution_count": null,
      "outputs": [
        {
          "output_type": "display_data",
          "data": {
            "text/plain": [
              "<Figure size 432x288 with 1 Axes>"
            ],
            "image/png": "[encoded data removed]"
          },
          "metadata": {
            "needs_background": "light"
          }
        }
      ]
    },
    {
      "cell_type": "markdown",
      "metadata": {
        "id": "onZ_RXVVMUYu"
      },
      "source": [
        "## Área calculada pela soma"
      ]
    },
    {
      "cell_type": "markdown",
      "metadata": {
        "id": "_SU4hrqbYvRJ"
      },
      "source": [
        "- Criamos a $f(x) \\cdot \\Delta x$"
      ]
    },
    {
      "cell_type": "code",
      "metadata": {
        "id": "9t2SjZ0lgWNx"
      },
      "source": [
        "fx_dx = [i*dx for i in eixo_y]"
      ],
      "execution_count": null,
      "outputs": []
    },
    {
      "cell_type": "markdown",
      "metadata": {
        "id": "aWGrVGw-gZ2w"
      },
      "source": [
        "- Geramos a soma das áreas"
      ]
    },
    {
      "cell_type": "code",
      "metadata": {
        "colab": {
          "base_uri": "https://localhost:8080/"
        },
        "id": "cGFmafFSgZ-B",
        "outputId": "65b8e772-cbac-4a7a-effe-fc6e236831f8"
      },
      "source": [
        "sum(fx_dx)"
      ],
      "execution_count": null,
      "outputs": [
        {
          "output_type": "execute_result",
          "data": {
            "text/plain": [
              "11016.0"
            ]
          },
          "metadata": {},
          "execution_count": 11
        }
      ]
    },
    {
      "cell_type": "markdown",
      "metadata": {
        "id": "R6IJevAsf0F6"
      },
      "source": [
        "## Calculando integral"
      ]
    },
    {
      "cell_type": "code",
      "metadata": {
        "colab": {
          "base_uri": "https://localhost:8080/",
          "height": 53
        },
        "id": "z6iUBW5zYvWc",
        "outputId": "97548fd2-be3f-40be-feaa-ce03a28ce901"
      },
      "source": [
        "# obter integral\n",
        "x = smp.Symbol('x')\n",
        "f = 2*x**2\n",
        "funcao_integral = smp.integrate(f)\n",
        "funcao_integral"
      ],
      "execution_count": null,
      "outputs": [
        {
          "output_type": "execute_result",
          "data": {
            "text/plain": [
              "2*x**3/3"
            ],
            "text/latex": "$\\displaystyle \\frac{2 x^{3}}{3}$"
          },
          "metadata": {},
          "execution_count": 12
        }
      ]
    },
    {
      "cell_type": "code",
      "metadata": {
        "id": "ejodRC4gYvbh"
      },
      "source": [
        "# criar a função\n",
        "f_x = smp.lambdify(x, funcao_integral)"
      ],
      "execution_count": null,
      "outputs": []
    },
    {
      "cell_type": "code",
      "metadata": {
        "colab": {
          "base_uri": "https://localhost:8080/"
        },
        "id": "i_xLfZ9cYvfe",
        "outputId": "8e1bffe6-1aa2-48ac-f772-82a94be7b007"
      },
      "source": [
        "# obter o valor da integral\n",
        "f_x(24) - f_x(0)"
      ],
      "execution_count": null,
      "outputs": [
        {
          "output_type": "execute_result",
          "data": {
            "text/plain": [
              "9216.0"
            ]
          },
          "metadata": {},
          "execution_count": 14
        }
      ]
    },
    {
      "cell_type": "markdown",
      "metadata": {
        "id": "HgoAZD7KYvkO"
      },
      "source": [
        "## Calculando a integral utilizando a função integrate"
      ]
    },
    {
      "cell_type": "code",
      "metadata": {
        "colab": {
          "base_uri": "https://localhost:8080/",
          "height": 37
        },
        "id": "KAB020-xMUdH",
        "outputId": "41645a40-6b42-4c7c-e4ac-528de9dc2014"
      },
      "source": [
        "x = smp.Symbol('x')\n",
        "f = 2*x**2\n",
        "smp.integrate(f, (x, minimo, maximo))"
      ],
      "execution_count": null,
      "outputs": [
        {
          "output_type": "execute_result",
          "data": {
            "text/plain": [
              "9216"
            ],
            "text/latex": "$\\displaystyle 9216$"
          },
          "metadata": {},
          "execution_count": 15
        }
      ]
    },
    {
      "cell_type": "code",
      "metadata": {
        "id": "wjxpJHw1oyzD",
        "colab": {
          "base_uri": "https://localhost:8080/",
          "height": 37
        },
        "outputId": "570a4a74-9e18-415d-fc52-6632238351de"
      },
      "source": [
        "smp.integrate(f, (x, 0, 24))"
      ],
      "execution_count": null,
      "outputs": [
        {
          "output_type": "execute_result",
          "data": {
            "text/plain": [
              "9216"
            ],
            "text/latex": "$\\displaystyle 9216$"
          },
          "metadata": {},
          "execution_count": 16
        }
      ]
    },
    {
      "cell_type": "code",
      "source": [
        ""
      ],
      "metadata": {
        "id": "poCZbcf-YVjK"
      },
      "execution_count": null,
      "outputs": []
    }
  ]
}