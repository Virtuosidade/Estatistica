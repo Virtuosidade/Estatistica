{
  "nbformat": 4,
  "nbformat_minor": 0,
  "metadata": {
    "colab": {
      "name": "Teste_t.ipynb",
      "provenance": [],
      "collapsed_sections": []
    },
    "kernelspec": {
      "name": "python3",
      "display_name": "Python 3"
    },
    "language_info": {
      "name": "python"
    }
  },
  "cells": [
    {
      "cell_type": "markdown",
      "metadata": {
        "id": "0ia1IQfMoIh3"
      },
      "source": [
        "# Testes *t*"
      ]
    },
    {
      "cell_type": "markdown",
      "metadata": {
        "id": "UiEbPeLCoJo3"
      },
      "source": [
        "## Carregar módulos"
      ]
    },
    {
      "cell_type": "code",
      "metadata": {
        "colab": {
          "base_uri": "https://localhost:8080/"
        },
        "id": "04zQYQPUzNIY",
        "outputId": "b51f7208-c5e0-4e17-a756-7ba320a5483d"
      },
      "source": [
        "! sudo pip install scipy==1.7.1"
      ],
      "execution_count": null,
      "outputs": [
        {
          "output_type": "stream",
          "text": [
            "Collecting scipy==1.7.1\n",
            "  Downloading scipy-1.7.1-cp37-cp37m-manylinux_2_5_x86_64.manylinux1_x86_64.whl (28.5 MB)\n",
            "\u001b[K     |████████████████████████████████| 28.5 MB 44 kB/s \n",
            "\u001b[?25hRequirement already satisfied: numpy<1.23.0,>=1.16.5 in /usr/local/lib/python3.7/dist-packages (from scipy==1.7.1) (1.19.5)\n",
            "Installing collected packages: scipy\n",
            "  Attempting uninstall: scipy\n",
            "    Found existing installation: scipy 1.4.1\n",
            "    Uninstalling scipy-1.4.1:\n",
            "      Successfully uninstalled scipy-1.4.1\n",
            "\u001b[31mERROR: pip's dependency resolver does not currently take into account all the packages that are installed. This behaviour is the source of the following dependency conflicts.\n",
            "albumentations 0.1.12 requires imgaug<0.2.7,>=0.2.5, but you have imgaug 0.2.9 which is incompatible.\u001b[0m\n",
            "Successfully installed scipy-1.7.1\n"
          ],
          "name": "stdout"
        }
      ]
    },
    {
      "cell_type": "code",
      "metadata": {
        "id": "mmcD_K-CoJtM"
      },
      "source": [
        "import numpy as np\n",
        "import pandas as pd\n",
        "from scipy import stats as st"
      ],
      "execution_count": null,
      "outputs": []
    },
    {
      "cell_type": "markdown",
      "metadata": {
        "id": "I_Pfew99oJxT"
      },
      "source": [
        "## Carregar dados"
      ]
    },
    {
      "cell_type": "code",
      "metadata": {
        "id": "rfQBo2o2oJ1U"
      },
      "source": [
        "dados_profs = pd.read_csv('salarios_profs.csv', \n",
        "                          sep = ';', \n",
        "                          decimal = ',', \n",
        "                          encoding = 'latin1')"
      ],
      "execution_count": null,
      "outputs": []
    },
    {
      "cell_type": "code",
      "metadata": {
        "colab": {
          "base_uri": "https://localhost:8080/"
        },
        "id": "uvt9Uo4Ip3J1",
        "outputId": "7c762bb3-f0e7-4f15-c0e9-0440a67b6d42"
      },
      "source": [
        "dados_profs.shape"
      ],
      "execution_count": null,
      "outputs": [
        {
          "output_type": "execute_result",
          "data": {
            "text/plain": [
              "(25311, 13)"
            ]
          },
          "metadata": {},
          "execution_count": 4
        }
      ]
    },
    {
      "cell_type": "code",
      "metadata": {
        "colab": {
          "base_uri": "https://localhost:8080/",
          "height": 408
        },
        "id": "VSjhkIXRoJ5N",
        "outputId": "3fd0bed4-d17f-47fd-8bd0-1cd08c86bb33"
      },
      "source": [
        "dados_profs.head()"
      ],
      "execution_count": null,
      "outputs": [
        {
          "output_type": "execute_result",
          "data": {
            "text/html": [
              "<div>\n",
              "<style scoped>\n",
              "    .dataframe tbody tr th:only-of-type {\n",
              "        vertical-align: middle;\n",
              "    }\n",
              "\n",
              "    .dataframe tbody tr th {\n",
              "        vertical-align: top;\n",
              "    }\n",
              "\n",
              "    .dataframe thead th {\n",
              "        text-align: right;\n",
              "    }\n",
              "</style>\n",
              "<table border=\"1\" class=\"dataframe\">\n",
              "  <thead>\n",
              "    <tr style=\"text-align: right;\">\n",
              "      <th></th>\n",
              "      <th>NOME</th>\n",
              "      <th>UNID_ORGAO</th>\n",
              "      <th>DEPTO_SETOR</th>\n",
              "      <th>JORNADA</th>\n",
              "      <th>CATEGORIA</th>\n",
              "      <th>CLASSE</th>\n",
              "      <th>REF_MS</th>\n",
              "      <th>FUNCAO</th>\n",
              "      <th>FUNCAO_ESTRUTURA</th>\n",
              "      <th>TEMPO_USP</th>\n",
              "      <th>PARCELAS_EVENTUAIS</th>\n",
              "      <th>SALARIO_MENSAL</th>\n",
              "      <th>SALARIO_MENSAL_LIQUIDO</th>\n",
              "    </tr>\n",
              "  </thead>\n",
              "  <tbody>\n",
              "    <tr>\n",
              "      <th>0</th>\n",
              "      <td>Abel Elias Rahal</td>\n",
              "      <td>PUSP-RP</td>\n",
              "      <td>Seção Técnica de Práticas Esportivas</td>\n",
              "      <td>30 Horas</td>\n",
              "      <td>Celetista</td>\n",
              "      <td>Superior 2</td>\n",
              "      <td>A</td>\n",
              "      <td>Educador Em Praticas Desportivas</td>\n",
              "      <td>NaN</td>\n",
              "      <td>46</td>\n",
              "      <td>18432.97</td>\n",
              "      <td>12967.38</td>\n",
              "      <td>17584.07</td>\n",
              "    </tr>\n",
              "    <tr>\n",
              "      <th>1</th>\n",
              "      <td>Abel Lavorenti</td>\n",
              "      <td>ESALQ</td>\n",
              "      <td>Inativo</td>\n",
              "      <td>RDIDP</td>\n",
              "      <td>Doc Apos</td>\n",
              "      <td>Prof Titular</td>\n",
              "      <td>MS-6</td>\n",
              "      <td>Professor Titular</td>\n",
              "      <td>NaN</td>\n",
              "      <td>0</td>\n",
              "      <td>27516.80</td>\n",
              "      <td>27516.80</td>\n",
              "      <td>38598.04</td>\n",
              "    </tr>\n",
              "    <tr>\n",
              "      <th>2</th>\n",
              "      <td>Abelardo Cecilio de Souza</td>\n",
              "      <td>FMVZ</td>\n",
              "      <td>Clínica Médica</td>\n",
              "      <td>40 Horas</td>\n",
              "      <td>Celetista</td>\n",
              "      <td>Básico 3</td>\n",
              "      <td>A</td>\n",
              "      <td>Auxiliar de Laboratorio</td>\n",
              "      <td>NaN</td>\n",
              "      <td>29</td>\n",
              "      <td>6710.24</td>\n",
              "      <td>6710.24</td>\n",
              "      <td>7317.24</td>\n",
              "    </tr>\n",
              "    <tr>\n",
              "      <th>3</th>\n",
              "      <td>Abib Salim Cury</td>\n",
              "      <td>FORP</td>\n",
              "      <td>Inativo</td>\n",
              "      <td>RTP</td>\n",
              "      <td>Doc Apos</td>\n",
              "      <td>Prof Titular</td>\n",
              "      <td>MS-6</td>\n",
              "      <td>Professor Titular</td>\n",
              "      <td>NaN</td>\n",
              "      <td>0</td>\n",
              "      <td>7910.41</td>\n",
              "      <td>7910.41</td>\n",
              "      <td>10064.15</td>\n",
              "    </tr>\n",
              "    <tr>\n",
              "      <th>4</th>\n",
              "      <td>Abidias Lourenco de Alcantara</td>\n",
              "      <td>FCF</td>\n",
              "      <td>Seção de Manutenção e Reparos</td>\n",
              "      <td>40 Horas</td>\n",
              "      <td>Celetista</td>\n",
              "      <td>Básico 2</td>\n",
              "      <td>A</td>\n",
              "      <td>Encanador</td>\n",
              "      <td>NaN</td>\n",
              "      <td>22</td>\n",
              "      <td>4567.32</td>\n",
              "      <td>4636.18</td>\n",
              "      <td>5389.03</td>\n",
              "    </tr>\n",
              "  </tbody>\n",
              "</table>\n",
              "</div>"
            ],
            "text/plain": [
              "                            NOME  ... SALARIO_MENSAL_LIQUIDO\n",
              "0               Abel Elias Rahal  ...               17584.07\n",
              "1                 Abel Lavorenti  ...               38598.04\n",
              "2      Abelardo Cecilio de Souza  ...                7317.24\n",
              "3                Abib Salim Cury  ...               10064.15\n",
              "4  Abidias Lourenco de Alcantara  ...                5389.03\n",
              "\n",
              "[5 rows x 13 columns]"
            ]
          },
          "metadata": {},
          "execution_count": 5
        }
      ]
    },
    {
      "cell_type": "markdown",
      "metadata": {
        "id": "zM-rIKp0oJ88"
      },
      "source": [
        "## Teste t 1 grupo"
      ]
    },
    {
      "cell_type": "code",
      "metadata": {
        "id": "IrMBvumnoKBW"
      },
      "source": [
        "dados_profs_filtrados = dados_profs[(dados_profs['FUNCAO'] == 'Professor Titular') & \\\n",
        "                                    (dados_profs['JORNADA'] == 'RDIDP') & \\\n",
        "                                    (dados_profs['UNID_ORGAO'] == 'ICMC')]"
      ],
      "execution_count": null,
      "outputs": []
    },
    {
      "cell_type": "code",
      "metadata": {
        "id": "KWmXVhqgoKN-"
      },
      "source": [
        "dados_profs_filtrados = dados_profs_filtrados[['UNID_ORGAO', 'SALARIO_MENSAL_LIQUIDO']].reset_index(drop=True)"
      ],
      "execution_count": null,
      "outputs": []
    },
    {
      "cell_type": "code",
      "metadata": {
        "colab": {
          "base_uri": "https://localhost:8080/",
          "height": 80
        },
        "id": "SU9FfIDWoKTA",
        "outputId": "333954d7-247b-4d64-e4d8-adba7851bf83"
      },
      "source": [
        "dados_profs_filtrados.groupby('UNID_ORGAO') \\\n",
        "                     .agg(media_salarial = pd.NamedAgg('SALARIO_MENSAL_LIQUIDO', 'mean'),\n",
        "                          dp_salarial = pd.NamedAgg('SALARIO_MENSAL_LIQUIDO', 'std'),\n",
        "                          n = pd.NamedAgg('SALARIO_MENSAL_LIQUIDO', 'count')) \\\n",
        "                     .reset_index()"
      ],
      "execution_count": null,
      "outputs": [
        {
          "output_type": "execute_result",
          "data": {
            "text/html": [
              "<div>\n",
              "<style scoped>\n",
              "    .dataframe tbody tr th:only-of-type {\n",
              "        vertical-align: middle;\n",
              "    }\n",
              "\n",
              "    .dataframe tbody tr th {\n",
              "        vertical-align: top;\n",
              "    }\n",
              "\n",
              "    .dataframe thead th {\n",
              "        text-align: right;\n",
              "    }\n",
              "</style>\n",
              "<table border=\"1\" class=\"dataframe\">\n",
              "  <thead>\n",
              "    <tr style=\"text-align: right;\">\n",
              "      <th></th>\n",
              "      <th>UNID_ORGAO</th>\n",
              "      <th>media_salarial</th>\n",
              "      <th>dp_salarial</th>\n",
              "      <th>n</th>\n",
              "    </tr>\n",
              "  </thead>\n",
              "  <tbody>\n",
              "    <tr>\n",
              "      <th>0</th>\n",
              "      <td>ICMC</td>\n",
              "      <td>23877.174412</td>\n",
              "      <td>7878.579182</td>\n",
              "      <td>34</td>\n",
              "    </tr>\n",
              "  </tbody>\n",
              "</table>\n",
              "</div>"
            ],
            "text/plain": [
              "  UNID_ORGAO  media_salarial  dp_salarial   n\n",
              "0       ICMC    23877.174412  7878.579182  34"
            ]
          },
          "metadata": {},
          "execution_count": 18
        }
      ]
    },
    {
      "cell_type": "code",
      "metadata": {
        "colab": {
          "base_uri": "https://localhost:8080/"
        },
        "id": "2GAcQWhcsPP8",
        "outputId": "dc8e1cbc-7f85-4624-b845-f98d377a397d"
      },
      "source": [
        "st.ttest_1samp(a=dados_profs_filtrados['SALARIO_MENSAL_LIQUIDO'], \n",
        "               popmean=20000, \n",
        "               alternative = 'greater')"
      ],
      "execution_count": null,
      "outputs": [
        {
          "output_type": "execute_result",
          "data": {
            "text/plain": [
              "Ttest_1sampResult(statistic=2.8695043816953416, pvalue=0.003559845465165561)"
            ]
          },
          "metadata": {},
          "execution_count": 9
        }
      ]
    },
    {
      "cell_type": "markdown",
      "metadata": {
        "id": "_pmdjj7fxClY"
      },
      "source": [
        "## Teste t dois grupos"
      ]
    },
    {
      "cell_type": "code",
      "metadata": {
        "id": "f-9EyKlfxCqW"
      },
      "source": [
        "dados_profs_filtrados = dados_profs[(dados_profs['FUNCAO'] == 'Professor Titular') & \\\n",
        "                                    (dados_profs['JORNADA'] == 'RDIDP') & \\\n",
        "                                    (dados_profs['UNID_ORGAO'].isin(['FEA', 'ICMC']))]"
      ],
      "execution_count": null,
      "outputs": []
    },
    {
      "cell_type": "code",
      "metadata": {
        "id": "hN6B6Wouhlen"
      },
      "source": [
        "dados_profs_filtrados = dados_profs_filtrados[['UNID_ORGAO', 'SALARIO_MENSAL_LIQUIDO']].reset_index(drop=True)"
      ],
      "execution_count": null,
      "outputs": []
    },
    {
      "cell_type": "code",
      "metadata": {
        "colab": {
          "base_uri": "https://localhost:8080/",
          "height": 110
        },
        "id": "3yCMqR4phli5",
        "outputId": "f0c3ffcf-c643-4a6d-dc48-6bae8b6ecc4a"
      },
      "source": [
        "dados_profs_filtrados.groupby('UNID_ORGAO') \\\n",
        "                     .agg(media_salarial = pd.NamedAgg('SALARIO_MENSAL_LIQUIDO', 'mean'),\n",
        "                          dp_salarial = pd.NamedAgg('SALARIO_MENSAL_LIQUIDO', 'std'),\n",
        "                          n = pd.NamedAgg('SALARIO_MENSAL_LIQUIDO', 'count')) \\\n",
        "                     .reset_index()"
      ],
      "execution_count": null,
      "outputs": [
        {
          "output_type": "execute_result",
          "data": {
            "text/html": [
              "<div>\n",
              "<style scoped>\n",
              "    .dataframe tbody tr th:only-of-type {\n",
              "        vertical-align: middle;\n",
              "    }\n",
              "\n",
              "    .dataframe tbody tr th {\n",
              "        vertical-align: top;\n",
              "    }\n",
              "\n",
              "    .dataframe thead th {\n",
              "        text-align: right;\n",
              "    }\n",
              "</style>\n",
              "<table border=\"1\" class=\"dataframe\">\n",
              "  <thead>\n",
              "    <tr style=\"text-align: right;\">\n",
              "      <th></th>\n",
              "      <th>UNID_ORGAO</th>\n",
              "      <th>media_salarial</th>\n",
              "      <th>dp_salarial</th>\n",
              "      <th>n</th>\n",
              "    </tr>\n",
              "  </thead>\n",
              "  <tbody>\n",
              "    <tr>\n",
              "      <th>0</th>\n",
              "      <td>FEA</td>\n",
              "      <td>23604.992254</td>\n",
              "      <td>6177.725231</td>\n",
              "      <td>71</td>\n",
              "    </tr>\n",
              "    <tr>\n",
              "      <th>1</th>\n",
              "      <td>ICMC</td>\n",
              "      <td>23877.174412</td>\n",
              "      <td>7878.579182</td>\n",
              "      <td>34</td>\n",
              "    </tr>\n",
              "  </tbody>\n",
              "</table>\n",
              "</div>"
            ],
            "text/plain": [
              "  UNID_ORGAO  media_salarial  dp_salarial   n\n",
              "0        FEA    23604.992254  6177.725231  71\n",
              "1       ICMC    23877.174412  7878.579182  34"
            ]
          },
          "metadata": {},
          "execution_count": 22
        }
      ]
    },
    {
      "cell_type": "code",
      "metadata": {
        "id": "dLe-Li8_hlnH"
      },
      "source": [
        "gr1 = dados_profs_filtrados[dados_profs_filtrados['UNID_ORGAO'] == 'FEA']['SALARIO_MENSAL_LIQUIDO']\n",
        "gr2 = dados_profs_filtrados[dados_profs_filtrados['UNID_ORGAO'] == 'ICMC']['SALARIO_MENSAL_LIQUIDO']"
      ],
      "execution_count": null,
      "outputs": []
    },
    {
      "cell_type": "code",
      "metadata": {
        "colab": {
          "base_uri": "https://localhost:8080/"
        },
        "id": "PNnga8hOsPXk",
        "outputId": "af062281-aab8-47ff-8a6b-7089ad8382bb"
      },
      "source": [
        "st.ttest_ind(a=gr1, b=gr2, alternative='two-sided')"
      ],
      "execution_count": null,
      "outputs": [
        {
          "output_type": "execute_result",
          "data": {
            "text/plain": [
              "Ttest_indResult(statistic=-0.19279107673771528, pvalue=0.8475022218713747)"
            ]
          },
          "metadata": {},
          "execution_count": 14
        }
      ]
    }
  ]
}